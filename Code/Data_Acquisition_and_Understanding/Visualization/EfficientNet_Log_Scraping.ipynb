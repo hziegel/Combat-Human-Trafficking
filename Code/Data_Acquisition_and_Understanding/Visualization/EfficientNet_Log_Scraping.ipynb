{
 "cells": [
  {
   "cell_type": "code",
   "execution_count": 10,
   "id": "3a7add20",
   "metadata": {},
   "outputs": [
    {
     "name": "stdout",
     "output_type": "stream",
     "text": [
      "0.0000\n"
     ]
    }
   ],
   "source": [
    "# Scrape the numbers from accuracy scores in txt file\n",
    "numbers = []\n",
    "varX = \"accuracy: \"\n",
    "\n",
    "\n",
    "with open('efficientnet_logs.txt') as input_file:\n",
    "    for line in input_file:\n",
    "        if line.startswith('Training epoch'):\n",
    "            index = line.find(varX)+len(varX)\n",
    "            numbers.append(line[index:index+6])\n",
    "\n",
    "print(numbers[0])"
   ]
  },
  {
   "cell_type": "code",
   "execution_count": 11,
   "id": "7232b73a",
   "metadata": {},
   "outputs": [],
   "source": [
    "# Build a new CSV file with accuracy scores and line numbers\n",
    "import csv\n",
    "\n",
    "wtr = csv.writer(open ('accuracy_int.csv', 'w'), delimiter=',', lineterminator='\\n')\n",
    "count = 1\n",
    "for x in numbers:\n",
    "    if x.replace('.','',1).isdigit():\n",
    "        wtr.writerow([count] + [float(x)*1000])\n",
    "        count = count + 1"
   ]
  },
  {
   "cell_type": "code",
   "execution_count": null,
   "id": "342965f4",
   "metadata": {},
   "outputs": [],
   "source": []
  }
 ],
 "metadata": {
  "kernelspec": {
   "display_name": "Python 3 (ipykernel)",
   "language": "python",
   "name": "python3"
  },
  "language_info": {
   "codemirror_mode": {
    "name": "ipython",
    "version": 3
   },
   "file_extension": ".py",
   "mimetype": "text/x-python",
   "name": "python",
   "nbconvert_exporter": "python",
   "pygments_lexer": "ipython3",
   "version": "3.11.5"
  }
 },
 "nbformat": 4,
 "nbformat_minor": 5
}
