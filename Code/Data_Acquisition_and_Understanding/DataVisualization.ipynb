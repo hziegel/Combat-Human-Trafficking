{
  "nbformat": 4,
  "nbformat_minor": 0,
  "metadata": {
    "colab": {
      "provenance": []
    },
    "kernelspec": {
      "name": "python3",
      "display_name": "Python 3"
    },
    "language_info": {
      "name": "python"
    }
  },
  "cells": [
    {
      "cell_type": "code",
      "execution_count": 6,
      "metadata": {
        "colab": {
          "base_uri": "https://localhost:8080/"
        },
        "id": "rQQb_sk6R_kE",
        "outputId": "f80f39b2-5dab-42a4-8d82-ed037fab974c"
      },
      "outputs": [
        {
          "output_type": "stream",
          "name": "stdout",
          "text": [
            "Mounted at /content/drive\n"
          ]
        }
      ],
      "source": [
        "from google.colab import drive\n",
        "drive.mount('/content/drive')"
      ]
    },
    {
      "cell_type": "code",
      "source": [
        "# This line through the download and unzip lines NOT NEEDED unless you want to download all the data to your own drive\n",
        "!pip install -q kaggle"
      ],
      "metadata": {
        "id": "X85zdr8WSV_j"
      },
      "execution_count": null,
      "outputs": []
    },
    {
      "cell_type": "code",
      "source": [
        "# Create a new Kaggle token, download it locally and then upload to Colab\n",
        "# https://www.kaggle.com/docs/api\n",
        "from google.colab import files\n",
        "files.upload()"
      ],
      "metadata": {
        "colab": {
          "base_uri": "https://localhost:8080/",
          "height": 92
        },
        "id": "LPM7-LG8S_pd",
        "outputId": "3024d2c5-df8a-4998-a890-5754c2a0918d"
      },
      "execution_count": null,
      "outputs": [
        {
          "output_type": "display_data",
          "data": {
            "text/plain": [
              "<IPython.core.display.HTML object>"
            ],
            "text/html": [
              "\n",
              "     <input type=\"file\" id=\"files-61673bd6-11a1-4b5d-b177-aff33c7bb424\" name=\"files[]\" multiple disabled\n",
              "        style=\"border:none\" />\n",
              "     <output id=\"result-61673bd6-11a1-4b5d-b177-aff33c7bb424\">\n",
              "      Upload widget is only available when the cell has been executed in the\n",
              "      current browser session. Please rerun this cell to enable.\n",
              "      </output>\n",
              "      <script>// Copyright 2017 Google LLC\n",
              "//\n",
              "// Licensed under the Apache License, Version 2.0 (the \"License\");\n",
              "// you may not use this file except in compliance with the License.\n",
              "// You may obtain a copy of the License at\n",
              "//\n",
              "//      http://www.apache.org/licenses/LICENSE-2.0\n",
              "//\n",
              "// Unless required by applicable law or agreed to in writing, software\n",
              "// distributed under the License is distributed on an \"AS IS\" BASIS,\n",
              "// WITHOUT WARRANTIES OR CONDITIONS OF ANY KIND, either express or implied.\n",
              "// See the License for the specific language governing permissions and\n",
              "// limitations under the License.\n",
              "\n",
              "/**\n",
              " * @fileoverview Helpers for google.colab Python module.\n",
              " */\n",
              "(function(scope) {\n",
              "function span(text, styleAttributes = {}) {\n",
              "  const element = document.createElement('span');\n",
              "  element.textContent = text;\n",
              "  for (const key of Object.keys(styleAttributes)) {\n",
              "    element.style[key] = styleAttributes[key];\n",
              "  }\n",
              "  return element;\n",
              "}\n",
              "\n",
              "// Max number of bytes which will be uploaded at a time.\n",
              "const MAX_PAYLOAD_SIZE = 100 * 1024;\n",
              "\n",
              "function _uploadFiles(inputId, outputId) {\n",
              "  const steps = uploadFilesStep(inputId, outputId);\n",
              "  const outputElement = document.getElementById(outputId);\n",
              "  // Cache steps on the outputElement to make it available for the next call\n",
              "  // to uploadFilesContinue from Python.\n",
              "  outputElement.steps = steps;\n",
              "\n",
              "  return _uploadFilesContinue(outputId);\n",
              "}\n",
              "\n",
              "// This is roughly an async generator (not supported in the browser yet),\n",
              "// where there are multiple asynchronous steps and the Python side is going\n",
              "// to poll for completion of each step.\n",
              "// This uses a Promise to block the python side on completion of each step,\n",
              "// then passes the result of the previous step as the input to the next step.\n",
              "function _uploadFilesContinue(outputId) {\n",
              "  const outputElement = document.getElementById(outputId);\n",
              "  const steps = outputElement.steps;\n",
              "\n",
              "  const next = steps.next(outputElement.lastPromiseValue);\n",
              "  return Promise.resolve(next.value.promise).then((value) => {\n",
              "    // Cache the last promise value to make it available to the next\n",
              "    // step of the generator.\n",
              "    outputElement.lastPromiseValue = value;\n",
              "    return next.value.response;\n",
              "  });\n",
              "}\n",
              "\n",
              "/**\n",
              " * Generator function which is called between each async step of the upload\n",
              " * process.\n",
              " * @param {string} inputId Element ID of the input file picker element.\n",
              " * @param {string} outputId Element ID of the output display.\n",
              " * @return {!Iterable<!Object>} Iterable of next steps.\n",
              " */\n",
              "function* uploadFilesStep(inputId, outputId) {\n",
              "  const inputElement = document.getElementById(inputId);\n",
              "  inputElement.disabled = false;\n",
              "\n",
              "  const outputElement = document.getElementById(outputId);\n",
              "  outputElement.innerHTML = '';\n",
              "\n",
              "  const pickedPromise = new Promise((resolve) => {\n",
              "    inputElement.addEventListener('change', (e) => {\n",
              "      resolve(e.target.files);\n",
              "    });\n",
              "  });\n",
              "\n",
              "  const cancel = document.createElement('button');\n",
              "  inputElement.parentElement.appendChild(cancel);\n",
              "  cancel.textContent = 'Cancel upload';\n",
              "  const cancelPromise = new Promise((resolve) => {\n",
              "    cancel.onclick = () => {\n",
              "      resolve(null);\n",
              "    };\n",
              "  });\n",
              "\n",
              "  // Wait for the user to pick the files.\n",
              "  const files = yield {\n",
              "    promise: Promise.race([pickedPromise, cancelPromise]),\n",
              "    response: {\n",
              "      action: 'starting',\n",
              "    }\n",
              "  };\n",
              "\n",
              "  cancel.remove();\n",
              "\n",
              "  // Disable the input element since further picks are not allowed.\n",
              "  inputElement.disabled = true;\n",
              "\n",
              "  if (!files) {\n",
              "    return {\n",
              "      response: {\n",
              "        action: 'complete',\n",
              "      }\n",
              "    };\n",
              "  }\n",
              "\n",
              "  for (const file of files) {\n",
              "    const li = document.createElement('li');\n",
              "    li.append(span(file.name, {fontWeight: 'bold'}));\n",
              "    li.append(span(\n",
              "        `(${file.type || 'n/a'}) - ${file.size} bytes, ` +\n",
              "        `last modified: ${\n",
              "            file.lastModifiedDate ? file.lastModifiedDate.toLocaleDateString() :\n",
              "                                    'n/a'} - `));\n",
              "    const percent = span('0% done');\n",
              "    li.appendChild(percent);\n",
              "\n",
              "    outputElement.appendChild(li);\n",
              "\n",
              "    const fileDataPromise = new Promise((resolve) => {\n",
              "      const reader = new FileReader();\n",
              "      reader.onload = (e) => {\n",
              "        resolve(e.target.result);\n",
              "      };\n",
              "      reader.readAsArrayBuffer(file);\n",
              "    });\n",
              "    // Wait for the data to be ready.\n",
              "    let fileData = yield {\n",
              "      promise: fileDataPromise,\n",
              "      response: {\n",
              "        action: 'continue',\n",
              "      }\n",
              "    };\n",
              "\n",
              "    // Use a chunked sending to avoid message size limits. See b/62115660.\n",
              "    let position = 0;\n",
              "    do {\n",
              "      const length = Math.min(fileData.byteLength - position, MAX_PAYLOAD_SIZE);\n",
              "      const chunk = new Uint8Array(fileData, position, length);\n",
              "      position += length;\n",
              "\n",
              "      const base64 = btoa(String.fromCharCode.apply(null, chunk));\n",
              "      yield {\n",
              "        response: {\n",
              "          action: 'append',\n",
              "          file: file.name,\n",
              "          data: base64,\n",
              "        },\n",
              "      };\n",
              "\n",
              "      let percentDone = fileData.byteLength === 0 ?\n",
              "          100 :\n",
              "          Math.round((position / fileData.byteLength) * 100);\n",
              "      percent.textContent = `${percentDone}% done`;\n",
              "\n",
              "    } while (position < fileData.byteLength);\n",
              "  }\n",
              "\n",
              "  // All done.\n",
              "  yield {\n",
              "    response: {\n",
              "      action: 'complete',\n",
              "    }\n",
              "  };\n",
              "}\n",
              "\n",
              "scope.google = scope.google || {};\n",
              "scope.google.colab = scope.google.colab || {};\n",
              "scope.google.colab._files = {\n",
              "  _uploadFiles,\n",
              "  _uploadFilesContinue,\n",
              "};\n",
              "})(self);\n",
              "</script> "
            ]
          },
          "metadata": {}
        },
        {
          "output_type": "stream",
          "name": "stdout",
          "text": [
            "Saving kaggle.json to kaggle.json\n"
          ]
        },
        {
          "output_type": "execute_result",
          "data": {
            "text/plain": [
              "{'kaggle.json': b'{\"username\":\"heronziegel\",\"key\":\"7ccebd015e13a33dd58a881d4acb5bb0\"}'}"
            ]
          },
          "metadata": {},
          "execution_count": 6
        }
      ]
    },
    {
      "cell_type": "code",
      "source": [
        "!mkdir -p ~/.kaggle\n",
        "!cp kaggle.json ~/.kaggle/\n",
        "!chmod 600 ~/.kaggle/kaggle.json"
      ],
      "metadata": {
        "id": "nN6BxwegTLV6"
      },
      "execution_count": null,
      "outputs": []
    },
    {
      "cell_type": "code",
      "source": [
        "%cd /content/drive/MyDrive/Combat-Human-Trafficking\n",
        "!kaggle competitions download -c hotel-id-to-combat-human-trafficking-2022-fgvc9"
      ],
      "metadata": {
        "colab": {
          "base_uri": "https://localhost:8080/"
        },
        "id": "77-0sx-PThJz",
        "outputId": "3eaafa73-e66e-4803-955d-a20a4b1c974c"
      },
      "execution_count": null,
      "outputs": [
        {
          "output_type": "stream",
          "name": "stdout",
          "text": [
            "/content/drive/MyDrive/Combat-Human-Trafficking\n",
            "Downloading hotel-id-to-combat-human-trafficking-2022-fgvc9.zip to /content/drive/MyDrive/Combat-Human-Trafficking\n",
            "100% 14.0G/14.0G [03:22<00:00, 105MB/s] \n",
            "100% 14.0G/14.0G [03:22<00:00, 74.4MB/s]\n"
          ]
        }
      ]
    },
    {
      "cell_type": "code",
      "source": [
        "path = '/content/drive/MyDrive/Combat-Human-Trafficking/'\n",
        "import zipfile\n",
        "with zipfile.ZipFile(path+'hotel-id-to-combat-human-trafficking-2022-fgvc9.zip', 'r') as zip_ref:\n",
        "    zip_ref.extractall(path)"
      ],
      "metadata": {
        "id": "UO5__U2IVoHv"
      },
      "execution_count": null,
      "outputs": []
    },
    {
      "cell_type": "code",
      "source": [
        "# Everything above this line should only need to be run once\n",
        "# Imports for data visualization:\n",
        "import numpy as np\n",
        "import pandas as pd\n",
        "import random\n",
        "import os\n",
        "from PIL import Image as pil_image\n",
        "from tqdm import tqdm\n",
        "\n",
        "import matplotlib\n",
        "import matplotlib.pyplot as plt\n",
        "\n",
        "import plotly.graph_objects as go\n",
        "import plotly.express as px\n",
        "from plotly.subplots import make_subplots\n",
        "import torch\n",
        "import torch.nn as nn\n",
        "from torch.utils.data import DataLoader\n",
        "\n",
        "import timm\n",
        "\n",
        "from sklearn.metrics.pairwise import cosine_similarity"
      ],
      "metadata": {
        "id": "vBnw7ynkaA1H"
      },
      "execution_count": 3,
      "outputs": []
    },
    {
      "cell_type": "code",
      "source": [
        "IMG_SIZE = 256\n",
        "SEED = 42\n",
        "N_MATCHES = 5\n",
        "\n",
        "PROJECT_FOLDER = \"/content/drive/MyDrive/Combat-Human-Trafficking/\"\n",
        "DATA_FOLDER = \"/content/drive/MyDrive/Combat-Human-Trafficking/\"\n",
        "IMAGE_FOLDER = DATA_FOLDER + \"train_images/\"\n",
        "OUTPUT_FOLDER = \"\"\n",
        "\n",
        "train_df = pd.read_csv(os.path.join(DATA_FOLDER, 'train.csv'))"
      ],
      "metadata": {
        "id": "XV1qwUwfOvtQ"
      },
      "execution_count": 26,
      "outputs": []
    },
    {
      "cell_type": "code",
      "source": [
        "def seed_everything(seed):\n",
        "    random.seed(seed)\n",
        "    os.environ['PYTHONHASHSEED'] = str(seed)\n",
        "    np.random.seed(seed)\n",
        "    torch.manual_seed(seed)\n",
        "    torch.cuda.manual_seed(seed)\n",
        "    torch.backends.cudnn.deterministic = True"
      ],
      "metadata": {
        "id": "zAfhRH-zPdlS"
      },
      "execution_count": 8,
      "outputs": []
    },
    {
      "cell_type": "code",
      "source": [
        "import albumentations as A\n",
        "import albumentations.pytorch as APT\n",
        "import cv2\n",
        "\n",
        "# used for training dataset - augmentations and occlusions\n",
        "train_transform = A.Compose([\n",
        "    #A.RandomCrop(width=256, height=256),\n",
        "    #A.HorizontalFlip(p=0.75),\n",
        "    A.VerticalFlip(p=0.5),\n",
        "    A.ShiftScaleRotate(p=0.5, shift_limit=0.0625, scale_limit=0.1, rotate_limit=10, interpolation=cv2.INTER_NEAREST, border_mode=cv2.BORDER_CONSTANT),\n",
        "    A.OpticalDistortion(p=0.25, distort_limit=0.05, shift_limit=0.01),\n",
        "    A.Perspective(p=0.25, scale=(0.05, 0.1)),\n",
        "    A.ColorJitter(p=0.75, brightness=0.25, contrast=0.25, saturation=0.15, hue=0.065),\n",
        "    A.CoarseDropout(p=0.5, min_holes=1, max_holes=5,\n",
        "                    min_height=IMG_SIZE//16, max_height=IMG_SIZE//8,\n",
        "                    min_width=IMG_SIZE//16,  max_width=IMG_SIZE//8), # normal coarse dropout\n",
        "\n",
        "    A.CoarseDropout(p=0.75, max_holes=1,\n",
        "                    min_height=IMG_SIZE//4, max_height=IMG_SIZE//2,\n",
        "                    min_width=IMG_SIZE//4,  max_width=IMG_SIZE//2,\n",
        "                    fill_value=(255,0,0)),# simulating occlusions in test data\n",
        "    #A.RandomBrightnessContrast(p=0.75),\n",
        "    A.ToFloat(),\n",
        "    APT.transforms.ToTensorV2(),\n",
        "])\n",
        "\n",
        "# used for validation dataset - only occlusions\n",
        "val_transform = A.Compose([\n",
        "    A.CoarseDropout(p=0.75, max_holes=1,\n",
        "                    min_height=IMG_SIZE//4, max_height=IMG_SIZE//2,\n",
        "                    min_width=IMG_SIZE//4,  max_width=IMG_SIZE//2,\n",
        "                    fill_value=(255,0,0)),# simulating occlusions\n",
        "    A.ToFloat(),\n",
        "    APT.transforms.ToTensorV2(),\n",
        "])\n",
        "\n",
        "# no augmentations\n",
        "base_transform = A.Compose([\n",
        "    A.ToFloat(),\n",
        "    APT.transforms.ToTensorV2(),\n",
        "])\n",
        "\n",
        "A.CoarseDropout(p=1., max_holes=1,\n",
        "                min_height=IMG_SIZE//4, max_height=IMG_SIZE//2,\n",
        "                min_width=IMG_SIZE//4,  max_width=IMG_SIZE//2,\n",
        "                fill_value=(255,0,0))"
      ],
      "metadata": {
        "colab": {
          "base_uri": "https://localhost:8080/"
        },
        "id": "vkLcKm4bRbdG",
        "outputId": "b12ef549-eba1-465c-df84-f32722b50303"
      },
      "execution_count": 10,
      "outputs": [
        {
          "output_type": "stream",
          "name": "stderr",
          "text": [
            "/usr/local/lib/python3.11/dist-packages/albumentations/core/validation.py:58: UserWarning: ShiftScaleRotate is a special case of Affine transform. Please use Affine transform instead.\n",
            "  original_init(self, **validated_kwargs)\n",
            "<ipython-input-10-4680b75bb1ae>:11: UserWarning: Argument(s) 'shift_limit' are not valid for transform OpticalDistortion\n",
            "  A.OpticalDistortion(p=0.25, distort_limit=0.05, shift_limit=0.01),\n",
            "<ipython-input-10-4680b75bb1ae>:14: UserWarning: Argument(s) 'min_holes, max_holes, min_height, max_height, min_width, max_width' are not valid for transform CoarseDropout\n",
            "  A.CoarseDropout(p=0.5, min_holes=1, max_holes=5,\n",
            "<ipython-input-10-4680b75bb1ae>:18: UserWarning: Argument(s) 'max_holes, min_height, max_height, min_width, max_width, fill_value' are not valid for transform CoarseDropout\n",
            "  A.CoarseDropout(p=0.75, max_holes=1,\n",
            "<ipython-input-10-4680b75bb1ae>:29: UserWarning: Argument(s) 'max_holes, min_height, max_height, min_width, max_width, fill_value' are not valid for transform CoarseDropout\n",
            "  A.CoarseDropout(p=0.75, max_holes=1,\n",
            "<ipython-input-10-4680b75bb1ae>:43: UserWarning: Argument(s) 'max_holes, min_height, max_height, min_width, max_width, fill_value' are not valid for transform CoarseDropout\n",
            "  A.CoarseDropout(p=1., max_holes=1,\n"
          ]
        },
        {
          "output_type": "execute_result",
          "data": {
            "text/plain": [
              "CoarseDropout(p=1.0, fill=0.0, fill_mask=None, num_holes_range=(1, 2), hole_height_range=(0.1, 0.2), hole_width_range=(0.1, 0.2))"
            ]
          },
          "metadata": {},
          "execution_count": 10
        }
      ]
    },
    {
      "cell_type": "code",
      "source": [
        "class HotelTrainDataset:\n",
        "    def __init__(self, data, transform=None, data_path=\"train_images/\"):\n",
        "        self.data = data\n",
        "        self.data_path = data_path\n",
        "        self.transform = transform\n",
        "\n",
        "    def __len__(self):\n",
        "        return len(self.data)\n",
        "\n",
        "    def __getitem__(self, idx):\n",
        "        record = self.data.iloc[idx]\n",
        "        image_path = self.data_path + record[\"image_id\"]\n",
        "        image = np.array(pil_image.open(image_path)).astype(np.uint8)\n",
        "\n",
        "        if self.transform:\n",
        "            transformed = self.transform(image=image)\n",
        "            image = transformed[\"image\"]\n",
        "\n",
        "        return {\n",
        "            \"image\" : image,\n",
        "            \"target\" : record['hotel_id_code'],\n",
        "        }"
      ],
      "metadata": {
        "id": "AnGFVVHdRxP4"
      },
      "execution_count": 11,
      "outputs": []
    },
    {
      "cell_type": "code",
      "source": [
        "class EmbeddingModel(nn.Module):\n",
        "    def __init__(self, n_classes=100, embedding_size=64, backbone_name=\"efficientnet_b0\"):\n",
        "        super(EmbeddingModel, self).__init__()\n",
        "\n",
        "        self.backbone = timm.create_model(backbone_name, num_classes=n_classes, pretrained=True)\n",
        "        in_features = self.backbone.get_classifier().in_features\n",
        "\n",
        "        self.backbone.classifier = nn.Identity()\n",
        "        self.embedding = nn.Linear(in_features, embedding_size)\n",
        "        self.classifier = nn.Linear(embedding_size, n_classes)\n",
        "\n",
        "    def embed_and_classify(self, x):\n",
        "        x = self.forward(x)\n",
        "        return x, self.classifier(x)\n",
        "\n",
        "    def forward(self, x):\n",
        "        x = self.backbone(x)\n",
        "        x = x.view(x.size(0), -1)\n",
        "        x = self.embedding(x)\n",
        "        return x"
      ],
      "metadata": {
        "id": "zV7LV9DNR1p2"
      },
      "execution_count": 12,
      "outputs": []
    },
    {
      "cell_type": "code",
      "source": [
        "# method to iterate loader and generate embeddings of images\n",
        "# returns embeddings and image class\n",
        "def generate_embeddings(loader, model, bar_desc=\"Generating embeds\"):\n",
        "    targets_all = []\n",
        "    outputs_all = []\n",
        "\n",
        "    model.eval()\n",
        "    with torch.no_grad():\n",
        "        t = tqdm(loader, desc=bar_desc)\n",
        "        for i, sample in enumerate(t):\n",
        "            input = sample['image'].to(args.device)\n",
        "            target = sample['target'].to(args.device)\n",
        "            output = model(input)\n",
        "\n",
        "            targets_all.extend(target.cpu().numpy())\n",
        "            outputs_all.extend(output.detach().cpu().numpy())\n",
        "\n",
        "    targets_all = np.array(targets_all).astype(np.float32)\n",
        "    outputs_all = np.array(outputs_all).astype(np.float32)\n",
        "\n",
        "    return outputs_all, targets_all"
      ],
      "metadata": {
        "id": "-nnPJtPUR6Xv"
      },
      "execution_count": 13,
      "outputs": []
    },
    {
      "cell_type": "code",
      "source": [
        "def save_checkpoint(model, scheduler, optimizer, epoch, name, loss=None, score=None):\n",
        "    checkpoint = {\"epoch\": epoch,\n",
        "                  \"model\": model.state_dict(),\n",
        "                  \"scheduler\": scheduler.state_dict(),\n",
        "                  \"optimizer\": optimizer.state_dict(),\n",
        "                  \"loss\": loss,\n",
        "                  \"score\": score,\n",
        "                  }\n",
        "\n",
        "    torch.save(checkpoint, f\"{OUTPUT_FOLDER}checkpoint-{name}.pt\")\n",
        "\n",
        "\n",
        "def load_checkpoint(model, scheduler, optimizer, name):\n",
        "    checkpoint = torch.load(f\"{OUTPUT_FOLDER}checkpoint-{name}.pt\")\n",
        "\n",
        "    model.load_state_dict(checkpoint[\"model\"])\n",
        "    scheduler.load_state_dict(checkpoint[\"scheduler\"])\n",
        "    return model, scheduler, optimizer, checkpoint[\"epoch\"]"
      ],
      "metadata": {
        "id": "IPScF11dR-OU"
      },
      "execution_count": 14,
      "outputs": []
    },
    {
      "cell_type": "code",
      "source": [
        "def train_epoch(args, model, loader, criterion, optimizer, scheduler, epoch):\n",
        "    losses = []\n",
        "    targets_all = []\n",
        "    outputs_all = []\n",
        "\n",
        "    model.train()\n",
        "    t = tqdm(loader)\n",
        "\n",
        "    for i, sample in enumerate(t):\n",
        "        optimizer.zero_grad()\n",
        "\n",
        "        images = sample['image'].to(args.device)\n",
        "        targets = sample['target'].to(args.device)\n",
        "\n",
        "        _, outputs = model.embed_and_classify(images)\n",
        "        loss = criterion(outputs, targets)\n",
        "\n",
        "        loss.backward()\n",
        "        optimizer.step()\n",
        "\n",
        "        if scheduler:\n",
        "            scheduler.step()\n",
        "\n",
        "        losses.append(loss.item())\n",
        "        targets_all.extend(targets.cpu().numpy())\n",
        "        outputs_all.extend(torch.sigmoid(outputs).detach().cpu().numpy())\n",
        "\n",
        "        score = np.mean(targets_all == np.argmax(outputs_all, axis=1))\n",
        "        desc = f\"Training epoch {epoch}/{args.epochs} - loss:{loss:0.4f}, accuracy: {score:0.4f}\"\n",
        "        t.set_description(desc)\n",
        "\n",
        "    return np.mean(losses), score"
      ],
      "metadata": {
        "id": "5kdm3zGvSBIS"
      },
      "execution_count": 15,
      "outputs": []
    },
    {
      "cell_type": "code",
      "source": [
        "def test_classification(loader, model):\n",
        "    targets_all = []\n",
        "    outputs_all = []\n",
        "\n",
        "    model.eval()\n",
        "    t = tqdm(loader, desc=\"Classification\")\n",
        "\n",
        "    for i, sample in enumerate(t):\n",
        "        images = sample['image'].to(args.device)\n",
        "        targets = sample['target'].to(args.device)\n",
        "\n",
        "        _, outputs = model.embed_and_classify(images)\n",
        "\n",
        "        targets_all.extend(targets.cpu().numpy())\n",
        "        outputs_all.extend(torch.sigmoid(outputs).detach().cpu().numpy())\n",
        "\n",
        "\n",
        "    # repeat targets to N_MATCHES for easy calculation of MAP@5\n",
        "    y = np.repeat([targets_all], repeats=N_MATCHES, axis=0).T\n",
        "    # sort predictions and get top 5\n",
        "    preds = np.argsort(-np.array(outputs_all), axis=1)[:, :N_MATCHES]\n",
        "    # check if any of top 5 predictions are correct and calculate mean accuracy\n",
        "    acc_top_5 = (preds == y).any(axis=1).mean()\n",
        "    # calculate prediction accuracy\n",
        "    acc_top_1 = np.mean(targets_all == np.argmax(outputs_all, axis=1))\n",
        "\n",
        "    print(f\"Classification accuracy: {acc_top_1:0.4f}, MAP@5: {acc_top_5:0.4f}\")"
      ],
      "metadata": {
        "id": "UYVyJhihSEbt"
      },
      "execution_count": 16,
      "outputs": []
    },
    {
      "cell_type": "code",
      "source": [
        "# find 5 most similar images from different hotels and return their hotel_id_code\n",
        "def find_matches(query, base_embeds, base_targets, k=N_MATCHES):\n",
        "    distance_df = pd.DataFrame(index=np.arange(len(base_targets)), data={\"hotel_id_code\": base_targets})\n",
        "    # calculate cosine distance of query embeds to all base embeds\n",
        "    distance_df[\"distance\"] = cosine_similarity([query], base_embeds)[0]\n",
        "    # sort by distance and hotel_id\n",
        "    distance_df = distance_df.sort_values(by=[\"distance\", \"hotel_id_code\"], ascending=False).reset_index(drop=True)\n",
        "    # return first 5 different hotel_id_codes\n",
        "    return distance_df[\"hotel_id_code\"].unique()[:N_MATCHES]\n",
        "\n",
        "\n",
        "def test_similarity(args, base_loader, test_loader, model):\n",
        "    base_embeds, base_targets = generate_embeddings(base_loader, model, \"Generate base embeddings\")\n",
        "    test_embeds, test_targets = generate_embeddings(test_loader, model, \"Generate test embeddings\")\n",
        "\n",
        "    preds = []\n",
        "    for query_embeds in tqdm(test_embeds, desc=\"Similarity - match finding\"):\n",
        "        tmp = find_matches(query_embeds, base_embeds, base_targets)\n",
        "        preds.extend([tmp])\n",
        "\n",
        "    preds = np.array(preds)\n",
        "    test_targets_N = np.repeat([test_targets], repeats=N_MATCHES, axis=0).T\n",
        "    # check if any of top 5 predictions are correct and calculate mean accuracy\n",
        "    acc_top_5 = (preds == test_targets_N).any(axis=1).mean()\n",
        "    # calculate prediction accuracy\n",
        "    acc_top_1 = np.mean(test_targets == preds[:, 0])\n",
        "    print(f\"Similarity accuracy: {acc_top_1:0.4f}, MAP@5: {acc_top_5:0.4f}\")"
      ],
      "metadata": {
        "id": "Bp_8bGjWSHBV"
      },
      "execution_count": 17,
      "outputs": []
    },
    {
      "cell_type": "code",
      "source": [
        "data_df = pd.read_csv(DATA_FOLDER + \"train.csv\")\n",
        "# encode hotel ids\n",
        "data_df[\"hotel_id_code\"] = data_df[\"hotel_id\"].astype('category').cat.codes.values.astype(np.int64)"
      ],
      "metadata": {
        "id": "lXVKwuMdSLV7"
      },
      "execution_count": 18,
      "outputs": []
    },
    {
      "cell_type": "code",
      "source": [
        "# save hotel_id encoding for later decoding\n",
        "hotel_id_code_df = data_df.drop(columns=[\"image_id\"]).drop_duplicates().reset_index(drop=True)\n",
        "hotel_id_code_df.to_csv(OUTPUT_FOLDER + 'hotel_id_code_mapping.csv', index=False)\n",
        "# hotel_id_code_map = hotel_id_code_df.set_index('hotel_id_code').to_dict()[\"hotel_id\"]"
      ],
      "metadata": {
        "id": "-njjtltdSOu1"
      },
      "execution_count": 19,
      "outputs": []
    },
    {
      "cell_type": "code",
      "source": [
        "def rescale(counts_dict):\n",
        "    max_size = max(counts_dict.values())\n",
        "\n",
        "    new_counts = {k: rescale_fun(c, max_size) for k, c in counts_dict.items()}\n",
        "    return new_counts\n",
        "\n",
        "def rescale_fun(size, m):\n",
        "    UPPER = m//4.500 #1.393\n",
        "    LOWER = 8\n",
        "    SCALING = (UPPER - min(UPPER, size))/UPPER\n",
        "    SCALING = SCALING if SCALING else 1\n",
        "    return int(min(UPPER, size * LOWER * SCALING))  # Do something curvy\n",
        "\n",
        "counts = data_df['hotel_id'].value_counts().sort_values(ascending=False)\n",
        "counts_dict = {  id_: count for id_, count in counts.items()}\n",
        "rescaling = rescale(counts_dict)\n",
        "new_mapping = []\n",
        "for index, row in data_df.iterrows():\n",
        "    id_ = row['hotel_id']\n",
        "    path = row['image_id']\n",
        "    new_mapping.extend([[path, id_]]*(rescaling[id_]//counts_dict[id_]))\n",
        "rebalanced_df = pd.DataFrame(new_mapping, columns=[\"image_id\", \"hotel_id\"])\n",
        "rebalanced_df.to_csv(OUTPUT_FOLDER+\"train_balanced.csv\")\n",
        "\n",
        "# save hotel_id encoding for later decoding\n",
        "rebalanced_df[\"hotel_id_code\"] = rebalanced_df[\"hotel_id\"].astype('category').cat.codes.values.astype(np.int64)\n",
        "hotel_id_code_df = rebalanced_df.drop(columns=[\"image_id\"]).drop_duplicates().reset_index(drop=True)\n",
        "hotel_id_code_df.to_csv(OUTPUT_FOLDER +  'hotel_id_code_mapping.csv', index=False)\n",
        "\n",
        "data_df = rebalanced_df"
      ],
      "metadata": {
        "id": "CWLRr1lSSRdB"
      },
      "execution_count": 21,
      "outputs": []
    },
    {
      "cell_type": "code",
      "source": [
        "# Actual Visualization\n",
        "group_df = data_df.groupby([\"hotel_id\"]).size().to_frame(\"image_count\").sort_values(\"image_count\")[::-1].reset_index()\n",
        "\n",
        "# top and low\n",
        "low_df = group_df.iloc[-50:]\n",
        "top_df = group_df.iloc[:50]\n",
        "\n",
        "fig = make_subplots(rows=2, cols=2,\n",
        "                    specs=[[{\"colspan\": 2}, None], [{}, {}]],\n",
        "                    horizontal_spacing=0.02, vertical_spacing=0.2,\n",
        "                    shared_yaxes=False,\n",
        "                    subplot_titles=(\"\", \"Top 50\", \"Bottom 50\"))\n",
        "\n",
        "\n",
        "fig.add_trace(go.Scatter(x=group_df[\"hotel_id\"], y=group_df[\"image_count\"], showlegend = False), 1, 1)\n",
        "fig.add_trace(go.Bar(x=top_df[\"hotel_id\"], y=top_df[\"image_count\"], showlegend = False), 2, 1)\n",
        "fig.add_trace(go.Bar(x=low_df[\"hotel_id\"], y=low_df[\"image_count\"], showlegend = False), 2, 2)\n",
        "\n",
        "fig.update_yaxes(title_text=\"Image count\", row=1, col=1)\n",
        "fig.update_yaxes(title_text=\"Image count\", row=2, col=1)\n",
        "fig.update_xaxes(type=\"category\", visible=False, row=1, col=1)\n",
        "fig.update_xaxes(title_text=\"Hotel ID\", type=\"category\", row=2, col=1)\n",
        "fig.update_xaxes(title_text=\"Hotel ID\", type=\"category\", row=2, col=2)\n",
        "\n",
        "fig.update_layout(title=\"Image count per hotel\", height=550)\n",
        "fig.show()"
      ],
      "metadata": {
        "colab": {
          "base_uri": "https://localhost:8080/",
          "height": 567
        },
        "id": "XJAah9kaS2Ic",
        "outputId": "55c2fb3d-692a-4310-b649-eac92e990bbc"
      },
      "execution_count": 22,
      "outputs": [
        {
          "output_type": "display_data",
          "data": {
            "text/html": [
              "<html>\n",
              "<head><meta charset=\"utf-8\" /></head>\n",
              "<body>\n",
              "    <div>            <script src=\"https://cdnjs.cloudflare.com/ajax/libs/mathjax/2.7.5/MathJax.js?config=TeX-AMS-MML_SVG\"></script><script type=\"text/javascript\">if (window.MathJax && window.MathJax.Hub && window.MathJax.Hub.Config) {window.MathJax.Hub.Config({SVG: {font: \"STIX-Web\"}});}</script>                <script type=\"text/javascript\">window.PlotlyConfig = {MathJaxConfig: 'local'};</script>\n",
              "        <script charset=\"utf-8\" src=\"https://cdn.plot.ly/plotly-2.35.2.min.js\"></script>                <div id=\"ebd7f4a5-4d87-408f-8518-98c976e372b7\" class=\"plotly-graph-div\" style=\"height:550px; width:100%;\"></div>            <script type=\"text/javascript\">                                    window.PLOTLYENV=window.PLOTLYENV || {};                                    if (document.getElementById(\"ebd7f4a5-4d87-408f-8518-98c976e372b7\")) {                    Plotly.newPlot(                        \"ebd7f4a5-4d87-408f-8518-98c976e372b7\",                        [{\"showlegend\":false,\"x\":[23860,41871,26875,43372,127242,13253,104342,3637,83898,86251,81391,17219,197510,13581,73205,75648,2506,23283,92039,10751,34268,73523,6461,6498,26587,22658,75159,209931,78492,26509,228181,688864,94762,98591,73224,1996,10947,18143,21075,8268,95399,31896,101242,79689,309424,203243,19113,19417,91979,39766,95635,82178,86169,92370,90127,71013,86552,4518,4666,103150,103458,75667,89137,48219,87221,197744,34089,37890,91393,98140,90625,83647,23668,56572,5674,94889,199675,309314,81869,5525,35931,18403,24417,95488,83464,97095,208196,6277,1007,19899,43739,201286,689443,4943,199141,21609,20924,21138,15634,75500,97398,32402,16921,35722,210323,144255,73216,75346,287514,85771,18493,463,81509,25129,36238,95539,36539,91519,67340,41355,2515,25977,202705,21841,12016,37179,26317,20397,94054,142795,307960,34818,28845,16618,88282,688918,28230,309223,23976,42470,27279,4186,49014,198618,27068,93037,306290,94736,309121,308494,45837,7916,30753,7966,8636,93474,15526,12817,75048,144898,94082,37145,14781,18093,36708,3067,26389,32003,83495,7076,89219,308350,91208,43649,36891,75431,28666,40941,9198,90344,82435,82848,88262,12994,12540,2913,12809,74849,17421,76976,210388,2991,13736,40806,34906,78590,203152,28477,7878,122067,7108,87034,86959,25271,6752,9137,45168,9732,309032,198182,39400,16972,8675,102219,98550,11099,7812,90374,90922,85576,86614,10849,26077,9343,92133,199047,86452,2953,3691,79713,288895,29985,13469,29247,205161,78968,23167,78892,30568,82880,96100,207293,36078,310205,27824,11652,81713,83939,141562,39520,83679,44708,44093,80182,81853,9462,14474,91611,199844,1710,7799,17218,2371,6311,7630,36754,40815,307892,43394,28994,29459,88427,88061,89372,40578,26529,307961,9136,32169,95993,28508,200079,33288,30637,7075,87446,28118,76931,25890,11200,546,4394,20453,110119,12682,305551,19826,12878,13867,309397,14013,17220,125715,16751,91861,81171,81860,305774,75301,22442,310043,93710,209710,96660,89460,306134,9600,310174,3313,80135,328604,1910,31672,37722,80091,198692,7049,91883,15433,6626,9021,689762,89627,38358,1210,30167,76706,6086,96908,207959,12485,20509,689399,86326,22061,73717,89424,49472,91520,563008,306415,3219,56447,85475,209903,76604,92015,91459,78130,283534,47088,28821,103650,201638,99038,5723,103379,553,25355,1201,16160,7397,12387,24786,309573,9306,5106,115775,13470,21196,107043,22940,688634,11672,86820,15509,25171,52232,85958,23783,22406,18102,10684,90827,83827,144869,18410,6231,31478,97138,6308,6508,125646,7350,80089,18801,88551,97413,88446,310349,1449,87986,21502,12958,82649,121187,2665,82046,82031,91842,249786,80763,16461,206692,16974,309442,91895,15352,84912,14854,8708,90173,208146,89659,5964,200696,199724,88671,199664,87962,90710,91079,91129,5478,198828,9639,198245,10389,86412,197702,11522,197146,91273,309821,13077,78698,89923,93731,308766,43595,4587,25152,19847,44068,25103,1009,73834,24670,73346,204353,73341,46261,21235,21984,22111,102995,101899,24072,19280,26178,29396,310767,96955,32893,76759,38447,97246,4709,39787,100326,41333,75738,41162,7537,89607,100297,11165,32941,25935,30395,11039,11060,87438,38654,27497,7651,310033,26914,689032,257954,35184,17071,945,309176,16452,2810,3023,21618,78951,117083,80651,100410,18854,308338,206668,206615,98510,16666,84426,28906,38889,689197,30365,18706,18488,37078,18421,6514,310252,15994,85511,2523,13633,141633,10411,15522,20462,199287,16041,16068,75412,204361,26709,85373,306641,19180,27333,203215,83825,117772,100206,98355,96314,6161,208107,688506,24275,24365,21152,20631,19891,17717,3480,12108,305432,2842,9504,235207,4302,7360,86588,87806,688899,208762,18800,19035,18971,18151,115137,118824,120255,7354,120942,17711,17424,6981,7850,19977,125049,20236,21027,103319,21534,22441,22482,4389,1144,6872,6774,20069,5117,8376,5579,8821,198998,199295,7448,9676,9906,198577,10031,10054,198145,10290,197632,17126,7389,11311,11581,197027,11950,22789,14121,14975,15078,15981,16215,12189,4100,22832,80754,93803,46784,47870,68314,3143,74892,76610,76659,78813,79733,80365,80463,80664,81978,4153,91803,2578,82841,91477,83867,83935,85953,86836,87236,87435,87576,89254,89451,93941,46621,43587,43257,99234,90185,98841,27629,27858,28527,28544,28636,97912,97437,28683,28892,30185,30269,30968,31006,33154,33167,3631,35737,36124,38448,38790,39430,41155,41547,42849,200877,690365,209902,236345,202345,202496,208628,202992,203154,309603,309499,204284,306976,307143,309267,204696,308987,308913,205560,205640,308697,310976,308181,690011,89105,41338,89725,16761,5979,103533,310799,78805,16984,309725,17174,17613,198474,17704,9007,204195,208080,110509,89062,20870,309918,75037,208672,70270,197432,11101,123709,1215,11725,197833,11889,121134,203092,11982,12922,13100,13391,4824,1562,80665,90879,27929,93998,82261,33158,308888,25441,21738,307360,21676,95682,98336,257725,86694,459382,4572,86709,4210,90820,436,11646,204632,85676,93737,26997,92105,73247,9991,73328,92215,88256,29689,94313,49872,26764,18134,26327,48314,25958,204416,203556,44521,116718,307689,35459,309579,41897,23023,36528,102119,200297,202125,8417,6080,6294,4778,8220,81676,7779,82653,6064,75418,82658,76843,15236,13166,16505,43075,89474,43294,197820,6323,306244,86002,14366,43331,202193,6318,306554,89382,208779,689852,24412,29713,93849,2368,30979,32635,32646,307838,91553,91383,17935,91368,36573,3499,19394,19101,792,88904,89987,6813,8717,132880,140793,305944,11545,11289,9555,144064,139478,122919,689724,88473,208715,35566,35873,305637,34507,86397,34544,34924,83546,207118,307612,34549,84693,86436,77359,237266,81732,75616,81335,307269,81423,36988,208790,36775,305647,36341,87643,36297,91157,307566,207268,36227,207228,36089,81814,86357,86330,33476,33302,31263,307983,74835,305540,230802,30892,86109,30387,30377,230417,82939,308098,30090,82986,75093,83033,29562,82805,91944,31766,307902,81922,80817,209685,86317,91650,33036,33025,91790,31914,73540,85714,73885,73975,32335,32168,82718,84596,80687,258395,58268,43548,89378,88719,306604,208594,208275,51286,301542,51387,88560,210276,42109,42065,282409,87023,208235,306737,89371,208955,306414,77066,29156,78301,212137,89002,306105,78359,306123,286913,44455,78415,76639,78432,76556,45535,282752,75696,53405,64659,90860,89833,90182,40014,87492,39963,39641,307052,210175,83991,259281,38580,38241,38149,207707,73000,90777,306036,307257,85862,80453,306935,83603,78758,78855,89893,306885,78992,64663,79161,306891,80347,208614,83702,66454,90038,262903,41010,41003,306064,430,12977,8629,134580,9664,310183,141202,310188,141614,9332,9169,310219,144190,310226,8271,197790,202490,7921,310289,310291,7606,197591,7501,197594,7453,7378,310425,9727,133964,310083,10503,114886,13621,203574,309769,116964,13425,116992,13416,117631,118455,309809,12685,120013,12117,11600,11559,11257,202863,309987,11025,10785,130103,310030,310459,310667,13977,1778,2634,199802,688446,688694,2469,2430,200039,2234,2093,1906,1797,1777,6348,1688,200401,1521,689786,775,745,733,676,201025,690138,201370,2640,2884,2891,3070,310759,6222,198154,5905,5485,5456,5076,202121,202064,5004,311017,4611,311019,4338,4057,3560,199156,3476,3297,3291,592374,3157,3091,13800,205419,309070,308760,113206,21933,26882,21850,21682,97571,308756,21678,21422,309163,21072,26975,20877,27024,308715,204485,309235,94198,20156,22026,22063,27418,308791,209817,25844,308904,95605,95792,24316,23840,96216,23650,23348,96454,23202,23095,22612,22546,22473,308815,22252,309031,20144,309244,19889,28166,17705,27505,16916,16864,28526,28557,308451,28709,16722,309542,16380,107115,108817,28800,309609,308286,15395,15263,14332,18032,308639,309328,27575,19859,94067,19403,19167,19127,18664,95500,28152,309352,308677,100784,18734,84402,84847,3374,1912,32043,3245,83288,27520,308107,26950,25962,308824,28741,32997,14175,33623,34066,310093,10578,10766,10884,10959,18094,51186,16814,16784,309858,48405,12398,306775,308213,306328,16157,15482,19683,9546,39189,7466,3651,24652,5843,78851,6342,78381,22046,307492,38585,37701,75420,8462,75209,75197,37979,74902,28992,34881,208603,95461,209431,206088,208778,197990,86720,197377,201581,99311,97216,205444,203044,46162,37707,24173,199051,18608,75204,13796,240118,13525,30970,689708,7941,91293,2943,97011,13043,9748,205965,14727,18268,14599,26421,25983,77235,197908,144712,26892,6482,286036,76926,16677,27397,310208,39736,27715,39501,76535,309665,15329,80254,38940,38684,18187,689886,73226,18977,35321,64972,5332,84105,198436,21940,306029,88389,201430,2423,88657,84541,309934,84927,10678,4580,50098,51431,27867,2135,207876,689478,209659,198155,78097,4675,11500,2038,8589,9273,10191,93702,87506,198617,38583,18215,2817,10410,20991,36404,7827,207312,690181,6965,136801,31616,85454,205519,33978,89884,82607,26003,306733,7406,310622,6415,308844,24470,24475,24710,21537,95726,21550,24490,95506,24884,310394,309134,21494,308892,21495,308894,197834,309154,25566,308895,308902,309161,205404,24967,95451,24914,21413,308845,21403,25440,310623,22185,24469,310404,310608,205299,21846,23065,310591,23044,197780,6855,310585,308988,204919,6974,21876,22665,308991,205231,7005,22445,309002,21950,309019,309027,310559,204978,7058,22191,97165,96526,204754,21695,24013,309119,24464,6516,205358,24391,24372,24334,309034,24248,309114,24085,24040,23986,205347,23889,21669,23877,6630,209813,197746,96310,23549,23489,6682,23413,95370,6566,85622,6413,31750,310935,31512,31542,31545,5558,31697,91918,32050,310971,307925,198310,310973,31983,307922,31463,31311,31249,310806,31061,206230,206224,307995,5788,5816,5820,30636,198225,5867,308044,92091,30311,5467,32113,30228,33484,5051,198769,4982,33311,33452,91564,33486,32123,33569,311003,33656,4934,33947,202020,91619,5060,33146,33026,33024,91704,307886,206842,32516,32506,5385,5402,206745,32269,32202,307910,206733,92122,206132,26112,28105,6292,94041,309164,93935,6255,28070,308661,308392,205733,308648,28290,205735,308598,308579,94169,27466,27454,94183,27353,310696,308753,310679,94681,197982,94740,205448,26800,308780,308810,308812,26116,93706,6213,202229,5978,92693,29611,29662,92361,29736,29787,29934,93690,5927,29995,30043,30045,92199,30164,29512,92813,29421,202339,92988,29185,198118,93310,28901,310790,310769,6201,308381,205843,6210,28772,93585,27831,20183,310383,9479,309766,13649,13672,13732,309760,9492,13830,13620,13863,9405,13912,13915,13966,9399,203609,13562,9353,13243,203168,118655,118037,13203,13213,310167,309791,13546,13281,139526,117178,116982,13427,309781,309756,14139,21108,203639,15183,111671,111485,15317,15405,309697,309616,309701,109481,15691,15733,15789,15803,9216,15177,15074,14155,202641,14202,14317,112194,112022,309720,202671,14525,15072,310192,14550,14682,14940,309716,15029,13052,12979,310134,11302,309961,10283,202959,11260,10214,124445,309955,309965,11370,11445,123723,123569,122786,11613,202887,309982,119266,10824,10728,310029,10755,10771,133028,10425,10838,202793,309998,10394,10855,128848,310049,10300,11637,10010,309927,12717,309854,12541,12674,309840,119298,12707,12728,121746,12761,12781,309825,12849,9783,12887,12480,310100,119356,12396,12243,309866,12141,120135,134449,12072,120869,309903,11887,11733,11731,121298,11681,109168,16038,309598,204350,309301,19324,19326,19340,310283,19386,197430,310276,309295,19568,19648,19671,197443,19753,310279,19215,18549,18750,310246,204193,8258,8235,18732,101396,100860,19206,202489,18895,309306,310263,309304,204288,19772,309289,202480,20909,20609,20639,20660,20788,20866,98593,309210,99640,202467,20955,20970,309202,197653,21073,309228,309229,20437,20424,7589,20306,197524,34104,204437,7646,99028,20110,309251,7687,204411,7730,19875,18556,309373,309590,103254,16839,8959,203929,309508,309507,8949,17040,16810,17066,309505,17110,17130,309498,309490,8996,203705,8316,310203,108959,310197,16173,16202,107503,141722,106915,309514,106794,309538,202606,16715,104393,16746,17234,17256,309473,18318,309426,101974,309393,309392,202491,18236,18361,17500,18367,309390,8325,18412,309379,18433,18047,144761,17955,17898,17872,310244,17764,309428,310234,102917,102950,17702,8714,203989,17550,17547,17546,307787,5615,4809,79391,79246,89114,306257,46716,306268,46562,46432,306305,46119,688323,208484,79597,306335,79606,273639,272017,2987,263078,45223,45189,263046,676252,80103,44901,47575,47840,79189,86950,87020,2832,49991,88758,2850,87000,86979,88903,201608,280021,48179,78905,201654,48111,278817,78961,2895,209239,79002,79024,1744,47927,89044,263011,44681,51242,81304,80957,208334,43406,306597,208303,43357,81164,89430,200422,81188,43326,200178,44676,306635,3096,81439,200445,81666,42946,306649,209569,42819,42776,42588,209444,80751,306479,80712,86876,80326,208440,262099,89293,80444,80446,260852,44388,80571,44255,44204,259525,306342,86804,44079,86744,89321,44045,44036,43836,86723,306424,78747,88610,86490,305586,74880,305583,74840,76739,76841,74466,74142,2249,209177,200282,208757,73797,200326,73750,73737,305599,73615,88200,2299,76867,73483,73475,286903,200024,288741,305576,74974,2165,75505,75501,300874,304605,87659,1967,1980,208964,75731,87726,75312,75736,2060,300431,87775,76217,200092,75136,87837,2096,75047,300066,297621,73370,88340,51393,87084,88452,1775,87088,88513,64580,199807,2611,78395,61429,60152,688439,87054,77109,87040,56274,53139,2673,209183,51869,2716,51631,78623,281339,2797,2556,87130,78231,66518,73267,88353,305721,305901,77238,77309,2417,77324,305929,70812,70579,78072,69420,283781,198843,68429,199976,67907,78198,201461,66984,66698,688592,306725,208855,42443,83116,37026,328790,210341,90979,307442,36830,83872,91016,83896,85874,36717,91031,36662,91070,83928,201966,857,36556,36549,4290,207466,85857,91144,91205,198927,37029,921,211354,83523,83118,83230,209794,83336,83406,226096,42415,207667,37852,207589,83506,37658,85877,37633,37584,85947,37414,4081,83611,37276,930,37173,307291,85905,36194,307576,4349,34797,35114,35057,198899,35006,485,198880,85166,85237,34845,85286,307702,34735,580,34680,34585,34567,91479,91509,85303,209881,34302,85661,85521,4725,84894,84753,36062,35621,836,85854,833,84007,4387,311038,307632,84066,35686,4496,84076,84108,209807,84202,209932,35534,35484,84534,91446,84540,84582,200962,84655,84679,38043,201950,3359,82545,40186,82632,3232,199410,90266,307013,3365,82657,39647,209778,199257,1336,1060,39628,86144,3454,82720,90061,307035,82594,82537,39405,40414,89935,209716,3236,82335,82416,199309,1212,90081,208075,201665,40732,82444,306982,40574,200489,234782,82025,40430,1301,595425,39447,3463,38453,38656,90448,39359,81843,201940,42405,90552,3518,86107,228302,38878,86072,307242,38443,86067,307252,86048,83097,3628,199059,511754,82192,39175,1438,90382,82765,82754,208243,1046,81949,38945,39207,86121,3135,86440,199231,86115,8399,1513,14039,85667,209582,113589,81693,8524,87325,10776,87403,1869,13646,75690,8607,129826,12658,234471,9804,16998,310115,78307,15881,15969,309604,203796,78177,12075,16043,274117,12287,281316,16676,271633,309698,84755,82493,81061,14668,309719,139370,309717,82466,133881,202556,84010,77064,77111,9126,1129,9629,1533,20316,130759,48013,27928,208471,6917,93766,205762,46375,307108,205169,22195,22192,198059,205163,29546,688280,4001,89032,309078,2872,90935,88848,97613,204715,307270,308066,92093,308008,6269,306331,204506,3084,89616,25925,25645,308819,42715,308898,95351,89483,208086,208254,24834,24770,26767,44567,94629,27097,308741,94554,24064,44086,27428,39939,6634,308961,308966,23632,20893,41985,688512,5308,88386,310308,305890,4395,32192,305710,88321,35603,88032,35470,35211,91311,87884,307846,91577,207002,18642,33905,2018,145529,18492,18338,71627,32525,310812,206419,311051,10542,309213,68564,13756,27052,6527,98057,309902,76546,308916,96063,308932,32967,309351,5126,17804,89363,9348,205397,209357,34352,25014,25121,85518,30817,308817,25429,81704,75481,130316,303955,203847,4836,23764,80509,6929,311048,28363,17728,200739,29888,38384,688917,16616,23006,9946,86971,91300,12590,3647,3922,20287,119953,45518,39224,5163,1786,3040,308702,197593,310052,309682,37031,37287,37905,29357,10390,9628,9645,28841,35134,310179,95315,26595,307468,12845,26665,198887,347458,704,37486,253572,17158,15435,23069,308977,23040,9260,17830,203965,98736,204122,14710,79469,203681,87203,690291,15782,100055,86617,114031,305987,309195,57617,42832,13974,16664,18621,75917,86592,81262,100317,133296,4512,2317,4438,8820,310677,688760,311029,4361,201385,8903,310329,7585,8909,310335,199742,764,198907,200924,310981,688869,145381,688867,311006,8549,1877,4997,10475,4707,8237,200983,198555,311023,2100,8152,310243,8051,200232,310396,4563,7930,10284,201432,2284,2703,9135,2727,9281,198030,134473,310705,310153,3368,1123,6629,310611,6604,3357,200555,6546,644634,1591,566837,199542,201888,197877,9519,197837,310245,199511,1233,9455,3234,199493,1013,200340,688433,7290,202377,4079,142572,9059,963,3115,4054,9940,7340,2894,200645,3971,9830,198042,688350,310508,310551,431689,200627,199078,9212,2926,3553,7023,3525,310578,1930,23690,129795,38042,307141,90542,38557,38500,307240,38349,90560,38239,207843,38013,307564,38007,38006,37925,37896,37553,37368,90961,37020,36733,38900,39370,307020,207908,43588,43260,43174,89560,208224,41457,89778,306791,41264,41199,90080,306927,40747,40675,40482,40113,208057,307016,39649,36559,36329,306466,307904,307872,91690,91694,33007,32966,91774,32647,10790,32452,32288,91253,31974,31953,31790,307942,307957,206280,31185,31086,92046,33178,33196,33229,206987,307594,35814,35793,307614,35729,35710,35703,207165,35263,35039,207147,201319,307766,34173,34149,34069,91537,33721,91560,43591,44733,308007,209566,234189,82077,82055,234483,82008,82003,86341,245978,252970,79326,75637,79281,79210,79058,87098,87206,76861,209080,296054,76552,82572,233811,86212,82723,209831,85106,85003,85690,85775,84527,85777,84349,84153,84109,83997,83965,210188,220121,209799,223365,83303,83102,82786,75746,75625,45172,49865,63548,88550,306034,51771,51418,51404,88664,51180,50895,88852,75547,88997,48137,48063,47980,47418,47075,46104,45323,45274,63830,64306,64975,88414,87684,305391,75395,305552,75285,87735,75059,305567,208759,74087,73906,73525,88319,73382,72425,70340,88406,305961,66541,307998,91816,30567,309415,102157,17994,17956,17832,17740,17645,17461,309441,103164,309500,17031,16853,16712,309527,16593,309574,16412,16402,16223,102048,18166,309261,18201,309277,309282,19728,100143,19390,19359,19266,19257,100292,19061,309327,204287,18687,18558,18522,309377,309386,18238,18211,309588,16128,15853,15496,12936,12935,309823,309826,309848,309868,121932,309954,11357,11279,11254,309957,127064,127421,309989,10907,10854,10834,10807,12941,309816,118966,13835,14623,14543,14494,14480,14310,14074,114252,309758,114328,309812,13757,115838,309778,13400,203366,13234,13078,13046,19902,309357,20150,308928,26100,26018,95383,25947,24820,24432,308917,308927,20251,95111,24020,308951,308958,23847,205356,23049,23024,96871,95139,26959,22925,28851,308116,308141,29927,29908,308202,308233,93058,308339,308345,94625,28788,308386,308501,27940,205713,205680,308707,27073,308986,201348,205293,21582,20272,97147,22001,204924,22705,97454,21591,98723,22363,21222,20665,98444,21160,309189,204568,20943,22281,20688,22519,22690,308995,90760,16468,23460,308982,18855,3187,309234,28200,35579,236304,12178,203817,211268,309302,206515,19184,200002,309506,84360,12381,22091,53133,34250,74982,310554,75014,35005,139916,256039,207157,75137,200215,11359,197776,307643,97025,35402,111413,63933,25213,73309,688391,25543,723,201139,689550,30552,201241,47944,310041,95159,12414,82686,1122,93959,18718,13132,396607,309431,35677],\"y\":[306,306,304,300,300,300,300,300,300,294,294,294,294,288,288,288,288,285,285,285,282,282,282,282,280,280,280,276,276,276,276,276,276,275,272,270,270,270,270,268,268,266,266,266,266,266,266,265,265,265,264,264,264,264,264,264,264,262,260,260,260,260,259,259,259,259,259,258,258,258,258,256,256,256,252,252,252,252,252,252,252,252,252,249,248,246,246,246,246,246,246,246,246,246,245,245,245,245,245,245,245,245,245,245,240,240,240,240,240,240,240,240,240,240,240,240,238,238,238,238,238,238,238,234,234,231,231,231,231,224,224,224,224,224,224,224,224,224,224,224,224,224,224,224,224,224,224,224,224,217,217,217,217,217,217,217,217,217,217,217,217,210,210,210,210,210,210,210,210,210,210,210,210,210,203,203,203,203,203,203,203,203,203,203,196,196,196,196,196,196,196,196,196,196,196,196,196,196,196,196,196,196,196,196,196,196,196,196,196,196,196,196,196,196,196,189,189,189,189,189,189,189,189,189,189,189,189,189,189,189,189,189,189,182,182,182,182,182,182,182,182,182,182,182,182,182,182,182,182,182,182,175,175,175,175,175,175,175,175,175,175,175,175,175,175,175,168,168,168,168,168,168,168,168,168,168,168,168,168,168,168,168,168,168,168,168,168,168,168,168,168,168,168,168,168,168,168,168,168,168,168,168,168,168,168,168,168,168,168,168,168,168,168,168,168,168,168,168,161,161,161,161,161,161,161,161,161,161,161,161,161,161,161,161,161,161,161,161,161,161,161,161,161,161,161,161,161,155,154,154,154,154,154,154,154,154,154,154,154,154,154,154,154,154,154,154,154,154,154,154,154,154,154,154,154,154,154,154,154,154,154,154,147,147,147,147,147,147,147,147,147,147,147,147,147,147,147,147,147,147,147,147,147,147,147,147,147,147,147,147,147,147,147,147,140,140,140,140,140,140,140,140,140,140,140,140,140,140,140,140,140,140,140,140,140,140,140,140,140,140,140,140,140,140,140,140,140,140,140,140,140,140,140,140,140,140,140,140,140,140,140,140,140,140,140,140,140,140,140,140,140,140,140,140,140,140,140,140,140,140,140,140,140,140,140,140,140,140,140,140,140,140,140,133,133,133,133,133,133,133,133,133,133,133,133,133,133,133,133,133,133,133,133,133,133,133,133,133,133,133,133,133,133,126,126,126,126,126,126,126,126,126,126,126,126,126,126,126,126,126,126,126,126,126,126,126,126,126,126,126,126,126,126,126,126,126,126,126,126,119,119,119,119,119,119,119,119,119,119,119,119,119,119,119,119,119,119,119,119,119,119,119,119,119,112,112,112,112,112,112,112,112,112,112,112,112,112,112,112,112,112,112,112,112,112,112,112,112,112,112,112,112,112,112,112,112,112,112,112,112,112,112,112,112,112,112,112,112,112,112,112,112,112,112,112,112,112,112,112,112,112,112,112,112,112,112,112,112,112,112,112,112,112,112,112,112,112,112,112,112,112,112,112,112,112,112,112,112,112,112,112,112,112,112,112,112,112,112,112,112,112,112,112,112,112,112,112,112,112,112,112,112,112,112,112,112,112,112,112,112,112,112,112,112,112,112,112,112,112,112,112,112,112,112,112,112,112,112,112,112,112,112,112,112,105,105,105,105,105,105,105,105,105,105,105,105,105,105,105,105,105,105,105,105,105,105,105,105,105,105,105,105,105,105,105,105,105,105,105,105,105,105,105,105,105,105,105,105,105,105,105,105,105,105,105,105,105,105,105,105,105,105,98,98,98,98,98,98,98,98,98,98,98,98,98,98,98,98,98,98,98,98,98,98,98,98,98,98,98,98,98,98,98,98,98,98,98,98,98,98,98,98,98,98,98,98,98,98,91,91,91,91,91,91,91,91,91,91,91,91,91,91,91,91,91,91,91,91,91,91,91,91,91,91,91,91,91,91,91,91,91,91,91,91,91,91,91,91,91,91,91,91,91,91,91,91,91,91,91,84,84,84,84,84,84,84,84,84,84,84,84,84,84,84,84,84,84,84,84,84,84,84,84,84,84,84,84,84,84,84,84,84,84,84,84,84,84,84,84,84,84,84,84,84,84,84,84,84,84,84,84,84,84,84,84,84,84,84,84,84,84,84,84,84,84,84,84,84,84,84,84,84,84,84,84,84,84,84,84,84,84,84,84,84,84,84,84,84,84,84,84,84,84,84,84,84,84,84,84,84,84,84,84,84,84,84,84,84,84,84,84,84,84,84,84,84,84,84,84,84,84,84,84,84,84,84,84,84,84,84,84,84,84,84,84,84,84,84,84,84,84,84,84,84,84,84,84,84,84,84,84,84,84,84,84,84,84,84,84,84,84,84,84,84,84,84,84,84,84,84,84,84,84,84,84,84,84,84,84,84,84,84,84,84,84,84,84,84,84,84,84,84,84,84,84,84,84,84,84,84,84,84,84,84,84,84,84,84,84,84,84,84,84,84,84,84,84,84,84,84,84,84,84,84,84,84,84,84,84,84,84,84,84,84,84,84,84,84,84,84,84,84,84,84,84,84,84,84,84,84,84,84,84,84,84,84,84,84,84,84,84,84,84,84,84,84,84,84,84,84,84,84,84,84,84,84,84,84,84,84,84,84,84,84,84,84,84,84,84,84,84,84,84,84,84,84,84,84,84,84,84,84,84,84,84,84,84,84,84,84,84,84,84,84,84,84,84,84,84,84,84,84,84,84,84,84,84,84,84,84,84,84,84,84,84,84,84,84,84,84,84,84,84,84,84,84,84,84,84,84,84,77,77,77,77,77,77,77,77,77,77,77,77,77,77,77,77,77,77,77,77,77,77,77,77,77,77,77,77,77,77,77,77,77,77,77,77,77,77,77,77,77,77,77,77,77,77,77,77,77,77,77,77,77,77,77,77,77,77,77,77,77,77,77,77,77,77,77,77,77,70,70,70,70,70,70,70,70,70,70,70,70,70,70,70,70,70,70,70,70,70,70,70,70,70,70,70,70,70,70,70,70,70,70,70,70,70,70,70,70,70,70,70,70,70,70,70,70,70,70,70,70,70,70,70,70,70,70,70,70,70,70,70,70,63,63,63,63,63,63,63,63,63,63,63,63,63,63,63,63,63,63,63,63,63,63,63,63,63,63,63,63,63,63,63,63,63,63,63,56,56,56,56,56,56,56,56,56,56,56,56,56,56,56,56,56,56,56,56,56,56,56,56,56,56,56,56,56,56,56,56,56,56,56,56,56,56,56,56,56,56,56,56,56,56,56,56,56,56,56,56,56,56,56,56,56,56,56,56,56,56,56,56,56,56,56,56,56,56,56,56,56,56,56,56,56,56,56,56,56,56,56,56,56,56,56,56,56,56,56,56,56,56,56,56,56,56,56,56,56,56,56,56,56,56,56,56,56,56,56,56,56,56,56,56,56,56,56,56,56,56,56,56,56,56,56,56,56,56,56,56,56,56,56,56,56,56,56,56,56,56,56,56,56,56,56,56,56,56,56,56,56,56,56,56,56,56,56,56,56,56,56,56,56,56,56,56,56,56,56,56,56,56,56,56,56,56,56,56,56,56,56,56,56,56,56,56,56,56,56,56,56,56,56,56,56,56,56,56,56,56,56,56,56,56,56,56,56,56,56,56,56,56,56,56,56,56,56,56,56,56,56,56,56,56,56,56,56,56,56,56,56,56,56,56,56,56,56,56,56,56,56,56,56,56,56,56,56,56,56,56,56,56,56,56,56,56,56,56,56,56,56,56,56,56,56,56,56,56,56,56,56,56,56,56,56,56,56,56,56,56,56,56,56,56,56,56,56,56,56,56,56,56,56,56,56,56,56,56,56,56,56,56,56,56,56,56,56,56,56,56,56,56,56,56,56,56,56,56,56,56,56,56,56,56,56,56,56,56,56,56,56,56,56,56,56,56,56,56,56,56,56,56,56,56,56,56,56,56,56,56,56,56,56,56,56,56,56,56,56,56,56,56,56,56,56,56,56,56,56,56,56,56,56,56,56,56,56,56,56,56,56,56,56,56,56,56,56,56,56,56,56,56,56,56,56,56,56,56,56,56,56,56,56,56,56,56,56,56,56,56,56,56,56,56,56,56,56,56,56,56,56,56,56,56,56,56,56,56,56,56,56,56,56,56,56,56,56,56,56,56,56,56,56,56,56,56,56,56,56,56,56,56,56,56,56,56,56,56,56,56,56,56,56,56,56,56,56,56,56,56,56,56,56,56,56,56,56,56,56,56,56,56,56,56,56,56,56,56,56,56,56,56,56,56,56,56,56,56,56,56,56,56,56,56,56,56,56,56,56,56,56,56,56,56,56,56,56,56,56,56,56,56,56,56,56,56,56,56,56,56,56,56,56,56,56,56,56,56,56,56,56,56,56,56,56,56,56,56,56,56,56,56,56,56,56,56,56,56,56,56,56,56,56,56,56,56,56,56,56,56,56,56,56,56,56,56,56,56,56,56,56,56,56,56,56,56,56,56,56,56,56,56,56,56,56,56,56,56,56,56,56,56,56,56,56,56,56,56,56,56,56,56,56,56,56,56,56,56,56,56,56,56,56,56,56,56,56,56,56,56,56,56,56,56,56,56,56,56,56,56,56,56,56,56,56,56,56,56,56,56,56,56,56,56,56,56,56,56,56,56,56,56,56,56,56,56,56,56,56,56,56,56,56,56,56,56,56,56,56,56,56,56,56,56,56,56,56,56,56,56,56,56,56,56,56,56,56,56,56,56,56,56,56,56,56,56,56,56,56,56,56,56,56,56,56,56,56,56,56,56,56,56,56,56,56,56,56,56,56,56,56,56,56,56,56,56,56,56,56,56,56,56,56,56,56,56,56,56,56,56,56,56,56,56,56,56,56,56,56,56,56,56,56,56,56,56,56,56,56,56,56,56,56,56,56,56,56,56,56,56,56,56,56,56,56,56,56,56,56,56,56,56,56,56,56,56,56,56,56,56,56,56,56,56,56,56,56,56,56,56,56,56,56,56,56,56,56,56,56,56,56,56,56,56,56,56,56,56,56,56,56,56,56,56,56,56,56,56,56,56,56,56,56,56,56,56,56,56,56,56,56,56,56,56,56,56,56,56,56,56,56,56,56,56,56,56,56,56,56,56,56,56,56,56,56,56,56,56,56,56,56,56,56,56,56,56,56,56,56,56,56,56,56,56,56,56,56,56,56,56,56,56,56,56,56,56,56,56,56,56,56,56,56,56,56,56,56,56,56,56,56,56,56,56,56,56,56,56,56,56,56,56,56,56,56,56,56,49,49,49,49,49,49,49,49,49,49,49,49,49,49,49,49,49,49,49,49,49,49,49,49,49,49,49,49,49,49,49,49,49,49,49,49,49,49,49,49,49,49,49,49,49,49,49,49,49,49,49,49,49,49,49,49,49,49,49,49,49,49,49,49,49,49,49,49,49,49,49,49,49,49,49,49,49,49,49,49,49,49,49,49,49,49,49,49,49,49,49,49,49,49,49,49,49,49,49,49,49,49,49,49,49,49,49,49,49,49,49,49,49,49,49,49,49,49,49,49,49,49,49,49,49,49,49,49,49,49,49,49,49,49,49,49,49,49,49,49,49,49,49,49,49,42,42,42,42,42,42,42,42,42,42,42,42,42,42,42,42,42,42,42,42,42,42,42,42,42,42,42,42,42,42,42,42,42,42,42,42,42,42,42,42,42,42,42,42,42,42,42,42,42,42,42,42,42,42,42,42,42,42,42,35,35,35,35,35,35,35,35,35,35,35,35,35,35,35,35,35,35,35,35,35,35,35,35,35,35,35,35,35,35,35,35,35,35,35,35,35,35,35,35,35,35,35,35,35,35,35,35,35,35,28,28,28,28,28,28,28,28,28,28,28,28,28,28,28,28,28,28,28,28,28,28,28,28,28,28,28,28,28,28,28,28,28,28,28,28,28,28,28,28,28,28,28,28,28,28,28,28,28,28,28,28,28,28,28,28,28,28,28,28,28,28,28,28,28,28,28,28,28,28,28,28,28,28,28,28,28,28,28,28,28,28,28,28,28,28,28,28,28,28,28,28,28,28,28,28,28,28,28,28,28,28,28,28,28,28,28,28,28,28,28,28,28,28,28,28,28,28,28,28,28,28,28,28,28,28,28,28,28,28,28,28,28,28,28,28,28,28,28,28,28,28,28,28,28,28,28,28,28,28,28,28,28,28,28,28,28,28,28,28,28,28,28,28,28,28,28,28,28,28,28,28,28,28,28,28,28,28,28,28,28,28,28,28,28,28,28,28,28,28,28,28,28,28,28,28,28,28,28,28,28,28,28,28,28,28,28,28,28,28,28,28,28,28,28,28,28,28,28,28,28,28,28,28,28,28,28,28,28,28,28,28,28,28,28,28,28,28,28,28,28,28,28,28,28,28,28,28,28,28,28,28,28,28,28,28,28,28,28,28,28,28,28,28,28,28,28,28,28,28,28,28,28,28,28,28,28,28,28,28,28,28,28,28,28,28,28,28,28,28,28,28,28,28,28,28,28,28,28,28,28,28,28,28,28,28,28,28,28,28,28,28,28,28,28,28,28,28,28,28,28,28,28,28,28,28,28,28,28,28,28,28,28,28,28,28,28,28,28,28,28,28,28,28,28,28,28,28,28,28,28,28,28,28,28,28,28,28,28,28,28,28,28,28,28,28,28,28,28,28,28,28,28,28,28,28,28,28,28,28,28,28,28,28,28,28,28,28,28,28,28,28,28,28,28,28,28,28,28,28,28,28,28,28,28,28,28,28,28,28,28,28,28,28,28,28,28,28,28,28,28,28,28,28,28,28,28,28,28,28,28,28,28,28,28,28,28,28,28,28,28,28,28,28,28,28,28,28,28,28,28,28,21,21,21,21,21,21,21,21,21,21,21,21,21,21,21,21,21,21,21,21,21,21,21,21,21,21,21,21,21,21,21,21,14,14,14,14,14,14,14,14,14,14,14,14,14,14,14,14,14,7,7,7,7,7,7,7,7,7,7,7],\"type\":\"scatter\",\"xaxis\":\"x\",\"yaxis\":\"y\"},{\"showlegend\":false,\"x\":[23860,41871,26875,43372,127242,13253,104342,3637,83898,86251,81391,17219,197510,13581,73205,75648,2506,23283,92039,10751,34268,73523,6461,6498,26587,22658,75159,209931,78492,26509,228181,688864,94762,98591,73224,1996,10947,18143,21075,8268,95399,31896,101242,79689,309424,203243,19113,19417,91979,39766],\"y\":[306,306,304,300,300,300,300,300,300,294,294,294,294,288,288,288,288,285,285,285,282,282,282,282,280,280,280,276,276,276,276,276,276,275,272,270,270,270,270,268,268,266,266,266,266,266,266,265,265,265],\"type\":\"bar\",\"xaxis\":\"x2\",\"yaxis\":\"y2\"},{\"showlegend\":false,\"x\":[12178,203817,211268,309302,206515,19184,200002,309506,84360,12381,22091,53133,34250,74982,310554,75014,35005,139916,256039,207157,75137,200215,11359,197776,307643,97025,35402,111413,63933,25213,73309,688391,25543,723,201139,689550,30552,201241,47944,310041,95159,12414,82686,1122,93959,18718,13132,396607,309431,35677],\"y\":[21,21,21,21,21,21,21,21,21,21,21,21,21,21,21,21,21,21,21,21,21,21,14,14,14,14,14,14,14,14,14,14,14,14,14,14,14,14,14,7,7,7,7,7,7,7,7,7,7,7],\"type\":\"bar\",\"xaxis\":\"x3\",\"yaxis\":\"y3\"}],                        {\"template\":{\"data\":{\"histogram2dcontour\":[{\"type\":\"histogram2dcontour\",\"colorbar\":{\"outlinewidth\":0,\"ticks\":\"\"},\"colorscale\":[[0.0,\"#0d0887\"],[0.1111111111111111,\"#46039f\"],[0.2222222222222222,\"#7201a8\"],[0.3333333333333333,\"#9c179e\"],[0.4444444444444444,\"#bd3786\"],[0.5555555555555556,\"#d8576b\"],[0.6666666666666666,\"#ed7953\"],[0.7777777777777778,\"#fb9f3a\"],[0.8888888888888888,\"#fdca26\"],[1.0,\"#f0f921\"]]}],\"choropleth\":[{\"type\":\"choropleth\",\"colorbar\":{\"outlinewidth\":0,\"ticks\":\"\"}}],\"histogram2d\":[{\"type\":\"histogram2d\",\"colorbar\":{\"outlinewidth\":0,\"ticks\":\"\"},\"colorscale\":[[0.0,\"#0d0887\"],[0.1111111111111111,\"#46039f\"],[0.2222222222222222,\"#7201a8\"],[0.3333333333333333,\"#9c179e\"],[0.4444444444444444,\"#bd3786\"],[0.5555555555555556,\"#d8576b\"],[0.6666666666666666,\"#ed7953\"],[0.7777777777777778,\"#fb9f3a\"],[0.8888888888888888,\"#fdca26\"],[1.0,\"#f0f921\"]]}],\"heatmap\":[{\"type\":\"heatmap\",\"colorbar\":{\"outlinewidth\":0,\"ticks\":\"\"},\"colorscale\":[[0.0,\"#0d0887\"],[0.1111111111111111,\"#46039f\"],[0.2222222222222222,\"#7201a8\"],[0.3333333333333333,\"#9c179e\"],[0.4444444444444444,\"#bd3786\"],[0.5555555555555556,\"#d8576b\"],[0.6666666666666666,\"#ed7953\"],[0.7777777777777778,\"#fb9f3a\"],[0.8888888888888888,\"#fdca26\"],[1.0,\"#f0f921\"]]}],\"heatmapgl\":[{\"type\":\"heatmapgl\",\"colorbar\":{\"outlinewidth\":0,\"ticks\":\"\"},\"colorscale\":[[0.0,\"#0d0887\"],[0.1111111111111111,\"#46039f\"],[0.2222222222222222,\"#7201a8\"],[0.3333333333333333,\"#9c179e\"],[0.4444444444444444,\"#bd3786\"],[0.5555555555555556,\"#d8576b\"],[0.6666666666666666,\"#ed7953\"],[0.7777777777777778,\"#fb9f3a\"],[0.8888888888888888,\"#fdca26\"],[1.0,\"#f0f921\"]]}],\"contourcarpet\":[{\"type\":\"contourcarpet\",\"colorbar\":{\"outlinewidth\":0,\"ticks\":\"\"}}],\"contour\":[{\"type\":\"contour\",\"colorbar\":{\"outlinewidth\":0,\"ticks\":\"\"},\"colorscale\":[[0.0,\"#0d0887\"],[0.1111111111111111,\"#46039f\"],[0.2222222222222222,\"#7201a8\"],[0.3333333333333333,\"#9c179e\"],[0.4444444444444444,\"#bd3786\"],[0.5555555555555556,\"#d8576b\"],[0.6666666666666666,\"#ed7953\"],[0.7777777777777778,\"#fb9f3a\"],[0.8888888888888888,\"#fdca26\"],[1.0,\"#f0f921\"]]}],\"surface\":[{\"type\":\"surface\",\"colorbar\":{\"outlinewidth\":0,\"ticks\":\"\"},\"colorscale\":[[0.0,\"#0d0887\"],[0.1111111111111111,\"#46039f\"],[0.2222222222222222,\"#7201a8\"],[0.3333333333333333,\"#9c179e\"],[0.4444444444444444,\"#bd3786\"],[0.5555555555555556,\"#d8576b\"],[0.6666666666666666,\"#ed7953\"],[0.7777777777777778,\"#fb9f3a\"],[0.8888888888888888,\"#fdca26\"],[1.0,\"#f0f921\"]]}],\"mesh3d\":[{\"type\":\"mesh3d\",\"colorbar\":{\"outlinewidth\":0,\"ticks\":\"\"}}],\"scatter\":[{\"fillpattern\":{\"fillmode\":\"overlay\",\"size\":10,\"solidity\":0.2},\"type\":\"scatter\"}],\"parcoords\":[{\"type\":\"parcoords\",\"line\":{\"colorbar\":{\"outlinewidth\":0,\"ticks\":\"\"}}}],\"scatterpolargl\":[{\"type\":\"scatterpolargl\",\"marker\":{\"colorbar\":{\"outlinewidth\":0,\"ticks\":\"\"}}}],\"bar\":[{\"error_x\":{\"color\":\"#2a3f5f\"},\"error_y\":{\"color\":\"#2a3f5f\"},\"marker\":{\"line\":{\"color\":\"#E5ECF6\",\"width\":0.5},\"pattern\":{\"fillmode\":\"overlay\",\"size\":10,\"solidity\":0.2}},\"type\":\"bar\"}],\"scattergeo\":[{\"type\":\"scattergeo\",\"marker\":{\"colorbar\":{\"outlinewidth\":0,\"ticks\":\"\"}}}],\"scatterpolar\":[{\"type\":\"scatterpolar\",\"marker\":{\"colorbar\":{\"outlinewidth\":0,\"ticks\":\"\"}}}],\"histogram\":[{\"marker\":{\"pattern\":{\"fillmode\":\"overlay\",\"size\":10,\"solidity\":0.2}},\"type\":\"histogram\"}],\"scattergl\":[{\"type\":\"scattergl\",\"marker\":{\"colorbar\":{\"outlinewidth\":0,\"ticks\":\"\"}}}],\"scatter3d\":[{\"type\":\"scatter3d\",\"line\":{\"colorbar\":{\"outlinewidth\":0,\"ticks\":\"\"}},\"marker\":{\"colorbar\":{\"outlinewidth\":0,\"ticks\":\"\"}}}],\"scattermapbox\":[{\"type\":\"scattermapbox\",\"marker\":{\"colorbar\":{\"outlinewidth\":0,\"ticks\":\"\"}}}],\"scatterternary\":[{\"type\":\"scatterternary\",\"marker\":{\"colorbar\":{\"outlinewidth\":0,\"ticks\":\"\"}}}],\"scattercarpet\":[{\"type\":\"scattercarpet\",\"marker\":{\"colorbar\":{\"outlinewidth\":0,\"ticks\":\"\"}}}],\"carpet\":[{\"aaxis\":{\"endlinecolor\":\"#2a3f5f\",\"gridcolor\":\"white\",\"linecolor\":\"white\",\"minorgridcolor\":\"white\",\"startlinecolor\":\"#2a3f5f\"},\"baxis\":{\"endlinecolor\":\"#2a3f5f\",\"gridcolor\":\"white\",\"linecolor\":\"white\",\"minorgridcolor\":\"white\",\"startlinecolor\":\"#2a3f5f\"},\"type\":\"carpet\"}],\"table\":[{\"cells\":{\"fill\":{\"color\":\"#EBF0F8\"},\"line\":{\"color\":\"white\"}},\"header\":{\"fill\":{\"color\":\"#C8D4E3\"},\"line\":{\"color\":\"white\"}},\"type\":\"table\"}],\"barpolar\":[{\"marker\":{\"line\":{\"color\":\"#E5ECF6\",\"width\":0.5},\"pattern\":{\"fillmode\":\"overlay\",\"size\":10,\"solidity\":0.2}},\"type\":\"barpolar\"}],\"pie\":[{\"automargin\":true,\"type\":\"pie\"}]},\"layout\":{\"autotypenumbers\":\"strict\",\"colorway\":[\"#636efa\",\"#EF553B\",\"#00cc96\",\"#ab63fa\",\"#FFA15A\",\"#19d3f3\",\"#FF6692\",\"#B6E880\",\"#FF97FF\",\"#FECB52\"],\"font\":{\"color\":\"#2a3f5f\"},\"hovermode\":\"closest\",\"hoverlabel\":{\"align\":\"left\"},\"paper_bgcolor\":\"white\",\"plot_bgcolor\":\"#E5ECF6\",\"polar\":{\"bgcolor\":\"#E5ECF6\",\"angularaxis\":{\"gridcolor\":\"white\",\"linecolor\":\"white\",\"ticks\":\"\"},\"radialaxis\":{\"gridcolor\":\"white\",\"linecolor\":\"white\",\"ticks\":\"\"}},\"ternary\":{\"bgcolor\":\"#E5ECF6\",\"aaxis\":{\"gridcolor\":\"white\",\"linecolor\":\"white\",\"ticks\":\"\"},\"baxis\":{\"gridcolor\":\"white\",\"linecolor\":\"white\",\"ticks\":\"\"},\"caxis\":{\"gridcolor\":\"white\",\"linecolor\":\"white\",\"ticks\":\"\"}},\"coloraxis\":{\"colorbar\":{\"outlinewidth\":0,\"ticks\":\"\"}},\"colorscale\":{\"sequential\":[[0.0,\"#0d0887\"],[0.1111111111111111,\"#46039f\"],[0.2222222222222222,\"#7201a8\"],[0.3333333333333333,\"#9c179e\"],[0.4444444444444444,\"#bd3786\"],[0.5555555555555556,\"#d8576b\"],[0.6666666666666666,\"#ed7953\"],[0.7777777777777778,\"#fb9f3a\"],[0.8888888888888888,\"#fdca26\"],[1.0,\"#f0f921\"]],\"sequentialminus\":[[0.0,\"#0d0887\"],[0.1111111111111111,\"#46039f\"],[0.2222222222222222,\"#7201a8\"],[0.3333333333333333,\"#9c179e\"],[0.4444444444444444,\"#bd3786\"],[0.5555555555555556,\"#d8576b\"],[0.6666666666666666,\"#ed7953\"],[0.7777777777777778,\"#fb9f3a\"],[0.8888888888888888,\"#fdca26\"],[1.0,\"#f0f921\"]],\"diverging\":[[0,\"#8e0152\"],[0.1,\"#c51b7d\"],[0.2,\"#de77ae\"],[0.3,\"#f1b6da\"],[0.4,\"#fde0ef\"],[0.5,\"#f7f7f7\"],[0.6,\"#e6f5d0\"],[0.7,\"#b8e186\"],[0.8,\"#7fbc41\"],[0.9,\"#4d9221\"],[1,\"#276419\"]]},\"xaxis\":{\"gridcolor\":\"white\",\"linecolor\":\"white\",\"ticks\":\"\",\"title\":{\"standoff\":15},\"zerolinecolor\":\"white\",\"automargin\":true,\"zerolinewidth\":2},\"yaxis\":{\"gridcolor\":\"white\",\"linecolor\":\"white\",\"ticks\":\"\",\"title\":{\"standoff\":15},\"zerolinecolor\":\"white\",\"automargin\":true,\"zerolinewidth\":2},\"scene\":{\"xaxis\":{\"backgroundcolor\":\"#E5ECF6\",\"gridcolor\":\"white\",\"linecolor\":\"white\",\"showbackground\":true,\"ticks\":\"\",\"zerolinecolor\":\"white\",\"gridwidth\":2},\"yaxis\":{\"backgroundcolor\":\"#E5ECF6\",\"gridcolor\":\"white\",\"linecolor\":\"white\",\"showbackground\":true,\"ticks\":\"\",\"zerolinecolor\":\"white\",\"gridwidth\":2},\"zaxis\":{\"backgroundcolor\":\"#E5ECF6\",\"gridcolor\":\"white\",\"linecolor\":\"white\",\"showbackground\":true,\"ticks\":\"\",\"zerolinecolor\":\"white\",\"gridwidth\":2}},\"shapedefaults\":{\"line\":{\"color\":\"#2a3f5f\"}},\"annotationdefaults\":{\"arrowcolor\":\"#2a3f5f\",\"arrowhead\":0,\"arrowwidth\":1},\"geo\":{\"bgcolor\":\"white\",\"landcolor\":\"#E5ECF6\",\"subunitcolor\":\"white\",\"showland\":true,\"showlakes\":true,\"lakecolor\":\"white\"},\"title\":{\"x\":0.05},\"mapbox\":{\"style\":\"light\"}}},\"xaxis\":{\"anchor\":\"y\",\"domain\":[0.0,1.0],\"type\":\"category\",\"visible\":false},\"yaxis\":{\"anchor\":\"x\",\"domain\":[0.6000000000000001,1.0],\"title\":{\"text\":\"Image count\"}},\"xaxis2\":{\"anchor\":\"y2\",\"domain\":[0.0,0.49],\"title\":{\"text\":\"Hotel ID\"},\"type\":\"category\"},\"yaxis2\":{\"anchor\":\"x2\",\"domain\":[0.0,0.4],\"title\":{\"text\":\"Image count\"}},\"xaxis3\":{\"anchor\":\"y3\",\"domain\":[0.51,1.0],\"title\":{\"text\":\"Hotel ID\"},\"type\":\"category\"},\"yaxis3\":{\"anchor\":\"x3\",\"domain\":[0.0,0.4]},\"annotations\":[{\"font\":{\"size\":16},\"showarrow\":false,\"text\":\"Top 50\",\"x\":0.245,\"xanchor\":\"center\",\"xref\":\"paper\",\"y\":0.4,\"yanchor\":\"bottom\",\"yref\":\"paper\"},{\"font\":{\"size\":16},\"showarrow\":false,\"text\":\"Bottom 50\",\"x\":0.755,\"xanchor\":\"center\",\"xref\":\"paper\",\"y\":0.4,\"yanchor\":\"bottom\",\"yref\":\"paper\"}],\"title\":{\"text\":\"Image count per hotel\"},\"height\":550},                        {\"responsive\": true}                    ).then(function(){\n",
              "                            \n",
              "var gd = document.getElementById('ebd7f4a5-4d87-408f-8518-98c976e372b7');\n",
              "var x = new MutationObserver(function (mutations, observer) {{\n",
              "        var display = window.getComputedStyle(gd).display;\n",
              "        if (!display || display === 'none') {{\n",
              "            console.log([gd, 'removed!']);\n",
              "            Plotly.purge(gd);\n",
              "            observer.disconnect();\n",
              "        }}\n",
              "}});\n",
              "\n",
              "// Listen for the removal of the full notebook cells\n",
              "var notebookContainer = gd.closest('#notebook-container');\n",
              "if (notebookContainer) {{\n",
              "    x.observe(notebookContainer, {childList: true});\n",
              "}}\n",
              "\n",
              "// Listen for the clearing of the current output cell\n",
              "var outputEl = gd.closest('.output');\n",
              "if (outputEl) {{\n",
              "    x.observe(outputEl, {childList: true});\n",
              "}}\n",
              "\n",
              "                        })                };                            </script>        </div>\n",
              "</body>\n",
              "</html>"
            ]
          },
          "metadata": {}
        }
      ]
    },
    {
      "cell_type": "code",
      "source": [
        "fig = px.histogram(group_df, x=\"image_count\", nbins=100, marginal=\"box\", height=350)\n",
        "fig.update_layout(title=\"Distribution of image count per hotel\")\n",
        "fig.update_traces(hovertemplate=\"Image count: %{x} <br>Hotel count: %{y}\")\n",
        "fig.show()"
      ],
      "metadata": {
        "colab": {
          "base_uri": "https://localhost:8080/",
          "height": 367
        },
        "id": "LEtK9tT9TAbf",
        "outputId": "1a15ebd4-ed17-4432-e598-9b01c49b3acc"
      },
      "execution_count": 23,
      "outputs": [
        {
          "output_type": "display_data",
          "data": {
            "text/html": [
              "<html>\n",
              "<head><meta charset=\"utf-8\" /></head>\n",
              "<body>\n",
              "    <div>            <script src=\"https://cdnjs.cloudflare.com/ajax/libs/mathjax/2.7.5/MathJax.js?config=TeX-AMS-MML_SVG\"></script><script type=\"text/javascript\">if (window.MathJax && window.MathJax.Hub && window.MathJax.Hub.Config) {window.MathJax.Hub.Config({SVG: {font: \"STIX-Web\"}});}</script>                <script type=\"text/javascript\">window.PlotlyConfig = {MathJaxConfig: 'local'};</script>\n",
              "        <script charset=\"utf-8\" src=\"https://cdn.plot.ly/plotly-2.35.2.min.js\"></script>                <div id=\"be9eda37-b62b-4992-84cb-069396996289\" class=\"plotly-graph-div\" style=\"height:350px; width:100%;\"></div>            <script type=\"text/javascript\">                                    window.PLOTLYENV=window.PLOTLYENV || {};                                    if (document.getElementById(\"be9eda37-b62b-4992-84cb-069396996289\")) {                    Plotly.newPlot(                        \"be9eda37-b62b-4992-84cb-069396996289\",                        [{\"alignmentgroup\":\"True\",\"bingroup\":\"x\",\"hovertemplate\":\"Image count: %{x} \\u003cbr\\u003eHotel count: %{y}\",\"legendgroup\":\"\",\"marker\":{\"color\":\"#636efa\",\"pattern\":{\"shape\":\"\"}},\"name\":\"\",\"nbinsx\":100,\"offsetgroup\":\"\",\"orientation\":\"v\",\"showlegend\":false,\"x\":[306,306,304,300,300,300,300,300,300,294,294,294,294,288,288,288,288,285,285,285,282,282,282,282,280,280,280,276,276,276,276,276,276,275,272,270,270,270,270,268,268,266,266,266,266,266,266,265,265,265,264,264,264,264,264,264,264,262,260,260,260,260,259,259,259,259,259,258,258,258,258,256,256,256,252,252,252,252,252,252,252,252,252,249,248,246,246,246,246,246,246,246,246,246,245,245,245,245,245,245,245,245,245,245,240,240,240,240,240,240,240,240,240,240,240,240,238,238,238,238,238,238,238,234,234,231,231,231,231,224,224,224,224,224,224,224,224,224,224,224,224,224,224,224,224,224,224,224,224,217,217,217,217,217,217,217,217,217,217,217,217,210,210,210,210,210,210,210,210,210,210,210,210,210,203,203,203,203,203,203,203,203,203,203,196,196,196,196,196,196,196,196,196,196,196,196,196,196,196,196,196,196,196,196,196,196,196,196,196,196,196,196,196,196,196,189,189,189,189,189,189,189,189,189,189,189,189,189,189,189,189,189,189,182,182,182,182,182,182,182,182,182,182,182,182,182,182,182,182,182,182,175,175,175,175,175,175,175,175,175,175,175,175,175,175,175,168,168,168,168,168,168,168,168,168,168,168,168,168,168,168,168,168,168,168,168,168,168,168,168,168,168,168,168,168,168,168,168,168,168,168,168,168,168,168,168,168,168,168,168,168,168,168,168,168,168,168,168,161,161,161,161,161,161,161,161,161,161,161,161,161,161,161,161,161,161,161,161,161,161,161,161,161,161,161,161,161,155,154,154,154,154,154,154,154,154,154,154,154,154,154,154,154,154,154,154,154,154,154,154,154,154,154,154,154,154,154,154,154,154,154,154,147,147,147,147,147,147,147,147,147,147,147,147,147,147,147,147,147,147,147,147,147,147,147,147,147,147,147,147,147,147,147,147,140,140,140,140,140,140,140,140,140,140,140,140,140,140,140,140,140,140,140,140,140,140,140,140,140,140,140,140,140,140,140,140,140,140,140,140,140,140,140,140,140,140,140,140,140,140,140,140,140,140,140,140,140,140,140,140,140,140,140,140,140,140,140,140,140,140,140,140,140,140,140,140,140,140,140,140,140,140,140,133,133,133,133,133,133,133,133,133,133,133,133,133,133,133,133,133,133,133,133,133,133,133,133,133,133,133,133,133,133,126,126,126,126,126,126,126,126,126,126,126,126,126,126,126,126,126,126,126,126,126,126,126,126,126,126,126,126,126,126,126,126,126,126,126,126,119,119,119,119,119,119,119,119,119,119,119,119,119,119,119,119,119,119,119,119,119,119,119,119,119,112,112,112,112,112,112,112,112,112,112,112,112,112,112,112,112,112,112,112,112,112,112,112,112,112,112,112,112,112,112,112,112,112,112,112,112,112,112,112,112,112,112,112,112,112,112,112,112,112,112,112,112,112,112,112,112,112,112,112,112,112,112,112,112,112,112,112,112,112,112,112,112,112,112,112,112,112,112,112,112,112,112,112,112,112,112,112,112,112,112,112,112,112,112,112,112,112,112,112,112,112,112,112,112,112,112,112,112,112,112,112,112,112,112,112,112,112,112,112,112,112,112,112,112,112,112,112,112,112,112,112,112,112,112,112,112,112,112,112,112,105,105,105,105,105,105,105,105,105,105,105,105,105,105,105,105,105,105,105,105,105,105,105,105,105,105,105,105,105,105,105,105,105,105,105,105,105,105,105,105,105,105,105,105,105,105,105,105,105,105,105,105,105,105,105,105,105,105,98,98,98,98,98,98,98,98,98,98,98,98,98,98,98,98,98,98,98,98,98,98,98,98,98,98,98,98,98,98,98,98,98,98,98,98,98,98,98,98,98,98,98,98,98,98,91,91,91,91,91,91,91,91,91,91,91,91,91,91,91,91,91,91,91,91,91,91,91,91,91,91,91,91,91,91,91,91,91,91,91,91,91,91,91,91,91,91,91,91,91,91,91,91,91,91,91,84,84,84,84,84,84,84,84,84,84,84,84,84,84,84,84,84,84,84,84,84,84,84,84,84,84,84,84,84,84,84,84,84,84,84,84,84,84,84,84,84,84,84,84,84,84,84,84,84,84,84,84,84,84,84,84,84,84,84,84,84,84,84,84,84,84,84,84,84,84,84,84,84,84,84,84,84,84,84,84,84,84,84,84,84,84,84,84,84,84,84,84,84,84,84,84,84,84,84,84,84,84,84,84,84,84,84,84,84,84,84,84,84,84,84,84,84,84,84,84,84,84,84,84,84,84,84,84,84,84,84,84,84,84,84,84,84,84,84,84,84,84,84,84,84,84,84,84,84,84,84,84,84,84,84,84,84,84,84,84,84,84,84,84,84,84,84,84,84,84,84,84,84,84,84,84,84,84,84,84,84,84,84,84,84,84,84,84,84,84,84,84,84,84,84,84,84,84,84,84,84,84,84,84,84,84,84,84,84,84,84,84,84,84,84,84,84,84,84,84,84,84,84,84,84,84,84,84,84,84,84,84,84,84,84,84,84,84,84,84,84,84,84,84,84,84,84,84,84,84,84,84,84,84,84,84,84,84,84,84,84,84,84,84,84,84,84,84,84,84,84,84,84,84,84,84,84,84,84,84,84,84,84,84,84,84,84,84,84,84,84,84,84,84,84,84,84,84,84,84,84,84,84,84,84,84,84,84,84,84,84,84,84,84,84,84,84,84,84,84,84,84,84,84,84,84,84,84,84,84,84,84,84,84,84,84,84,84,84,84,84,84,84,84,84,84,84,84,84,84,84,84,77,77,77,77,77,77,77,77,77,77,77,77,77,77,77,77,77,77,77,77,77,77,77,77,77,77,77,77,77,77,77,77,77,77,77,77,77,77,77,77,77,77,77,77,77,77,77,77,77,77,77,77,77,77,77,77,77,77,77,77,77,77,77,77,77,77,77,77,77,70,70,70,70,70,70,70,70,70,70,70,70,70,70,70,70,70,70,70,70,70,70,70,70,70,70,70,70,70,70,70,70,70,70,70,70,70,70,70,70,70,70,70,70,70,70,70,70,70,70,70,70,70,70,70,70,70,70,70,70,70,70,70,70,63,63,63,63,63,63,63,63,63,63,63,63,63,63,63,63,63,63,63,63,63,63,63,63,63,63,63,63,63,63,63,63,63,63,63,56,56,56,56,56,56,56,56,56,56,56,56,56,56,56,56,56,56,56,56,56,56,56,56,56,56,56,56,56,56,56,56,56,56,56,56,56,56,56,56,56,56,56,56,56,56,56,56,56,56,56,56,56,56,56,56,56,56,56,56,56,56,56,56,56,56,56,56,56,56,56,56,56,56,56,56,56,56,56,56,56,56,56,56,56,56,56,56,56,56,56,56,56,56,56,56,56,56,56,56,56,56,56,56,56,56,56,56,56,56,56,56,56,56,56,56,56,56,56,56,56,56,56,56,56,56,56,56,56,56,56,56,56,56,56,56,56,56,56,56,56,56,56,56,56,56,56,56,56,56,56,56,56,56,56,56,56,56,56,56,56,56,56,56,56,56,56,56,56,56,56,56,56,56,56,56,56,56,56,56,56,56,56,56,56,56,56,56,56,56,56,56,56,56,56,56,56,56,56,56,56,56,56,56,56,56,56,56,56,56,56,56,56,56,56,56,56,56,56,56,56,56,56,56,56,56,56,56,56,56,56,56,56,56,56,56,56,56,56,56,56,56,56,56,56,56,56,56,56,56,56,56,56,56,56,56,56,56,56,56,56,56,56,56,56,56,56,56,56,56,56,56,56,56,56,56,56,56,56,56,56,56,56,56,56,56,56,56,56,56,56,56,56,56,56,56,56,56,56,56,56,56,56,56,56,56,56,56,56,56,56,56,56,56,56,56,56,56,56,56,56,56,56,56,56,56,56,56,56,56,56,56,56,56,56,56,56,56,56,56,56,56,56,56,56,56,56,56,56,56,56,56,56,56,56,56,56,56,56,56,56,56,56,56,56,56,56,56,56,56,56,56,56,56,56,56,56,56,56,56,56,56,56,56,56,56,56,56,56,56,56,56,56,56,56,56,56,56,56,56,56,56,56,56,56,56,56,56,56,56,56,56,56,56,56,56,56,56,56,56,56,56,56,56,56,56,56,56,56,56,56,56,56,56,56,56,56,56,56,56,56,56,56,56,56,56,56,56,56,56,56,56,56,56,56,56,56,56,56,56,56,56,56,56,56,56,56,56,56,56,56,56,56,56,56,56,56,56,56,56,56,56,56,56,56,56,56,56,56,56,56,56,56,56,56,56,56,56,56,56,56,56,56,56,56,56,56,56,56,56,56,56,56,56,56,56,56,56,56,56,56,56,56,56,56,56,56,56,56,56,56,56,56,56,56,56,56,56,56,56,56,56,56,56,56,56,56,56,56,56,56,56,56,56,56,56,56,56,56,56,56,56,56,56,56,56,56,56,56,56,56,56,56,56,56,56,56,56,56,56,56,56,56,56,56,56,56,56,56,56,56,56,56,56,56,56,56,56,56,56,56,56,56,56,56,56,56,56,56,56,56,56,56,56,56,56,56,56,56,56,56,56,56,56,56,56,56,56,56,56,56,56,56,56,56,56,56,56,56,56,56,56,56,56,56,56,56,56,56,56,56,56,56,56,56,56,56,56,56,56,56,56,56,56,56,56,56,56,56,56,56,56,56,56,56,56,56,56,56,56,56,56,56,56,56,56,56,56,56,56,56,56,56,56,56,56,56,56,56,56,56,56,56,56,56,56,56,56,56,56,56,56,56,56,56,56,56,56,56,56,56,56,56,56,56,56,56,56,56,56,56,56,56,56,56,56,56,56,56,56,56,56,56,56,56,56,56,56,56,56,56,56,56,56,56,56,56,56,56,56,56,56,56,56,56,56,56,56,56,56,56,56,56,56,56,56,56,56,56,56,56,56,56,56,56,56,56,56,56,56,56,56,56,56,56,56,56,56,56,56,56,56,56,56,56,56,56,56,56,56,56,56,56,56,56,56,56,56,56,56,56,56,56,56,56,56,56,56,56,56,56,56,56,56,56,56,56,56,56,56,56,56,56,56,56,56,56,56,56,56,56,56,56,56,56,56,56,56,56,56,56,56,56,56,56,56,56,56,56,56,56,56,56,56,56,56,56,56,56,56,56,56,56,56,56,56,56,56,56,56,56,56,56,56,56,56,56,56,56,56,56,56,56,56,56,56,56,56,56,56,56,56,56,56,56,56,56,56,56,56,56,56,56,56,56,56,56,56,56,56,56,56,56,56,56,56,56,56,56,49,49,49,49,49,49,49,49,49,49,49,49,49,49,49,49,49,49,49,49,49,49,49,49,49,49,49,49,49,49,49,49,49,49,49,49,49,49,49,49,49,49,49,49,49,49,49,49,49,49,49,49,49,49,49,49,49,49,49,49,49,49,49,49,49,49,49,49,49,49,49,49,49,49,49,49,49,49,49,49,49,49,49,49,49,49,49,49,49,49,49,49,49,49,49,49,49,49,49,49,49,49,49,49,49,49,49,49,49,49,49,49,49,49,49,49,49,49,49,49,49,49,49,49,49,49,49,49,49,49,49,49,49,49,49,49,49,49,49,49,49,49,49,49,49,42,42,42,42,42,42,42,42,42,42,42,42,42,42,42,42,42,42,42,42,42,42,42,42,42,42,42,42,42,42,42,42,42,42,42,42,42,42,42,42,42,42,42,42,42,42,42,42,42,42,42,42,42,42,42,42,42,42,42,35,35,35,35,35,35,35,35,35,35,35,35,35,35,35,35,35,35,35,35,35,35,35,35,35,35,35,35,35,35,35,35,35,35,35,35,35,35,35,35,35,35,35,35,35,35,35,35,35,35,28,28,28,28,28,28,28,28,28,28,28,28,28,28,28,28,28,28,28,28,28,28,28,28,28,28,28,28,28,28,28,28,28,28,28,28,28,28,28,28,28,28,28,28,28,28,28,28,28,28,28,28,28,28,28,28,28,28,28,28,28,28,28,28,28,28,28,28,28,28,28,28,28,28,28,28,28,28,28,28,28,28,28,28,28,28,28,28,28,28,28,28,28,28,28,28,28,28,28,28,28,28,28,28,28,28,28,28,28,28,28,28,28,28,28,28,28,28,28,28,28,28,28,28,28,28,28,28,28,28,28,28,28,28,28,28,28,28,28,28,28,28,28,28,28,28,28,28,28,28,28,28,28,28,28,28,28,28,28,28,28,28,28,28,28,28,28,28,28,28,28,28,28,28,28,28,28,28,28,28,28,28,28,28,28,28,28,28,28,28,28,28,28,28,28,28,28,28,28,28,28,28,28,28,28,28,28,28,28,28,28,28,28,28,28,28,28,28,28,28,28,28,28,28,28,28,28,28,28,28,28,28,28,28,28,28,28,28,28,28,28,28,28,28,28,28,28,28,28,28,28,28,28,28,28,28,28,28,28,28,28,28,28,28,28,28,28,28,28,28,28,28,28,28,28,28,28,28,28,28,28,28,28,28,28,28,28,28,28,28,28,28,28,28,28,28,28,28,28,28,28,28,28,28,28,28,28,28,28,28,28,28,28,28,28,28,28,28,28,28,28,28,28,28,28,28,28,28,28,28,28,28,28,28,28,28,28,28,28,28,28,28,28,28,28,28,28,28,28,28,28,28,28,28,28,28,28,28,28,28,28,28,28,28,28,28,28,28,28,28,28,28,28,28,28,28,28,28,28,28,28,28,28,28,28,28,28,28,28,28,28,28,28,28,28,28,28,28,28,28,28,28,28,28,28,28,28,28,28,28,28,28,28,28,28,28,28,28,28,28,28,28,28,28,28,28,28,28,28,28,28,28,28,28,28,28,28,28,28,28,28,28,28,28,28,28,28,28,28,28,28,28,21,21,21,21,21,21,21,21,21,21,21,21,21,21,21,21,21,21,21,21,21,21,21,21,21,21,21,21,21,21,21,21,14,14,14,14,14,14,14,14,14,14,14,14,14,14,14,14,14,7,7,7,7,7,7,7,7,7,7,7],\"xaxis\":\"x\",\"yaxis\":\"y\",\"type\":\"histogram\"},{\"alignmentgroup\":\"True\",\"hovertemplate\":\"Image count: %{x} \\u003cbr\\u003eHotel count: %{y}\",\"legendgroup\":\"\",\"marker\":{\"color\":\"#636efa\"},\"name\":\"\",\"notched\":true,\"offsetgroup\":\"\",\"showlegend\":false,\"x\":[306,306,304,300,300,300,300,300,300,294,294,294,294,288,288,288,288,285,285,285,282,282,282,282,280,280,280,276,276,276,276,276,276,275,272,270,270,270,270,268,268,266,266,266,266,266,266,265,265,265,264,264,264,264,264,264,264,262,260,260,260,260,259,259,259,259,259,258,258,258,258,256,256,256,252,252,252,252,252,252,252,252,252,249,248,246,246,246,246,246,246,246,246,246,245,245,245,245,245,245,245,245,245,245,240,240,240,240,240,240,240,240,240,240,240,240,238,238,238,238,238,238,238,234,234,231,231,231,231,224,224,224,224,224,224,224,224,224,224,224,224,224,224,224,224,224,224,224,224,217,217,217,217,217,217,217,217,217,217,217,217,210,210,210,210,210,210,210,210,210,210,210,210,210,203,203,203,203,203,203,203,203,203,203,196,196,196,196,196,196,196,196,196,196,196,196,196,196,196,196,196,196,196,196,196,196,196,196,196,196,196,196,196,196,196,189,189,189,189,189,189,189,189,189,189,189,189,189,189,189,189,189,189,182,182,182,182,182,182,182,182,182,182,182,182,182,182,182,182,182,182,175,175,175,175,175,175,175,175,175,175,175,175,175,175,175,168,168,168,168,168,168,168,168,168,168,168,168,168,168,168,168,168,168,168,168,168,168,168,168,168,168,168,168,168,168,168,168,168,168,168,168,168,168,168,168,168,168,168,168,168,168,168,168,168,168,168,168,161,161,161,161,161,161,161,161,161,161,161,161,161,161,161,161,161,161,161,161,161,161,161,161,161,161,161,161,161,155,154,154,154,154,154,154,154,154,154,154,154,154,154,154,154,154,154,154,154,154,154,154,154,154,154,154,154,154,154,154,154,154,154,154,147,147,147,147,147,147,147,147,147,147,147,147,147,147,147,147,147,147,147,147,147,147,147,147,147,147,147,147,147,147,147,147,140,140,140,140,140,140,140,140,140,140,140,140,140,140,140,140,140,140,140,140,140,140,140,140,140,140,140,140,140,140,140,140,140,140,140,140,140,140,140,140,140,140,140,140,140,140,140,140,140,140,140,140,140,140,140,140,140,140,140,140,140,140,140,140,140,140,140,140,140,140,140,140,140,140,140,140,140,140,140,133,133,133,133,133,133,133,133,133,133,133,133,133,133,133,133,133,133,133,133,133,133,133,133,133,133,133,133,133,133,126,126,126,126,126,126,126,126,126,126,126,126,126,126,126,126,126,126,126,126,126,126,126,126,126,126,126,126,126,126,126,126,126,126,126,126,119,119,119,119,119,119,119,119,119,119,119,119,119,119,119,119,119,119,119,119,119,119,119,119,119,112,112,112,112,112,112,112,112,112,112,112,112,112,112,112,112,112,112,112,112,112,112,112,112,112,112,112,112,112,112,112,112,112,112,112,112,112,112,112,112,112,112,112,112,112,112,112,112,112,112,112,112,112,112,112,112,112,112,112,112,112,112,112,112,112,112,112,112,112,112,112,112,112,112,112,112,112,112,112,112,112,112,112,112,112,112,112,112,112,112,112,112,112,112,112,112,112,112,112,112,112,112,112,112,112,112,112,112,112,112,112,112,112,112,112,112,112,112,112,112,112,112,112,112,112,112,112,112,112,112,112,112,112,112,112,112,112,112,112,112,105,105,105,105,105,105,105,105,105,105,105,105,105,105,105,105,105,105,105,105,105,105,105,105,105,105,105,105,105,105,105,105,105,105,105,105,105,105,105,105,105,105,105,105,105,105,105,105,105,105,105,105,105,105,105,105,105,105,98,98,98,98,98,98,98,98,98,98,98,98,98,98,98,98,98,98,98,98,98,98,98,98,98,98,98,98,98,98,98,98,98,98,98,98,98,98,98,98,98,98,98,98,98,98,91,91,91,91,91,91,91,91,91,91,91,91,91,91,91,91,91,91,91,91,91,91,91,91,91,91,91,91,91,91,91,91,91,91,91,91,91,91,91,91,91,91,91,91,91,91,91,91,91,91,91,84,84,84,84,84,84,84,84,84,84,84,84,84,84,84,84,84,84,84,84,84,84,84,84,84,84,84,84,84,84,84,84,84,84,84,84,84,84,84,84,84,84,84,84,84,84,84,84,84,84,84,84,84,84,84,84,84,84,84,84,84,84,84,84,84,84,84,84,84,84,84,84,84,84,84,84,84,84,84,84,84,84,84,84,84,84,84,84,84,84,84,84,84,84,84,84,84,84,84,84,84,84,84,84,84,84,84,84,84,84,84,84,84,84,84,84,84,84,84,84,84,84,84,84,84,84,84,84,84,84,84,84,84,84,84,84,84,84,84,84,84,84,84,84,84,84,84,84,84,84,84,84,84,84,84,84,84,84,84,84,84,84,84,84,84,84,84,84,84,84,84,84,84,84,84,84,84,84,84,84,84,84,84,84,84,84,84,84,84,84,84,84,84,84,84,84,84,84,84,84,84,84,84,84,84,84,84,84,84,84,84,84,84,84,84,84,84,84,84,84,84,84,84,84,84,84,84,84,84,84,84,84,84,84,84,84,84,84,84,84,84,84,84,84,84,84,84,84,84,84,84,84,84,84,84,84,84,84,84,84,84,84,84,84,84,84,84,84,84,84,84,84,84,84,84,84,84,84,84,84,84,84,84,84,84,84,84,84,84,84,84,84,84,84,84,84,84,84,84,84,84,84,84,84,84,84,84,84,84,84,84,84,84,84,84,84,84,84,84,84,84,84,84,84,84,84,84,84,84,84,84,84,84,84,84,84,84,84,84,84,84,84,84,84,84,84,84,84,84,84,84,84,77,77,77,77,77,77,77,77,77,77,77,77,77,77,77,77,77,77,77,77,77,77,77,77,77,77,77,77,77,77,77,77,77,77,77,77,77,77,77,77,77,77,77,77,77,77,77,77,77,77,77,77,77,77,77,77,77,77,77,77,77,77,77,77,77,77,77,77,77,70,70,70,70,70,70,70,70,70,70,70,70,70,70,70,70,70,70,70,70,70,70,70,70,70,70,70,70,70,70,70,70,70,70,70,70,70,70,70,70,70,70,70,70,70,70,70,70,70,70,70,70,70,70,70,70,70,70,70,70,70,70,70,70,63,63,63,63,63,63,63,63,63,63,63,63,63,63,63,63,63,63,63,63,63,63,63,63,63,63,63,63,63,63,63,63,63,63,63,56,56,56,56,56,56,56,56,56,56,56,56,56,56,56,56,56,56,56,56,56,56,56,56,56,56,56,56,56,56,56,56,56,56,56,56,56,56,56,56,56,56,56,56,56,56,56,56,56,56,56,56,56,56,56,56,56,56,56,56,56,56,56,56,56,56,56,56,56,56,56,56,56,56,56,56,56,56,56,56,56,56,56,56,56,56,56,56,56,56,56,56,56,56,56,56,56,56,56,56,56,56,56,56,56,56,56,56,56,56,56,56,56,56,56,56,56,56,56,56,56,56,56,56,56,56,56,56,56,56,56,56,56,56,56,56,56,56,56,56,56,56,56,56,56,56,56,56,56,56,56,56,56,56,56,56,56,56,56,56,56,56,56,56,56,56,56,56,56,56,56,56,56,56,56,56,56,56,56,56,56,56,56,56,56,56,56,56,56,56,56,56,56,56,56,56,56,56,56,56,56,56,56,56,56,56,56,56,56,56,56,56,56,56,56,56,56,56,56,56,56,56,56,56,56,56,56,56,56,56,56,56,56,56,56,56,56,56,56,56,56,56,56,56,56,56,56,56,56,56,56,56,56,56,56,56,56,56,56,56,56,56,56,56,56,56,56,56,56,56,56,56,56,56,56,56,56,56,56,56,56,56,56,56,56,56,56,56,56,56,56,56,56,56,56,56,56,56,56,56,56,56,56,56,56,56,56,56,56,56,56,56,56,56,56,56,56,56,56,56,56,56,56,56,56,56,56,56,56,56,56,56,56,56,56,56,56,56,56,56,56,56,56,56,56,56,56,56,56,56,56,56,56,56,56,56,56,56,56,56,56,56,56,56,56,56,56,56,56,56,56,56,56,56,56,56,56,56,56,56,56,56,56,56,56,56,56,56,56,56,56,56,56,56,56,56,56,56,56,56,56,56,56,56,56,56,56,56,56,56,56,56,56,56,56,56,56,56,56,56,56,56,56,56,56,56,56,56,56,56,56,56,56,56,56,56,56,56,56,56,56,56,56,56,56,56,56,56,56,56,56,56,56,56,56,56,56,56,56,56,56,56,56,56,56,56,56,56,56,56,56,56,56,56,56,56,56,56,56,56,56,56,56,56,56,56,56,56,56,56,56,56,56,56,56,56,56,56,56,56,56,56,56,56,56,56,56,56,56,56,56,56,56,56,56,56,56,56,56,56,56,56,56,56,56,56,56,56,56,56,56,56,56,56,56,56,56,56,56,56,56,56,56,56,56,56,56,56,56,56,56,56,56,56,56,56,56,56,56,56,56,56,56,56,56,56,56,56,56,56,56,56,56,56,56,56,56,56,56,56,56,56,56,56,56,56,56,56,56,56,56,56,56,56,56,56,56,56,56,56,56,56,56,56,56,56,56,56,56,56,56,56,56,56,56,56,56,56,56,56,56,56,56,56,56,56,56,56,56,56,56,56,56,56,56,56,56,56,56,56,56,56,56,56,56,56,56,56,56,56,56,56,56,56,56,56,56,56,56,56,56,56,56,56,56,56,56,56,56,56,56,56,56,56,56,56,56,56,56,56,56,56,56,56,56,56,56,56,56,56,56,56,56,56,56,56,56,56,56,56,56,56,56,56,56,56,56,56,56,56,56,56,56,56,56,56,56,56,56,56,56,56,56,56,56,56,56,56,56,56,56,56,56,56,56,56,56,56,56,56,56,56,56,56,56,56,56,56,56,56,56,56,56,56,56,56,56,56,56,56,56,56,56,56,56,56,56,56,56,56,56,56,56,56,56,56,56,56,56,56,56,56,56,56,56,56,56,56,56,56,56,56,56,56,56,56,56,56,56,56,56,56,56,56,56,56,56,56,56,56,56,56,56,56,56,56,56,56,56,56,56,56,56,56,56,56,56,56,56,56,56,56,56,56,56,56,56,56,56,56,56,56,56,56,56,56,56,56,56,56,56,56,56,56,56,56,56,56,56,56,56,56,56,56,56,56,56,56,56,56,56,56,56,56,56,56,56,56,56,56,56,56,56,56,56,56,56,56,56,56,56,56,56,56,56,56,56,56,56,56,56,56,56,56,56,56,56,56,56,56,56,56,56,56,56,56,56,56,56,56,56,56,56,56,56,56,56,56,56,56,56,56,56,56,56,56,56,56,56,49,49,49,49,49,49,49,49,49,49,49,49,49,49,49,49,49,49,49,49,49,49,49,49,49,49,49,49,49,49,49,49,49,49,49,49,49,49,49,49,49,49,49,49,49,49,49,49,49,49,49,49,49,49,49,49,49,49,49,49,49,49,49,49,49,49,49,49,49,49,49,49,49,49,49,49,49,49,49,49,49,49,49,49,49,49,49,49,49,49,49,49,49,49,49,49,49,49,49,49,49,49,49,49,49,49,49,49,49,49,49,49,49,49,49,49,49,49,49,49,49,49,49,49,49,49,49,49,49,49,49,49,49,49,49,49,49,49,49,49,49,49,49,49,49,42,42,42,42,42,42,42,42,42,42,42,42,42,42,42,42,42,42,42,42,42,42,42,42,42,42,42,42,42,42,42,42,42,42,42,42,42,42,42,42,42,42,42,42,42,42,42,42,42,42,42,42,42,42,42,42,42,42,42,35,35,35,35,35,35,35,35,35,35,35,35,35,35,35,35,35,35,35,35,35,35,35,35,35,35,35,35,35,35,35,35,35,35,35,35,35,35,35,35,35,35,35,35,35,35,35,35,35,35,28,28,28,28,28,28,28,28,28,28,28,28,28,28,28,28,28,28,28,28,28,28,28,28,28,28,28,28,28,28,28,28,28,28,28,28,28,28,28,28,28,28,28,28,28,28,28,28,28,28,28,28,28,28,28,28,28,28,28,28,28,28,28,28,28,28,28,28,28,28,28,28,28,28,28,28,28,28,28,28,28,28,28,28,28,28,28,28,28,28,28,28,28,28,28,28,28,28,28,28,28,28,28,28,28,28,28,28,28,28,28,28,28,28,28,28,28,28,28,28,28,28,28,28,28,28,28,28,28,28,28,28,28,28,28,28,28,28,28,28,28,28,28,28,28,28,28,28,28,28,28,28,28,28,28,28,28,28,28,28,28,28,28,28,28,28,28,28,28,28,28,28,28,28,28,28,28,28,28,28,28,28,28,28,28,28,28,28,28,28,28,28,28,28,28,28,28,28,28,28,28,28,28,28,28,28,28,28,28,28,28,28,28,28,28,28,28,28,28,28,28,28,28,28,28,28,28,28,28,28,28,28,28,28,28,28,28,28,28,28,28,28,28,28,28,28,28,28,28,28,28,28,28,28,28,28,28,28,28,28,28,28,28,28,28,28,28,28,28,28,28,28,28,28,28,28,28,28,28,28,28,28,28,28,28,28,28,28,28,28,28,28,28,28,28,28,28,28,28,28,28,28,28,28,28,28,28,28,28,28,28,28,28,28,28,28,28,28,28,28,28,28,28,28,28,28,28,28,28,28,28,28,28,28,28,28,28,28,28,28,28,28,28,28,28,28,28,28,28,28,28,28,28,28,28,28,28,28,28,28,28,28,28,28,28,28,28,28,28,28,28,28,28,28,28,28,28,28,28,28,28,28,28,28,28,28,28,28,28,28,28,28,28,28,28,28,28,28,28,28,28,28,28,28,28,28,28,28,28,28,28,28,28,28,28,28,28,28,28,28,28,28,28,28,28,28,28,28,28,28,28,28,28,28,28,28,28,28,28,28,28,28,28,28,28,28,28,28,28,28,28,28,21,21,21,21,21,21,21,21,21,21,21,21,21,21,21,21,21,21,21,21,21,21,21,21,21,21,21,21,21,21,21,21,14,14,14,14,14,14,14,14,14,14,14,14,14,14,14,14,14,7,7,7,7,7,7,7,7,7,7,7],\"xaxis\":\"x2\",\"yaxis\":\"y2\",\"type\":\"box\"}],                        {\"template\":{\"data\":{\"histogram2dcontour\":[{\"type\":\"histogram2dcontour\",\"colorbar\":{\"outlinewidth\":0,\"ticks\":\"\"},\"colorscale\":[[0.0,\"#0d0887\"],[0.1111111111111111,\"#46039f\"],[0.2222222222222222,\"#7201a8\"],[0.3333333333333333,\"#9c179e\"],[0.4444444444444444,\"#bd3786\"],[0.5555555555555556,\"#d8576b\"],[0.6666666666666666,\"#ed7953\"],[0.7777777777777778,\"#fb9f3a\"],[0.8888888888888888,\"#fdca26\"],[1.0,\"#f0f921\"]]}],\"choropleth\":[{\"type\":\"choropleth\",\"colorbar\":{\"outlinewidth\":0,\"ticks\":\"\"}}],\"histogram2d\":[{\"type\":\"histogram2d\",\"colorbar\":{\"outlinewidth\":0,\"ticks\":\"\"},\"colorscale\":[[0.0,\"#0d0887\"],[0.1111111111111111,\"#46039f\"],[0.2222222222222222,\"#7201a8\"],[0.3333333333333333,\"#9c179e\"],[0.4444444444444444,\"#bd3786\"],[0.5555555555555556,\"#d8576b\"],[0.6666666666666666,\"#ed7953\"],[0.7777777777777778,\"#fb9f3a\"],[0.8888888888888888,\"#fdca26\"],[1.0,\"#f0f921\"]]}],\"heatmap\":[{\"type\":\"heatmap\",\"colorbar\":{\"outlinewidth\":0,\"ticks\":\"\"},\"colorscale\":[[0.0,\"#0d0887\"],[0.1111111111111111,\"#46039f\"],[0.2222222222222222,\"#7201a8\"],[0.3333333333333333,\"#9c179e\"],[0.4444444444444444,\"#bd3786\"],[0.5555555555555556,\"#d8576b\"],[0.6666666666666666,\"#ed7953\"],[0.7777777777777778,\"#fb9f3a\"],[0.8888888888888888,\"#fdca26\"],[1.0,\"#f0f921\"]]}],\"heatmapgl\":[{\"type\":\"heatmapgl\",\"colorbar\":{\"outlinewidth\":0,\"ticks\":\"\"},\"colorscale\":[[0.0,\"#0d0887\"],[0.1111111111111111,\"#46039f\"],[0.2222222222222222,\"#7201a8\"],[0.3333333333333333,\"#9c179e\"],[0.4444444444444444,\"#bd3786\"],[0.5555555555555556,\"#d8576b\"],[0.6666666666666666,\"#ed7953\"],[0.7777777777777778,\"#fb9f3a\"],[0.8888888888888888,\"#fdca26\"],[1.0,\"#f0f921\"]]}],\"contourcarpet\":[{\"type\":\"contourcarpet\",\"colorbar\":{\"outlinewidth\":0,\"ticks\":\"\"}}],\"contour\":[{\"type\":\"contour\",\"colorbar\":{\"outlinewidth\":0,\"ticks\":\"\"},\"colorscale\":[[0.0,\"#0d0887\"],[0.1111111111111111,\"#46039f\"],[0.2222222222222222,\"#7201a8\"],[0.3333333333333333,\"#9c179e\"],[0.4444444444444444,\"#bd3786\"],[0.5555555555555556,\"#d8576b\"],[0.6666666666666666,\"#ed7953\"],[0.7777777777777778,\"#fb9f3a\"],[0.8888888888888888,\"#fdca26\"],[1.0,\"#f0f921\"]]}],\"surface\":[{\"type\":\"surface\",\"colorbar\":{\"outlinewidth\":0,\"ticks\":\"\"},\"colorscale\":[[0.0,\"#0d0887\"],[0.1111111111111111,\"#46039f\"],[0.2222222222222222,\"#7201a8\"],[0.3333333333333333,\"#9c179e\"],[0.4444444444444444,\"#bd3786\"],[0.5555555555555556,\"#d8576b\"],[0.6666666666666666,\"#ed7953\"],[0.7777777777777778,\"#fb9f3a\"],[0.8888888888888888,\"#fdca26\"],[1.0,\"#f0f921\"]]}],\"mesh3d\":[{\"type\":\"mesh3d\",\"colorbar\":{\"outlinewidth\":0,\"ticks\":\"\"}}],\"scatter\":[{\"fillpattern\":{\"fillmode\":\"overlay\",\"size\":10,\"solidity\":0.2},\"type\":\"scatter\"}],\"parcoords\":[{\"type\":\"parcoords\",\"line\":{\"colorbar\":{\"outlinewidth\":0,\"ticks\":\"\"}}}],\"scatterpolargl\":[{\"type\":\"scatterpolargl\",\"marker\":{\"colorbar\":{\"outlinewidth\":0,\"ticks\":\"\"}}}],\"bar\":[{\"error_x\":{\"color\":\"#2a3f5f\"},\"error_y\":{\"color\":\"#2a3f5f\"},\"marker\":{\"line\":{\"color\":\"#E5ECF6\",\"width\":0.5},\"pattern\":{\"fillmode\":\"overlay\",\"size\":10,\"solidity\":0.2}},\"type\":\"bar\"}],\"scattergeo\":[{\"type\":\"scattergeo\",\"marker\":{\"colorbar\":{\"outlinewidth\":0,\"ticks\":\"\"}}}],\"scatterpolar\":[{\"type\":\"scatterpolar\",\"marker\":{\"colorbar\":{\"outlinewidth\":0,\"ticks\":\"\"}}}],\"histogram\":[{\"marker\":{\"pattern\":{\"fillmode\":\"overlay\",\"size\":10,\"solidity\":0.2}},\"type\":\"histogram\"}],\"scattergl\":[{\"type\":\"scattergl\",\"marker\":{\"colorbar\":{\"outlinewidth\":0,\"ticks\":\"\"}}}],\"scatter3d\":[{\"type\":\"scatter3d\",\"line\":{\"colorbar\":{\"outlinewidth\":0,\"ticks\":\"\"}},\"marker\":{\"colorbar\":{\"outlinewidth\":0,\"ticks\":\"\"}}}],\"scattermapbox\":[{\"type\":\"scattermapbox\",\"marker\":{\"colorbar\":{\"outlinewidth\":0,\"ticks\":\"\"}}}],\"scatterternary\":[{\"type\":\"scatterternary\",\"marker\":{\"colorbar\":{\"outlinewidth\":0,\"ticks\":\"\"}}}],\"scattercarpet\":[{\"type\":\"scattercarpet\",\"marker\":{\"colorbar\":{\"outlinewidth\":0,\"ticks\":\"\"}}}],\"carpet\":[{\"aaxis\":{\"endlinecolor\":\"#2a3f5f\",\"gridcolor\":\"white\",\"linecolor\":\"white\",\"minorgridcolor\":\"white\",\"startlinecolor\":\"#2a3f5f\"},\"baxis\":{\"endlinecolor\":\"#2a3f5f\",\"gridcolor\":\"white\",\"linecolor\":\"white\",\"minorgridcolor\":\"white\",\"startlinecolor\":\"#2a3f5f\"},\"type\":\"carpet\"}],\"table\":[{\"cells\":{\"fill\":{\"color\":\"#EBF0F8\"},\"line\":{\"color\":\"white\"}},\"header\":{\"fill\":{\"color\":\"#C8D4E3\"},\"line\":{\"color\":\"white\"}},\"type\":\"table\"}],\"barpolar\":[{\"marker\":{\"line\":{\"color\":\"#E5ECF6\",\"width\":0.5},\"pattern\":{\"fillmode\":\"overlay\",\"size\":10,\"solidity\":0.2}},\"type\":\"barpolar\"}],\"pie\":[{\"automargin\":true,\"type\":\"pie\"}]},\"layout\":{\"autotypenumbers\":\"strict\",\"colorway\":[\"#636efa\",\"#EF553B\",\"#00cc96\",\"#ab63fa\",\"#FFA15A\",\"#19d3f3\",\"#FF6692\",\"#B6E880\",\"#FF97FF\",\"#FECB52\"],\"font\":{\"color\":\"#2a3f5f\"},\"hovermode\":\"closest\",\"hoverlabel\":{\"align\":\"left\"},\"paper_bgcolor\":\"white\",\"plot_bgcolor\":\"#E5ECF6\",\"polar\":{\"bgcolor\":\"#E5ECF6\",\"angularaxis\":{\"gridcolor\":\"white\",\"linecolor\":\"white\",\"ticks\":\"\"},\"radialaxis\":{\"gridcolor\":\"white\",\"linecolor\":\"white\",\"ticks\":\"\"}},\"ternary\":{\"bgcolor\":\"#E5ECF6\",\"aaxis\":{\"gridcolor\":\"white\",\"linecolor\":\"white\",\"ticks\":\"\"},\"baxis\":{\"gridcolor\":\"white\",\"linecolor\":\"white\",\"ticks\":\"\"},\"caxis\":{\"gridcolor\":\"white\",\"linecolor\":\"white\",\"ticks\":\"\"}},\"coloraxis\":{\"colorbar\":{\"outlinewidth\":0,\"ticks\":\"\"}},\"colorscale\":{\"sequential\":[[0.0,\"#0d0887\"],[0.1111111111111111,\"#46039f\"],[0.2222222222222222,\"#7201a8\"],[0.3333333333333333,\"#9c179e\"],[0.4444444444444444,\"#bd3786\"],[0.5555555555555556,\"#d8576b\"],[0.6666666666666666,\"#ed7953\"],[0.7777777777777778,\"#fb9f3a\"],[0.8888888888888888,\"#fdca26\"],[1.0,\"#f0f921\"]],\"sequentialminus\":[[0.0,\"#0d0887\"],[0.1111111111111111,\"#46039f\"],[0.2222222222222222,\"#7201a8\"],[0.3333333333333333,\"#9c179e\"],[0.4444444444444444,\"#bd3786\"],[0.5555555555555556,\"#d8576b\"],[0.6666666666666666,\"#ed7953\"],[0.7777777777777778,\"#fb9f3a\"],[0.8888888888888888,\"#fdca26\"],[1.0,\"#f0f921\"]],\"diverging\":[[0,\"#8e0152\"],[0.1,\"#c51b7d\"],[0.2,\"#de77ae\"],[0.3,\"#f1b6da\"],[0.4,\"#fde0ef\"],[0.5,\"#f7f7f7\"],[0.6,\"#e6f5d0\"],[0.7,\"#b8e186\"],[0.8,\"#7fbc41\"],[0.9,\"#4d9221\"],[1,\"#276419\"]]},\"xaxis\":{\"gridcolor\":\"white\",\"linecolor\":\"white\",\"ticks\":\"\",\"title\":{\"standoff\":15},\"zerolinecolor\":\"white\",\"automargin\":true,\"zerolinewidth\":2},\"yaxis\":{\"gridcolor\":\"white\",\"linecolor\":\"white\",\"ticks\":\"\",\"title\":{\"standoff\":15},\"zerolinecolor\":\"white\",\"automargin\":true,\"zerolinewidth\":2},\"scene\":{\"xaxis\":{\"backgroundcolor\":\"#E5ECF6\",\"gridcolor\":\"white\",\"linecolor\":\"white\",\"showbackground\":true,\"ticks\":\"\",\"zerolinecolor\":\"white\",\"gridwidth\":2},\"yaxis\":{\"backgroundcolor\":\"#E5ECF6\",\"gridcolor\":\"white\",\"linecolor\":\"white\",\"showbackground\":true,\"ticks\":\"\",\"zerolinecolor\":\"white\",\"gridwidth\":2},\"zaxis\":{\"backgroundcolor\":\"#E5ECF6\",\"gridcolor\":\"white\",\"linecolor\":\"white\",\"showbackground\":true,\"ticks\":\"\",\"zerolinecolor\":\"white\",\"gridwidth\":2}},\"shapedefaults\":{\"line\":{\"color\":\"#2a3f5f\"}},\"annotationdefaults\":{\"arrowcolor\":\"#2a3f5f\",\"arrowhead\":0,\"arrowwidth\":1},\"geo\":{\"bgcolor\":\"white\",\"landcolor\":\"#E5ECF6\",\"subunitcolor\":\"white\",\"showland\":true,\"showlakes\":true,\"lakecolor\":\"white\"},\"title\":{\"x\":0.05},\"mapbox\":{\"style\":\"light\"}}},\"xaxis\":{\"anchor\":\"y\",\"domain\":[0.0,1.0],\"title\":{\"text\":\"image_count\"}},\"yaxis\":{\"anchor\":\"x\",\"domain\":[0.0,0.8316],\"title\":{\"text\":\"count\"}},\"xaxis2\":{\"anchor\":\"y2\",\"domain\":[0.0,1.0],\"matches\":\"x\",\"showticklabels\":false,\"showgrid\":true},\"yaxis2\":{\"anchor\":\"x2\",\"domain\":[0.8416,1.0],\"matches\":\"y2\",\"showticklabels\":false,\"showline\":false,\"ticks\":\"\",\"showgrid\":false},\"legend\":{\"tracegroupgap\":0},\"margin\":{\"t\":60},\"barmode\":\"relative\",\"height\":350,\"title\":{\"text\":\"Distribution of image count per hotel\"}},                        {\"responsive\": true}                    ).then(function(){\n",
              "                            \n",
              "var gd = document.getElementById('be9eda37-b62b-4992-84cb-069396996289');\n",
              "var x = new MutationObserver(function (mutations, observer) {{\n",
              "        var display = window.getComputedStyle(gd).display;\n",
              "        if (!display || display === 'none') {{\n",
              "            console.log([gd, 'removed!']);\n",
              "            Plotly.purge(gd);\n",
              "            observer.disconnect();\n",
              "        }}\n",
              "}});\n",
              "\n",
              "// Listen for the removal of the full notebook cells\n",
              "var notebookContainer = gd.closest('#notebook-container');\n",
              "if (notebookContainer) {{\n",
              "    x.observe(notebookContainer, {childList: true});\n",
              "}}\n",
              "\n",
              "// Listen for the clearing of the current output cell\n",
              "var outputEl = gd.closest('.output');\n",
              "if (outputEl) {{\n",
              "    x.observe(outputEl, {childList: true});\n",
              "}}\n",
              "\n",
              "                        })                };                            </script>        </div>\n",
              "</body>\n",
              "</html>"
            ]
          },
          "metadata": {}
        }
      ]
    }
  ]
}