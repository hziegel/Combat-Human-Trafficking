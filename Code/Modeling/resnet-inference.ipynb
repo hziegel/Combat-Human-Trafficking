{
 "cells": [
  {
   "cell_type": "markdown",
   "id": "ffc2fcb2",
   "metadata": {
    "id": "DAY5rHgTm7e8",
    "papermill": {
     "duration": 0.024808,
     "end_time": "2022-05-27T01:59:55.758150",
     "exception": false,
     "start_time": "2022-05-27T01:59:55.733342",
     "status": "completed"
    },
    "tags": []
   },
   "source": [
    "# Intro\n",
    "Inference notebook for [Hotel-ID starter - classification - traning](https://www.kaggle.com/code/michaln/hotel-id-starter-classification-traning)\n",
    "\n"
   ]
  },
  {
   "cell_type": "markdown",
   "id": "63f57929",
   "metadata": {
    "papermill": {
     "duration": 0.02571,
     "end_time": "2022-05-27T01:59:55.806861",
     "exception": false,
     "start_time": "2022-05-27T01:59:55.781151",
     "status": "completed"
    },
    "tags": []
   },
   "source": [
    "# Setup"
   ]
  },
  {
   "cell_type": "code",
   "execution_count": 1,
   "id": "9bcc0e2d",
   "metadata": {
    "execution": {
     "iopub.execute_input": "2022-05-27T01:59:55.859761Z",
     "iopub.status.busy": "2022-05-27T01:59:55.859295Z",
     "iopub.status.idle": "2022-05-27T02:00:04.368798Z",
     "shell.execute_reply": "2022-05-27T02:00:04.367822Z"
    },
    "executionInfo": {
     "elapsed": 16271,
     "status": "ok",
     "timestamp": 1619310548121,
     "user": {
      "displayName": "Jeom Jin-Ho",
      "photoUrl": "",
      "userId": "00155613517919499503"
     },
     "user_tz": -120
    },
    "id": "alleged-legislation",
    "outputId": "c6541e5f-ffb4-4609-d6c6-39784e6a07b1",
    "papermill": {
     "duration": 8.538963,
     "end_time": "2022-05-27T02:00:04.371255",
     "exception": false,
     "start_time": "2022-05-27T01:59:55.832292",
     "status": "completed"
    },
    "tags": []
   },
   "outputs": [],
   "source": [
    "import sys\n",
    "sys.path.append('../input/timm-pytorch-image-models/pytorch-image-models-master')\n",
    "import timm"
   ]
  },
  {
   "cell_type": "markdown",
   "id": "81585b48",
   "metadata": {
    "id": "cZoSOL9Qm-Yr",
    "papermill": {
     "duration": 0.025653,
     "end_time": "2022-05-27T02:00:04.425581",
     "exception": false,
     "start_time": "2022-05-27T02:00:04.399928",
     "status": "completed"
    },
    "tags": []
   },
   "source": [
    "# Imports"
   ]
  },
  {
   "cell_type": "code",
   "execution_count": 2,
   "id": "236febff",
   "metadata": {
    "_cell_guid": "b1076dfc-b9ad-4769-8c92-a6c4dae69d19",
    "_uuid": "8f2839f25d086af736a60e9eeb907d3b93b6e0e5",
    "execution": {
     "iopub.execute_input": "2022-05-27T02:00:04.479238Z",
     "iopub.status.busy": "2022-05-27T02:00:04.478959Z",
     "iopub.status.idle": "2022-05-27T02:00:04.483288Z",
     "shell.execute_reply": "2022-05-27T02:00:04.482514Z"
    },
    "executionInfo": {
     "elapsed": 14459,
     "status": "ok",
     "timestamp": 1619310548121,
     "user": {
      "displayName": "Jeom Jin-Ho",
      "photoUrl": "",
      "userId": "00155613517919499503"
     },
     "user_tz": -120
    },
    "id": "expired-matter",
    "papermill": {
     "duration": 0.033591,
     "end_time": "2022-05-27T02:00:04.485206",
     "exception": false,
     "start_time": "2022-05-27T02:00:04.451615",
     "status": "completed"
    },
    "tags": []
   },
   "outputs": [],
   "source": [
    "import numpy as np\n",
    "import pandas as pd\n",
    "import random\n",
    "import os\n",
    "import math"
   ]
  },
  {
   "cell_type": "code",
   "execution_count": 3,
   "id": "1973a558",
   "metadata": {
    "execution": {
     "iopub.execute_input": "2022-05-27T02:00:04.538461Z",
     "iopub.status.busy": "2022-05-27T02:00:04.538184Z",
     "iopub.status.idle": "2022-05-27T02:00:04.542306Z",
     "shell.execute_reply": "2022-05-27T02:00:04.541402Z"
    },
    "executionInfo": {
     "elapsed": 16003,
     "status": "ok",
     "timestamp": 1619310550014,
     "user": {
      "displayName": "Jeom Jin-Ho",
      "photoUrl": "",
      "userId": "00155613517919499503"
     },
     "user_tz": -120
    },
    "id": "extreme-problem",
    "papermill": {
     "duration": 0.033215,
     "end_time": "2022-05-27T02:00:04.544567",
     "exception": false,
     "start_time": "2022-05-27T02:00:04.511352",
     "status": "completed"
    },
    "tags": []
   },
   "outputs": [],
   "source": [
    "from PIL import Image as pil_image\n",
    "from tqdm import tqdm"
   ]
  },
  {
   "cell_type": "code",
   "execution_count": 4,
   "id": "01e40291",
   "metadata": {
    "execution": {
     "iopub.execute_input": "2022-05-27T02:00:04.598357Z",
     "iopub.status.busy": "2022-05-27T02:00:04.597625Z",
     "iopub.status.idle": "2022-05-27T02:00:04.603397Z",
     "shell.execute_reply": "2022-05-27T02:00:04.602613Z"
    },
    "executionInfo": {
     "elapsed": 19672,
     "status": "ok",
     "timestamp": 1619310554099,
     "user": {
      "displayName": "Jeom Jin-Ho",
      "photoUrl": "",
      "userId": "00155613517919499503"
     },
     "user_tz": -120
    },
    "id": "angry-domain",
    "papermill": {
     "duration": 0.03471,
     "end_time": "2022-05-27T02:00:04.605324",
     "exception": false,
     "start_time": "2022-05-27T02:00:04.570614",
     "status": "completed"
    },
    "tags": []
   },
   "outputs": [],
   "source": [
    "import torch\n",
    "import torch.nn as nn\n",
    "from torch.utils.data import DataLoader"
   ]
  },
  {
   "cell_type": "markdown",
   "id": "603149f0",
   "metadata": {
    "id": "0B00pe7mnBTj",
    "papermill": {
     "duration": 0.026094,
     "end_time": "2022-05-27T02:00:04.658188",
     "exception": false,
     "start_time": "2022-05-27T02:00:04.632094",
     "status": "completed"
    },
    "tags": []
   },
   "source": [
    "# Global"
   ]
  },
  {
   "cell_type": "code",
   "execution_count": 5,
   "id": "33941afd",
   "metadata": {
    "execution": {
     "iopub.execute_input": "2022-05-27T02:00:04.710941Z",
     "iopub.status.busy": "2022-05-27T02:00:04.710662Z",
     "iopub.status.idle": "2022-05-27T02:00:04.715040Z",
     "shell.execute_reply": "2022-05-27T02:00:04.714249Z"
    },
    "executionInfo": {
     "elapsed": 589,
     "status": "ok",
     "timestamp": 1619310979015,
     "user": {
      "displayName": "Jeom Jin-Ho",
      "photoUrl": "",
      "userId": "00155613517919499503"
     },
     "user_tz": -120
    },
    "id": "contained-brief",
    "papermill": {
     "duration": 0.032911,
     "end_time": "2022-05-27T02:00:04.716862",
     "exception": false,
     "start_time": "2022-05-27T02:00:04.683951",
     "status": "completed"
    },
    "tags": []
   },
   "outputs": [],
   "source": [
    "SEED = 42\n",
    "IMG_SIZE = 256\n",
    "\n",
    "PROJECT_FOLDER = \"../input/hotel-id-to-combat-human-trafficking-2022-fgvc9/\"\n",
    "TEST_DATA_FOLDER = PROJECT_FOLDER + \"test_images/\""
   ]
  },
  {
   "cell_type": "code",
   "execution_count": 6,
   "id": "b32b8e75",
   "metadata": {
    "execution": {
     "iopub.execute_input": "2022-05-27T02:00:04.767742Z",
     "iopub.status.busy": "2022-05-27T02:00:04.767453Z",
     "iopub.status.idle": "2022-05-27T02:00:04.772934Z",
     "shell.execute_reply": "2022-05-27T02:00:04.772019Z"
    },
    "executionInfo": {
     "elapsed": 879,
     "status": "ok",
     "timestamp": 1619310979515,
     "user": {
      "displayName": "Jeom Jin-Ho",
      "photoUrl": "",
      "userId": "00155613517919499503"
     },
     "user_tz": -120
    },
    "id": "PZvmFng7ctO3",
    "outputId": "dce0cc91-8e70-4acc-a0b8-6763ffffd5ca",
    "papermill": {
     "duration": 0.035607,
     "end_time": "2022-05-27T02:00:04.777114",
     "exception": false,
     "start_time": "2022-05-27T02:00:04.741507",
     "status": "completed"
    },
    "tags": []
   },
   "outputs": [
    {
     "name": "stdout",
     "output_type": "stream",
     "text": [
      "['sample_submission.csv', 'train_images', 'train_masks', 'test_images']\n"
     ]
    }
   ],
   "source": [
    "print(os.listdir(PROJECT_FOLDER))"
   ]
  },
  {
   "cell_type": "code",
   "execution_count": 7,
   "id": "8a198b35",
   "metadata": {
    "execution": {
     "iopub.execute_input": "2022-05-27T02:00:04.830558Z",
     "iopub.status.busy": "2022-05-27T02:00:04.830270Z",
     "iopub.status.idle": "2022-05-27T02:00:04.835247Z",
     "shell.execute_reply": "2022-05-27T02:00:04.834520Z"
    },
    "executionInfo": {
     "elapsed": 600,
     "status": "ok",
     "timestamp": 1619310981653,
     "user": {
      "displayName": "Jeom Jin-Ho",
      "photoUrl": "",
      "userId": "00155613517919499503"
     },
     "user_tz": -120
    },
    "id": "eastern-content",
    "papermill": {
     "duration": 0.033668,
     "end_time": "2022-05-27T02:00:04.837036",
     "exception": false,
     "start_time": "2022-05-27T02:00:04.803368",
     "status": "completed"
    },
    "tags": []
   },
   "outputs": [],
   "source": [
    "def seed_everything(seed):\n",
    "    random.seed(seed)\n",
    "    os.environ['PYTHONHASHSEED'] = str(seed)\n",
    "    np.random.seed(seed)\n",
    "    torch.manual_seed(seed)\n",
    "    torch.cuda.manual_seed(seed)\n",
    "    torch.backends.cudnn.deterministic = True"
   ]
  },
  {
   "cell_type": "markdown",
   "id": "7fbe32a1",
   "metadata": {
    "id": "xaJKvvuKnW4k",
    "papermill": {
     "duration": 0.024624,
     "end_time": "2022-05-27T02:00:04.886423",
     "exception": false,
     "start_time": "2022-05-27T02:00:04.861799",
     "status": "completed"
    },
    "tags": []
   },
   "source": [
    "# Dataset and transformations"
   ]
  },
  {
   "cell_type": "code",
   "execution_count": 8,
   "id": "89bd57e1",
   "metadata": {
    "execution": {
     "iopub.execute_input": "2022-05-27T02:00:04.948017Z",
     "iopub.status.busy": "2022-05-27T02:00:04.947201Z",
     "iopub.status.idle": "2022-05-27T02:00:07.008140Z",
     "shell.execute_reply": "2022-05-27T02:00:07.007142Z"
    },
    "executionInfo": {
     "elapsed": 1519,
     "status": "ok",
     "timestamp": 1619310984075,
     "user": {
      "displayName": "Jeom Jin-Ho",
      "photoUrl": "",
      "userId": "00155613517919499503"
     },
     "user_tz": -120
    },
    "id": "revolutionary-membership",
    "papermill": {
     "duration": 2.100031,
     "end_time": "2022-05-27T02:00:07.010902",
     "exception": false,
     "start_time": "2022-05-27T02:00:04.910871",
     "status": "completed"
    },
    "tags": []
   },
   "outputs": [],
   "source": [
    "import albumentations as A\n",
    "import albumentations.pytorch as APT\n",
    "import cv2 \n",
    "\n",
    "# used for training dataset - augmentations and occlusions\n",
    "train_transform = A.Compose([\n",
    "    A.HorizontalFlip(p=0.75),\n",
    "    A.VerticalFlip(p=0.25),\n",
    "    A.ShiftScaleRotate(p=0.5, border_mode=cv2.BORDER_CONSTANT),\n",
    "    A.OpticalDistortion(p=0.25),\n",
    "    A.Perspective(p=0.25),\n",
    "    A.CoarseDropout(p=0.5, min_holes=1, max_holes=6, \n",
    "                    min_height=IMG_SIZE//16, max_height=IMG_SIZE//4,\n",
    "                    min_width=IMG_SIZE//16,  max_width=IMG_SIZE//4), # normal coarse dropout\n",
    "    \n",
    "    A.CoarseDropout(p=0.75, max_holes=1, \n",
    "                    min_height=IMG_SIZE//4, max_height=IMG_SIZE//2,\n",
    "                    min_width=IMG_SIZE//4,  max_width=IMG_SIZE//2, \n",
    "                    fill_value=(255,0,0)),# simulating occlusions in test data\n",
    "\n",
    "    A.RandomBrightnessContrast(p=0.75),\n",
    "    A.ToFloat(),\n",
    "    APT.transforms.ToTensorV2(),\n",
    "])\n",
    "\n",
    "# used for validation dataset - only occlusions\n",
    "val_transform = A.Compose([\n",
    "    A.CoarseDropout(p=0.75, max_holes=1, \n",
    "                    min_height=IMG_SIZE//4, max_height=IMG_SIZE//2,\n",
    "                    min_width=IMG_SIZE//4,  max_width=IMG_SIZE//2, \n",
    "                    fill_value=(255,0,0)),# simulating occlusions\n",
    "    A.ToFloat(),\n",
    "    APT.transforms.ToTensorV2(),\n",
    "])"
   ]
  },
  {
   "cell_type": "code",
   "execution_count": 9,
   "id": "d6f617da",
   "metadata": {
    "execution": {
     "iopub.execute_input": "2022-05-27T02:00:07.060580Z",
     "iopub.status.busy": "2022-05-27T02:00:07.059861Z",
     "iopub.status.idle": "2022-05-27T02:00:07.067230Z",
     "shell.execute_reply": "2022-05-27T02:00:07.066517Z"
    },
    "papermill": {
     "duration": 0.033907,
     "end_time": "2022-05-27T02:00:07.069160",
     "exception": false,
     "start_time": "2022-05-27T02:00:07.035253",
     "status": "completed"
    },
    "tags": []
   },
   "outputs": [],
   "source": [
    "def pad_image(img):\n",
    "    w, h, c = np.shape(img)\n",
    "    if w > h:\n",
    "        pad = int((w - h) / 2)\n",
    "        img = cv2.copyMakeBorder(img, 0, 0, pad, pad, cv2.BORDER_CONSTANT, value=0)\n",
    "    else:\n",
    "        pad = int((h - w) / 2)\n",
    "        img = cv2.copyMakeBorder(img, pad, pad, 0, 0, cv2.BORDER_CONSTANT, value=0)\n",
    "        \n",
    "    return img\n",
    "\n",
    "\n",
    "def open_and_preprocess_image(image_path):\n",
    "    img = cv2.imread(image_path)\n",
    "    img = cv2.cvtColor(img, cv2.COLOR_BGR2RGB)\n",
    "    img = pad_image(img)\n",
    "    return cv2.resize(img, (IMG_SIZE, IMG_SIZE))"
   ]
  },
  {
   "cell_type": "code",
   "execution_count": 10,
   "id": "1ffc1f00",
   "metadata": {
    "execution": {
     "iopub.execute_input": "2022-05-27T02:00:07.118692Z",
     "iopub.status.busy": "2022-05-27T02:00:07.118280Z",
     "iopub.status.idle": "2022-05-27T02:00:07.125084Z",
     "shell.execute_reply": "2022-05-27T02:00:07.124345Z"
    },
    "executionInfo": {
     "elapsed": 1058,
     "status": "ok",
     "timestamp": 1619310984077,
     "user": {
      "displayName": "Jeom Jin-Ho",
      "photoUrl": "",
      "userId": "00155613517919499503"
     },
     "user_tz": -120
    },
    "id": "found-mouth",
    "papermill": {
     "duration": 0.033869,
     "end_time": "2022-05-27T02:00:07.126847",
     "exception": false,
     "start_time": "2022-05-27T02:00:07.092978",
     "status": "completed"
    },
    "tags": []
   },
   "outputs": [],
   "source": [
    "class HotelImageDataset:\n",
    "    def __init__(self, data, transform=None, data_folder=\"train_images/\"):\n",
    "        self.data = data\n",
    "        self.data_folder = data_folder\n",
    "        self.transform = transform\n",
    "\n",
    "    def __len__(self):\n",
    "        return len(self.data)\n",
    "    \n",
    "    def __getitem__(self, idx):\n",
    "        record = self.data.iloc[idx]\n",
    "        image_path = self.data_folder + record[\"image_id\"]\n",
    "        \n",
    "        image = np.array(open_and_preprocess_image(image_path)).astype(np.uint8)\n",
    "\n",
    "        if self.transform:\n",
    "            transformed = self.transform(image=image)\n",
    "            image = transformed[\"image\"]\n",
    "        \n",
    "        return {\n",
    "            \"image\" : image,\n",
    "        }"
   ]
  },
  {
   "cell_type": "markdown",
   "id": "9f6561ad",
   "metadata": {
    "id": "NMDM4PwPnced",
    "papermill": {
     "duration": 0.023844,
     "end_time": "2022-05-27T02:00:07.174692",
     "exception": false,
     "start_time": "2022-05-27T02:00:07.150848",
     "status": "completed"
    },
    "tags": []
   },
   "source": [
    "# Model"
   ]
  },
  {
   "cell_type": "code",
   "execution_count": 11,
   "id": "34619d05",
   "metadata": {
    "execution": {
     "iopub.execute_input": "2022-05-27T02:00:07.223357Z",
     "iopub.status.busy": "2022-05-27T02:00:07.223089Z",
     "iopub.status.idle": "2022-05-27T02:00:07.228138Z",
     "shell.execute_reply": "2022-05-27T02:00:07.227463Z"
    },
    "papermill": {
     "duration": 0.031316,
     "end_time": "2022-05-27T02:00:07.229879",
     "exception": false,
     "start_time": "2022-05-27T02:00:07.198563",
     "status": "completed"
    },
    "tags": []
   },
   "outputs": [],
   "source": [
    "class HotelIdModel(nn.Module):\n",
    "    def __init__(self, n_classes=100, backbone_name=\"resnet34\"):\n",
    "        super(HotelIdModel, self).__init__()\n",
    "        \n",
    "        self.backbone = timm.create_model(backbone_name, num_classes=n_classes, pretrained=False)\n",
    "\n",
    "    def forward(self, x):\n",
    "        return self.backbone(x)"
   ]
  },
  {
   "cell_type": "markdown",
   "id": "eab6ee43",
   "metadata": {
    "id": "YMZYKhUSneMY",
    "papermill": {
     "duration": 0.022888,
     "end_time": "2022-05-27T02:00:07.276055",
     "exception": false,
     "start_time": "2022-05-27T02:00:07.253167",
     "status": "completed"
    },
    "tags": []
   },
   "source": [
    "# Model helper functions"
   ]
  },
  {
   "cell_type": "code",
   "execution_count": 12,
   "id": "afd52532",
   "metadata": {
    "execution": {
     "iopub.execute_input": "2022-05-27T02:00:07.324877Z",
     "iopub.status.busy": "2022-05-27T02:00:07.324587Z",
     "iopub.status.idle": "2022-05-27T02:00:07.330717Z",
     "shell.execute_reply": "2022-05-27T02:00:07.329949Z"
    },
    "papermill": {
     "duration": 0.032887,
     "end_time": "2022-05-27T02:00:07.332482",
     "exception": false,
     "start_time": "2022-05-27T02:00:07.299595",
     "status": "completed"
    },
    "tags": []
   },
   "outputs": [],
   "source": [
    "def predict(loader, model, n_matches=5):\n",
    "    preds = []\n",
    "    with torch.no_grad():\n",
    "        t = tqdm(loader)\n",
    "        for i, sample in enumerate(t):\n",
    "            input = sample['image'].to(args.device)\n",
    "            outputs = model(input)\n",
    "            outputs = torch.sigmoid(outputs).detach().cpu().numpy()\n",
    "            preds.extend(outputs)\n",
    "    \n",
    "    # get 5 top predictions\n",
    "    preds = np.argsort(-np.array(preds), axis=1)[:, :5]\n",
    "    return preds"
   ]
  },
  {
   "cell_type": "code",
   "execution_count": 13,
   "id": "e5557728",
   "metadata": {
    "execution": {
     "iopub.execute_input": "2022-05-27T02:00:07.382738Z",
     "iopub.status.busy": "2022-05-27T02:00:07.382151Z",
     "iopub.status.idle": "2022-05-27T02:00:07.394735Z",
     "shell.execute_reply": "2022-05-27T02:00:07.394027Z"
    },
    "papermill": {
     "duration": 0.039569,
     "end_time": "2022-05-27T02:00:07.396729",
     "exception": false,
     "start_time": "2022-05-27T02:00:07.357160",
     "status": "completed"
    },
    "tags": []
   },
   "outputs": [],
   "source": [
    "import albumentations as A\n",
    "import albumentations.pytorch as APT\n",
    "import cv2 \n",
    "\n",
    "# used for training dataset - augmentations and occlusions\n",
    "train_transform = A.Compose([\n",
    "    A.RandomCrop(width=64, height=64),\n",
    "    A.HorizontalFlip(p=0.75),\n",
    "    #A.VerticalFlip(p=0.0),\n",
    "    A.ShiftScaleRotate(p=0.5, shift_limit=0.0625, scale_limit=0.1, rotate_limit=10, interpolation=cv2.INTER_NEAREST, border_mode=cv2.BORDER_CONSTANT),\n",
    "    A.OpticalDistortion(p=0.25, distort_limit=0.05, shift_limit=0.01),\n",
    "    A.Perspective(p=0.25, scale=(0.05, 0.1)),\n",
    "    A.ColorJitter(p=0.75, brightness=0.2, contrast=0.2, saturation=0.1, hue=0.05),\n",
    "    A.CoarseDropout(p=0.5, min_holes=1, max_holes=5, \n",
    "                    min_height=IMG_SIZE//16, max_height=IMG_SIZE//8,\n",
    "                    min_width=IMG_SIZE//16,  max_width=IMG_SIZE//8), # normal coarse dropout\n",
    "    \n",
    "    A.CoarseDropout(p=0.75, max_holes=1, \n",
    "                    min_height=IMG_SIZE//4, max_height=IMG_SIZE//2,\n",
    "                    min_width=IMG_SIZE//4,  max_width=IMG_SIZE//2, \n",
    "                    fill_value=(255,0,0)),# simulating occlusions in test data\n",
    "    #A.RandomBrightnessContrast(p=0.75),\n",
    "    A.ToFloat(),\n",
    "    APT.transforms.ToTensorV2(),\n",
    "])\n",
    "\n",
    "# used for validation dataset - only occlusions\n",
    "val_transform = A.Compose([\n",
    "    A.CoarseDropout(p=0.75, max_holes=1, \n",
    "                    min_height=IMG_SIZE//4, max_height=IMG_SIZE//2,\n",
    "                    min_width=IMG_SIZE//4,  max_width=IMG_SIZE//2, \n",
    "                    fill_value=(255,0,0)),# simulating occlusions\n",
    "    A.ToFloat(),\n",
    "    APT.transforms.ToTensorV2(),\n",
    "])\n",
    "\n",
    "# no augmentations\n",
    "base_transform = A.Compose([\n",
    "    A.ToFloat(),\n",
    "    APT.transforms.ToTensorV2(),\n",
    "])"
   ]
  },
  {
   "cell_type": "markdown",
   "id": "29de9a6e",
   "metadata": {
    "id": "AwShW1wXniD6",
    "papermill": {
     "duration": 0.02394,
     "end_time": "2022-05-27T02:00:07.445196",
     "exception": false,
     "start_time": "2022-05-27T02:00:07.421256",
     "status": "completed"
    },
    "tags": []
   },
   "source": [
    "# Prepare data"
   ]
  },
  {
   "cell_type": "code",
   "execution_count": 14,
   "id": "fe375df9",
   "metadata": {
    "execution": {
     "iopub.execute_input": "2022-05-27T02:00:07.495845Z",
     "iopub.status.busy": "2022-05-27T02:00:07.495114Z",
     "iopub.status.idle": "2022-05-27T02:00:07.510288Z",
     "shell.execute_reply": "2022-05-27T02:00:07.509525Z"
    },
    "executionInfo": {
     "elapsed": 3742,
     "status": "ok",
     "timestamp": 1619311036476,
     "user": {
      "displayName": "Jeom Jin-Ho",
      "photoUrl": "",
      "userId": "00155613517919499503"
     },
     "user_tz": -120
    },
    "id": "discrete-right",
    "outputId": "c21ed589-3139-4919-b5d5-07bcf6f1df15",
    "papermill": {
     "duration": 0.04294,
     "end_time": "2022-05-27T02:00:07.512500",
     "exception": false,
     "start_time": "2022-05-27T02:00:07.469560",
     "status": "completed"
    },
    "tags": []
   },
   "outputs": [],
   "source": [
    "test_df = pd.DataFrame(data={\"image_id\": os.listdir(TEST_DATA_FOLDER), \"hotel_id\": \"\"}).sort_values(by=\"image_id\")"
   ]
  },
  {
   "cell_type": "code",
   "execution_count": 15,
   "id": "c2ba1c64",
   "metadata": {
    "execution": {
     "iopub.execute_input": "2022-05-27T02:00:07.563049Z",
     "iopub.status.busy": "2022-05-27T02:00:07.562329Z",
     "iopub.status.idle": "2022-05-27T02:00:07.580850Z",
     "shell.execute_reply": "2022-05-27T02:00:07.580054Z"
    },
    "papermill": {
     "duration": 0.046193,
     "end_time": "2022-05-27T02:00:07.583075",
     "exception": false,
     "start_time": "2022-05-27T02:00:07.536882",
     "status": "completed"
    },
    "tags": []
   },
   "outputs": [],
   "source": [
    "# code hotel_id mapping created in training notebook by encoding hotel_ids\n",
    "hotel_id_code_df = pd.read_csv('../input/resnet-training/hotel_id_code_mapping.csv')\n",
    "hotel_id_code_map = hotel_id_code_df.set_index('hotel_id_code').to_dict()[\"hotel_id\"]"
   ]
  },
  {
   "cell_type": "markdown",
   "id": "8a111a28",
   "metadata": {
    "id": "5JPdD2bpnniP",
    "papermill": {
     "duration": 0.024055,
     "end_time": "2022-05-27T02:00:07.631702",
     "exception": false,
     "start_time": "2022-05-27T02:00:07.607647",
     "status": "completed"
    },
    "tags": []
   },
   "source": [
    "# Prepare model"
   ]
  },
  {
   "cell_type": "code",
   "execution_count": 16,
   "id": "ee712cda",
   "metadata": {
    "execution": {
     "iopub.execute_input": "2022-05-27T02:00:07.681299Z",
     "iopub.status.busy": "2022-05-27T02:00:07.681023Z",
     "iopub.status.idle": "2022-05-27T02:00:07.685913Z",
     "shell.execute_reply": "2022-05-27T02:00:07.685149Z"
    },
    "papermill": {
     "duration": 0.031538,
     "end_time": "2022-05-27T02:00:07.687830",
     "exception": false,
     "start_time": "2022-05-27T02:00:07.656292",
     "status": "completed"
    },
    "tags": []
   },
   "outputs": [],
   "source": [
    "def get_model(model_type, backbone_name, checkpoint_path, args):\n",
    "    model = HotelIdModel(args.n_classes, backbone_name)\n",
    "        \n",
    "    checkpoint = torch.load(checkpoint_path)\n",
    "    model.load_state_dict(checkpoint[\"model\"])\n",
    "    model = model.to(args.device)\n",
    "    \n",
    "    return model"
   ]
  },
  {
   "cell_type": "code",
   "execution_count": 17,
   "id": "0bf42d94",
   "metadata": {
    "execution": {
     "iopub.execute_input": "2022-05-27T02:00:07.737229Z",
     "iopub.status.busy": "2022-05-27T02:00:07.736556Z",
     "iopub.status.idle": "2022-05-27T02:00:07.805120Z",
     "shell.execute_reply": "2022-05-27T02:00:07.804341Z"
    },
    "executionInfo": {
     "elapsed": 450,
     "status": "ok",
     "timestamp": 1619311064188,
     "user": {
      "displayName": "Jeom Jin-Ho",
      "photoUrl": "",
      "userId": "00155613517919499503"
     },
     "user_tz": -120
    },
    "id": "appointed-machinery",
    "papermill": {
     "duration": 0.095641,
     "end_time": "2022-05-27T02:00:07.807454",
     "exception": false,
     "start_time": "2022-05-27T02:00:07.711813",
     "status": "completed"
    },
    "tags": []
   },
   "outputs": [],
   "source": [
    "class args:\n",
    "    batch_size = 64\n",
    "    num_workers = 2\n",
    "    n_classes = hotel_id_code_df[\"hotel_id\"].nunique()\n",
    "    device = ('cuda' if torch.cuda.is_available() else 'cpu')\n",
    "    \n",
    "    \n",
    "seed_everything(seed=SEED)\n",
    "\n",
    "test_dataset = HotelImageDataset(test_df, base_transform, data_folder=TEST_DATA_FOLDER)\n",
    "test_loader = DataLoader(test_dataset, num_workers=args.num_workers, batch_size=args.batch_size, shuffle=False)"
   ]
  },
  {
   "cell_type": "code",
   "execution_count": 18,
   "id": "69f943ed",
   "metadata": {
    "execution": {
     "iopub.execute_input": "2022-05-27T02:00:07.858207Z",
     "iopub.status.busy": "2022-05-27T02:00:07.857939Z",
     "iopub.status.idle": "2022-05-27T02:00:16.220303Z",
     "shell.execute_reply": "2022-05-27T02:00:16.219528Z"
    },
    "papermill": {
     "duration": 8.390166,
     "end_time": "2022-05-27T02:00:16.222528",
     "exception": false,
     "start_time": "2022-05-27T02:00:07.832362",
     "status": "completed"
    },
    "tags": []
   },
   "outputs": [],
   "source": [
    "model = get_model(\"classification\", \"resnet34\",\n",
    "                  \"../input/resnet-training/checkpoint-classification-model-resnet34-256x256.pt\", \n",
    "                  args)"
   ]
  },
  {
   "cell_type": "markdown",
   "id": "101adfb6",
   "metadata": {
    "papermill": {
     "duration": 0.024302,
     "end_time": "2022-05-27T02:00:16.271116",
     "exception": false,
     "start_time": "2022-05-27T02:00:16.246814",
     "status": "completed"
    },
    "tags": []
   },
   "source": [
    "# Submission"
   ]
  },
  {
   "cell_type": "code",
   "execution_count": 19,
   "id": "f38d343f",
   "metadata": {
    "execution": {
     "iopub.execute_input": "2022-05-27T02:00:16.321408Z",
     "iopub.status.busy": "2022-05-27T02:00:16.321131Z",
     "iopub.status.idle": "2022-05-27T02:00:23.137546Z",
     "shell.execute_reply": "2022-05-27T02:00:23.136059Z"
    },
    "papermill": {
     "duration": 6.84527,
     "end_time": "2022-05-27T02:00:23.141075",
     "exception": false,
     "start_time": "2022-05-27T02:00:16.295805",
     "status": "completed"
    },
    "tags": []
   },
   "outputs": [
    {
     "name": "stderr",
     "output_type": "stream",
     "text": [
      "100%|██████████| 1/1 [00:06<00:00,  6.79s/it]"
     ]
    },
    {
     "name": "stdout",
     "output_type": "stream",
     "text": [
      "CPU times: user 815 ms, sys: 949 ms, total: 1.76 s\n",
      "Wall time: 6.8 s\n"
     ]
    },
    {
     "name": "stderr",
     "output_type": "stream",
     "text": [
      "\n"
     ]
    },
    {
     "data": {
      "text/html": [
       "<div>\n",
       "<style scoped>\n",
       "    .dataframe tbody tr th:only-of-type {\n",
       "        vertical-align: middle;\n",
       "    }\n",
       "\n",
       "    .dataframe tbody tr th {\n",
       "        vertical-align: top;\n",
       "    }\n",
       "\n",
       "    .dataframe thead th {\n",
       "        text-align: right;\n",
       "    }\n",
       "</style>\n",
       "<table border=\"1\" class=\"dataframe\">\n",
       "  <thead>\n",
       "    <tr style=\"text-align: right;\">\n",
       "      <th></th>\n",
       "      <th>image_id</th>\n",
       "      <th>hotel_id</th>\n",
       "    </tr>\n",
       "  </thead>\n",
       "  <tbody>\n",
       "    <tr>\n",
       "      <th>0</th>\n",
       "      <td>abc.jpg</td>\n",
       "      <td>83464 73224 197510 75346 5723</td>\n",
       "    </tr>\n",
       "  </tbody>\n",
       "</table>\n",
       "</div>"
      ],
      "text/plain": [
       "  image_id                       hotel_id\n",
       "0  abc.jpg  83464 73224 197510 75346 5723"
      ]
     },
     "execution_count": 19,
     "metadata": {},
     "output_type": "execute_result"
    }
   ],
   "source": [
    "%%time\n",
    "\n",
    "preds = predict(test_loader, model)\n",
    "# replace classes with hotel_id using mapping created in trainig notebook\n",
    "preds = [[hotel_id_code_map[b] for b in a] for a in preds]\n",
    "# transform array of hotel_ids into string\n",
    "test_df[\"hotel_id\"] = [str(list(l)).strip(\"[]\").replace(\",\", \"\") for l in preds]\n",
    "\n",
    "test_df.to_csv(\"submission.csv\", index=False)\n",
    "test_df.head()"
   ]
  }
 ],
 "metadata": {
  "kernelspec": {
   "display_name": "Python 3",
   "language": "python",
   "name": "python3"
  },
  "language_info": {
   "codemirror_mode": {
    "name": "ipython",
    "version": 3
   },
   "file_extension": ".py",
   "mimetype": "text/x-python",
   "name": "python",
   "nbconvert_exporter": "python",
   "pygments_lexer": "ipython3",
   "version": "3.7.12"
  },
  "papermill": {
   "default_parameters": {},
   "duration": 39.455669,
   "end_time": "2022-05-27T02:00:26.364425",
   "environment_variables": {},
   "exception": null,
   "input_path": "__notebook__.ipynb",
   "output_path": "__notebook__.ipynb",
   "parameters": {},
   "start_time": "2022-05-27T01:59:46.908756",
   "version": "2.3.4"
  }
 },
 "nbformat": 4,
 "nbformat_minor": 5
}
