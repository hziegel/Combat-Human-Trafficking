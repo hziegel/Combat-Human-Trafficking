{
 "cells": [
  {
   "cell_type": "markdown",
   "id": "912dfce6",
   "metadata": {
    "id": "DAY5rHgTm7e8",
    "papermill": {
     "duration": 0.022765,
     "end_time": "2025-04-01T16:08:30.592393",
     "exception": false,
     "start_time": "2025-04-01T16:08:30.569628",
     "status": "completed"
    },
    "tags": []
   },
   "source": [
    "# Intro\n",
    "Inference notebook for [Hotel-ID starter - classification - traning](https://www.kaggle.com/code/michaln/hotel-id-starter-classification-traning)\n",
    "\n"
   ]
  },
  {
   "cell_type": "markdown",
   "id": "081ba9b2",
   "metadata": {
    "papermill": {
     "duration": 0.020733,
     "end_time": "2025-04-01T16:08:30.634147",
     "exception": false,
     "start_time": "2025-04-01T16:08:30.613414",
     "status": "completed"
    },
    "tags": []
   },
   "source": [
    "# Setup"
   ]
  },
  {
   "cell_type": "code",
   "execution_count": 1,
   "id": "f17bba8c",
   "metadata": {
    "execution": {
     "iopub.execute_input": "2025-04-01T16:08:30.677761Z",
     "iopub.status.busy": "2025-04-01T16:08:30.677372Z",
     "iopub.status.idle": "2025-04-01T16:08:39.436403Z",
     "shell.execute_reply": "2025-04-01T16:08:39.435550Z"
    },
    "executionInfo": {
     "elapsed": 16271,
     "status": "ok",
     "timestamp": 1619310548121,
     "user": {
      "displayName": "Jeom Jin-Ho",
      "photoUrl": "",
      "userId": "00155613517919499503"
     },
     "user_tz": -120
    },
    "id": "alleged-legislation",
    "outputId": "c6541e5f-ffb4-4609-d6c6-39784e6a07b1",
    "papermill": {
     "duration": 8.783825,
     "end_time": "2025-04-01T16:08:39.438932",
     "exception": false,
     "start_time": "2025-04-01T16:08:30.655107",
     "status": "completed"
    },
    "tags": []
   },
   "outputs": [],
   "source": [
    "import sys\n",
    "sys.path.append('../input/timm-pytorch-image-models/pytorch-image-models-master')\n",
    "import timm"
   ]
  },
  {
   "cell_type": "markdown",
   "id": "f30e171b",
   "metadata": {
    "id": "cZoSOL9Qm-Yr",
    "papermill": {
     "duration": 0.02092,
     "end_time": "2025-04-01T16:08:39.481255",
     "exception": false,
     "start_time": "2025-04-01T16:08:39.460335",
     "status": "completed"
    },
    "tags": []
   },
   "source": [
    "# Imports"
   ]
  },
  {
   "cell_type": "code",
   "execution_count": 2,
   "id": "5bb60783",
   "metadata": {
    "_cell_guid": "b1076dfc-b9ad-4769-8c92-a6c4dae69d19",
    "_uuid": "8f2839f25d086af736a60e9eeb907d3b93b6e0e5",
    "execution": {
     "iopub.execute_input": "2025-04-01T16:08:39.527202Z",
     "iopub.status.busy": "2025-04-01T16:08:39.526491Z",
     "iopub.status.idle": "2025-04-01T16:08:39.531257Z",
     "shell.execute_reply": "2025-04-01T16:08:39.530327Z"
    },
    "executionInfo": {
     "elapsed": 14459,
     "status": "ok",
     "timestamp": 1619310548121,
     "user": {
      "displayName": "Jeom Jin-Ho",
      "photoUrl": "",
      "userId": "00155613517919499503"
     },
     "user_tz": -120
    },
    "id": "expired-matter",
    "papermill": {
     "duration": 0.030879,
     "end_time": "2025-04-01T16:08:39.533103",
     "exception": false,
     "start_time": "2025-04-01T16:08:39.502224",
     "status": "completed"
    },
    "tags": []
   },
   "outputs": [],
   "source": [
    "import numpy as np\n",
    "import pandas as pd\n",
    "import random\n",
    "import os\n",
    "import math"
   ]
  },
  {
   "cell_type": "code",
   "execution_count": 3,
   "id": "8fb2d143",
   "metadata": {
    "execution": {
     "iopub.execute_input": "2025-04-01T16:08:39.576956Z",
     "iopub.status.busy": "2025-04-01T16:08:39.576285Z",
     "iopub.status.idle": "2025-04-01T16:08:39.580232Z",
     "shell.execute_reply": "2025-04-01T16:08:39.579397Z"
    },
    "executionInfo": {
     "elapsed": 16003,
     "status": "ok",
     "timestamp": 1619310550014,
     "user": {
      "displayName": "Jeom Jin-Ho",
      "photoUrl": "",
      "userId": "00155613517919499503"
     },
     "user_tz": -120
    },
    "id": "extreme-problem",
    "papermill": {
     "duration": 0.027918,
     "end_time": "2025-04-01T16:08:39.582097",
     "exception": false,
     "start_time": "2025-04-01T16:08:39.554179",
     "status": "completed"
    },
    "tags": []
   },
   "outputs": [],
   "source": [
    "from PIL import Image as pil_image\n",
    "from tqdm import tqdm"
   ]
  },
  {
   "cell_type": "code",
   "execution_count": 4,
   "id": "9d205fe9",
   "metadata": {
    "execution": {
     "iopub.execute_input": "2025-04-01T16:08:39.626040Z",
     "iopub.status.busy": "2025-04-01T16:08:39.625307Z",
     "iopub.status.idle": "2025-04-01T16:08:39.629779Z",
     "shell.execute_reply": "2025-04-01T16:08:39.628905Z"
    },
    "executionInfo": {
     "elapsed": 19672,
     "status": "ok",
     "timestamp": 1619310554099,
     "user": {
      "displayName": "Jeom Jin-Ho",
      "photoUrl": "",
      "userId": "00155613517919499503"
     },
     "user_tz": -120
    },
    "id": "angry-domain",
    "papermill": {
     "duration": 0.028868,
     "end_time": "2025-04-01T16:08:39.631837",
     "exception": false,
     "start_time": "2025-04-01T16:08:39.602969",
     "status": "completed"
    },
    "tags": []
   },
   "outputs": [],
   "source": [
    "import torch\n",
    "import torch.nn as nn\n",
    "from torch.utils.data import DataLoader"
   ]
  },
  {
   "cell_type": "markdown",
   "id": "81f99153",
   "metadata": {
    "id": "0B00pe7mnBTj",
    "papermill": {
     "duration": 0.020872,
     "end_time": "2025-04-01T16:08:39.674076",
     "exception": false,
     "start_time": "2025-04-01T16:08:39.653204",
     "status": "completed"
    },
    "tags": []
   },
   "source": [
    "# Global"
   ]
  },
  {
   "cell_type": "code",
   "execution_count": 5,
   "id": "3e97175d",
   "metadata": {
    "execution": {
     "iopub.execute_input": "2025-04-01T16:08:39.717469Z",
     "iopub.status.busy": "2025-04-01T16:08:39.717083Z",
     "iopub.status.idle": "2025-04-01T16:08:39.721179Z",
     "shell.execute_reply": "2025-04-01T16:08:39.720441Z"
    },
    "executionInfo": {
     "elapsed": 589,
     "status": "ok",
     "timestamp": 1619310979015,
     "user": {
      "displayName": "Jeom Jin-Ho",
      "photoUrl": "",
      "userId": "00155613517919499503"
     },
     "user_tz": -120
    },
    "id": "contained-brief",
    "papermill": {
     "duration": 0.028162,
     "end_time": "2025-04-01T16:08:39.723194",
     "exception": false,
     "start_time": "2025-04-01T16:08:39.695032",
     "status": "completed"
    },
    "tags": []
   },
   "outputs": [],
   "source": [
    "SEED = 42\n",
    "IMG_SIZE = 256\n",
    "\n",
    "PROJECT_FOLDER = \"../input/hotel-id-to-combat-human-trafficking-2022-fgvc9/\"\n",
    "TEST_DATA_FOLDER = PROJECT_FOLDER + \"test_images/\""
   ]
  },
  {
   "cell_type": "code",
   "execution_count": 6,
   "id": "d8d3ac11",
   "metadata": {
    "execution": {
     "iopub.execute_input": "2025-04-01T16:08:39.766821Z",
     "iopub.status.busy": "2025-04-01T16:08:39.766051Z",
     "iopub.status.idle": "2025-04-01T16:08:39.771415Z",
     "shell.execute_reply": "2025-04-01T16:08:39.770651Z"
    },
    "executionInfo": {
     "elapsed": 879,
     "status": "ok",
     "timestamp": 1619310979515,
     "user": {
      "displayName": "Jeom Jin-Ho",
      "photoUrl": "",
      "userId": "00155613517919499503"
     },
     "user_tz": -120
    },
    "id": "PZvmFng7ctO3",
    "outputId": "dce0cc91-8e70-4acc-a0b8-6763ffffd5ca",
    "papermill": {
     "duration": 0.029209,
     "end_time": "2025-04-01T16:08:39.773286",
     "exception": false,
     "start_time": "2025-04-01T16:08:39.744077",
     "status": "completed"
    },
    "tags": []
   },
   "outputs": [
    {
     "name": "stdout",
     "output_type": "stream",
     "text": [
      "['sample_submission.csv', 'train_images', 'train_masks', 'test_images']\n"
     ]
    }
   ],
   "source": [
    "print(os.listdir(PROJECT_FOLDER))"
   ]
  },
  {
   "cell_type": "code",
   "execution_count": 7,
   "id": "f43293d3",
   "metadata": {
    "execution": {
     "iopub.execute_input": "2025-04-01T16:08:39.820249Z",
     "iopub.status.busy": "2025-04-01T16:08:39.819976Z",
     "iopub.status.idle": "2025-04-01T16:08:39.824794Z",
     "shell.execute_reply": "2025-04-01T16:08:39.824015Z"
    },
    "executionInfo": {
     "elapsed": 600,
     "status": "ok",
     "timestamp": 1619310981653,
     "user": {
      "displayName": "Jeom Jin-Ho",
      "photoUrl": "",
      "userId": "00155613517919499503"
     },
     "user_tz": -120
    },
    "id": "eastern-content",
    "papermill": {
     "duration": 0.030821,
     "end_time": "2025-04-01T16:08:39.826702",
     "exception": false,
     "start_time": "2025-04-01T16:08:39.795881",
     "status": "completed"
    },
    "tags": []
   },
   "outputs": [],
   "source": [
    "def seed_everything(seed):\n",
    "    random.seed(seed)\n",
    "    os.environ['PYTHONHASHSEED'] = str(seed)\n",
    "    np.random.seed(seed)\n",
    "    torch.manual_seed(seed)\n",
    "    torch.cuda.manual_seed(seed)\n",
    "    torch.backends.cudnn.deterministic = True"
   ]
  },
  {
   "cell_type": "markdown",
   "id": "f6a792af",
   "metadata": {
    "id": "xaJKvvuKnW4k",
    "papermill": {
     "duration": 0.02108,
     "end_time": "2025-04-01T16:08:39.869265",
     "exception": false,
     "start_time": "2025-04-01T16:08:39.848185",
     "status": "completed"
    },
    "tags": []
   },
   "source": [
    "# Dataset and transformations"
   ]
  },
  {
   "cell_type": "code",
   "execution_count": 8,
   "id": "285b7815",
   "metadata": {
    "execution": {
     "iopub.execute_input": "2025-04-01T16:08:39.913577Z",
     "iopub.status.busy": "2025-04-01T16:08:39.913283Z",
     "iopub.status.idle": "2025-04-01T16:08:42.091582Z",
     "shell.execute_reply": "2025-04-01T16:08:42.090583Z"
    },
    "executionInfo": {
     "elapsed": 1519,
     "status": "ok",
     "timestamp": 1619310984075,
     "user": {
      "displayName": "Jeom Jin-Ho",
      "photoUrl": "",
      "userId": "00155613517919499503"
     },
     "user_tz": -120
    },
    "id": "revolutionary-membership",
    "papermill": {
     "duration": 2.203165,
     "end_time": "2025-04-01T16:08:42.093867",
     "exception": false,
     "start_time": "2025-04-01T16:08:39.890702",
     "status": "completed"
    },
    "tags": []
   },
   "outputs": [],
   "source": [
    "import albumentations as A\n",
    "import albumentations.pytorch as APT\n",
    "import cv2 \n",
    "\n",
    "IMG_SIZE = 256\n",
    "\n",
    "# used for training dataset - augmentations and occlusions\n",
    "train_transform = A.Compose([\n",
    "    A.HorizontalFlip(p=0.75),\n",
    "    A.VerticalFlip(p=0.25),\n",
    "    A.ShiftScaleRotate(p=0.5, border_mode=cv2.BORDER_CONSTANT),\n",
    "    A.OpticalDistortion(p=0.25),\n",
    "    A.Perspective(p=0.25),\n",
    "    A.CoarseDropout(p=0.5, min_holes=1, max_holes=6, \n",
    "                    min_height=IMG_SIZE//16, max_height=IMG_SIZE//4,\n",
    "                    min_width=IMG_SIZE//16,  max_width=IMG_SIZE//4), # normal coarse dropout\n",
    "    \n",
    "    A.CoarseDropout(p=0.75, max_holes=1, \n",
    "                    min_height=IMG_SIZE//4, max_height=IMG_SIZE//2,\n",
    "                    min_width=IMG_SIZE//4,  max_width=IMG_SIZE//2, \n",
    "                    fill_value=(255,0,0)),# simulating occlusions in test data\n",
    "\n",
    "    A.RandomBrightnessContrast(p=0.75),\n",
    "    A.ToFloat(),\n",
    "    APT.transforms.ToTensorV2(),\n",
    "])\n",
    "\n",
    "# used for validation dataset - only occlusions\n",
    "val_transform = A.Compose([\n",
    "    A.CoarseDropout(p=0.75, max_holes=1, \n",
    "                    min_height=IMG_SIZE//4, max_height=IMG_SIZE//2,\n",
    "                    min_width=IMG_SIZE//4,  max_width=IMG_SIZE//2, \n",
    "                    fill_value=(255,0,0)),# simulating occlusions\n",
    "    A.ToFloat(),\n",
    "    APT.transforms.ToTensorV2(),\n",
    "])"
   ]
  },
  {
   "cell_type": "code",
   "execution_count": 9,
   "id": "6945aa30",
   "metadata": {
    "execution": {
     "iopub.execute_input": "2025-04-01T16:08:42.138756Z",
     "iopub.status.busy": "2025-04-01T16:08:42.138134Z",
     "iopub.status.idle": "2025-04-01T16:08:42.144774Z",
     "shell.execute_reply": "2025-04-01T16:08:42.143996Z"
    },
    "papermill": {
     "duration": 0.031018,
     "end_time": "2025-04-01T16:08:42.146503",
     "exception": false,
     "start_time": "2025-04-01T16:08:42.115485",
     "status": "completed"
    },
    "tags": []
   },
   "outputs": [],
   "source": [
    "def pad_image(img):\n",
    "    w, h, c = np.shape(img)\n",
    "    if w > h:\n",
    "        pad = int((w - h) / 2)\n",
    "        img = cv2.copyMakeBorder(img, 0, 0, pad, pad, cv2.BORDER_CONSTANT, value=0)\n",
    "    else:\n",
    "        pad = int((h - w) / 2)\n",
    "        img = cv2.copyMakeBorder(img, pad, pad, 0, 0, cv2.BORDER_CONSTANT, value=0)\n",
    "        \n",
    "    return img\n",
    "\n",
    "\n",
    "def open_and_preprocess_image(image_path):\n",
    "    img = cv2.imread(image_path)\n",
    "    img = cv2.cvtColor(img, cv2.COLOR_BGR2RGB)\n",
    "    img = pad_image(img)\n",
    "    return cv2.resize(img, (IMG_SIZE, IMG_SIZE))"
   ]
  },
  {
   "cell_type": "code",
   "execution_count": 10,
   "id": "910a02c4",
   "metadata": {
    "execution": {
     "iopub.execute_input": "2025-04-01T16:08:42.191221Z",
     "iopub.status.busy": "2025-04-01T16:08:42.190488Z",
     "iopub.status.idle": "2025-04-01T16:08:42.196991Z",
     "shell.execute_reply": "2025-04-01T16:08:42.196157Z"
    },
    "executionInfo": {
     "elapsed": 1058,
     "status": "ok",
     "timestamp": 1619310984077,
     "user": {
      "displayName": "Jeom Jin-Ho",
      "photoUrl": "",
      "userId": "00155613517919499503"
     },
     "user_tz": -120
    },
    "id": "found-mouth",
    "papermill": {
     "duration": 0.030901,
     "end_time": "2025-04-01T16:08:42.198920",
     "exception": false,
     "start_time": "2025-04-01T16:08:42.168019",
     "status": "completed"
    },
    "tags": []
   },
   "outputs": [],
   "source": [
    "class HotelImageDataset:\n",
    "    def __init__(self, data, transform=None, data_folder=\"train_images/\"):\n",
    "        self.data = data\n",
    "        self.data_folder = data_folder\n",
    "        self.transform = transform\n",
    "\n",
    "    def __len__(self):\n",
    "        return len(self.data)\n",
    "    \n",
    "    def __getitem__(self, idx):\n",
    "        record = self.data.iloc[idx]\n",
    "        image_path = self.data_folder + record[\"image_id\"]\n",
    "        \n",
    "        image = np.array(open_and_preprocess_image(image_path)).astype(np.uint8)\n",
    "\n",
    "        if self.transform:\n",
    "            transformed = self.transform(image=image)\n",
    "            image = transformed[\"image\"]\n",
    "        \n",
    "        return {\n",
    "            \"image\" : image,\n",
    "        }"
   ]
  },
  {
   "cell_type": "markdown",
   "id": "6b51ab72",
   "metadata": {
    "id": "NMDM4PwPnced",
    "papermill": {
     "duration": 0.022032,
     "end_time": "2025-04-01T16:08:42.243826",
     "exception": false,
     "start_time": "2025-04-01T16:08:42.221794",
     "status": "completed"
    },
    "tags": []
   },
   "source": [
    "# Model"
   ]
  },
  {
   "cell_type": "code",
   "execution_count": 11,
   "id": "17a1d04a",
   "metadata": {
    "execution": {
     "iopub.execute_input": "2025-04-01T16:08:42.288918Z",
     "iopub.status.busy": "2025-04-01T16:08:42.287993Z",
     "iopub.status.idle": "2025-04-01T16:08:42.293800Z",
     "shell.execute_reply": "2025-04-01T16:08:42.293136Z"
    },
    "papermill": {
     "duration": 0.030341,
     "end_time": "2025-04-01T16:08:42.295933",
     "exception": false,
     "start_time": "2025-04-01T16:08:42.265592",
     "status": "completed"
    },
    "tags": []
   },
   "outputs": [],
   "source": [
    "class HotelIdModel(nn.Module):\n",
    "    def __init__(self, n_classes=100, backbone_name=\"resnet34\"):\n",
    "        super(HotelIdModel, self).__init__()\n",
    "        \n",
    "        self.backbone = timm.create_model(backbone_name, num_classes=n_classes, pretrained=False)\n",
    "\n",
    "    def forward(self, x):\n",
    "        return self.backbone(x)"
   ]
  },
  {
   "cell_type": "markdown",
   "id": "b73c1c6b",
   "metadata": {
    "id": "YMZYKhUSneMY",
    "papermill": {
     "duration": 0.021266,
     "end_time": "2025-04-01T16:08:42.339565",
     "exception": false,
     "start_time": "2025-04-01T16:08:42.318299",
     "status": "completed"
    },
    "tags": []
   },
   "source": [
    "# Model helper functions"
   ]
  },
  {
   "cell_type": "code",
   "execution_count": 12,
   "id": "30e4a484",
   "metadata": {
    "execution": {
     "iopub.execute_input": "2025-04-01T16:08:42.383997Z",
     "iopub.status.busy": "2025-04-01T16:08:42.383278Z",
     "iopub.status.idle": "2025-04-01T16:08:42.392655Z",
     "shell.execute_reply": "2025-04-01T16:08:42.391819Z"
    },
    "papermill": {
     "duration": 0.033578,
     "end_time": "2025-04-01T16:08:42.394435",
     "exception": false,
     "start_time": "2025-04-01T16:08:42.360857",
     "status": "completed"
    },
    "tags": []
   },
   "outputs": [],
   "source": [
    "import torch\n",
    "import numpy as np\n",
    "from tqdm import tqdm\n",
    "\n",
    "def predict_tta(loader, model, n_matches=5, tta_transforms=3):\n",
    "    model.eval()\n",
    "    preds = []\n",
    "\n",
    "    with torch.no_grad():\n",
    "        for sample in tqdm(loader):\n",
    "            input_images = sample['image'].to(args.device)\n",
    "\n",
    "            tta_outputs = []\n",
    "            confidence_scores = []\n",
    "\n",
    "            # Original image inference (weighted 1.5x)\n",
    "            original_output = model(input_images)\n",
    "            original_prob = torch.sigmoid(original_output).cpu().numpy()\n",
    "            tta_outputs.append(1.5 * original_prob)\n",
    "            confidence_scores.append(1.5)\n",
    "\n",
    "            for _ in range(tta_transforms):\n",
    "                aug_input = torch.flip(input_images, dims=[-1])  # Horizontal flip\n",
    "                outputs = model(aug_input)\n",
    "                prob_outputs = torch.sigmoid(outputs).cpu().numpy()\n",
    "\n",
    "                confidence = np.mean(prob_outputs)\n",
    "                confidence_scores.append(confidence)\n",
    "\n",
    "                tta_outputs.append(prob_outputs)\n",
    "\n",
    "            # Confidence-weighted averaging\n",
    "            weighted_sum = np.sum([w * p for w, p in zip(confidence_scores, tta_outputs)], axis=0)\n",
    "            total_weight = np.sum(confidence_scores)\n",
    "            avg_outputs = weighted_sum / total_weight\n",
    "\n",
    "            preds.extend(avg_outputs)\n",
    "\n",
    "    preds = np.argsort(-np.array(preds), axis=1)[:, :n_matches]\n",
    "    return preds\n"
   ]
  },
  {
   "cell_type": "code",
   "execution_count": 13,
   "id": "6edfc0c4",
   "metadata": {
    "execution": {
     "iopub.execute_input": "2025-04-01T16:08:42.439966Z",
     "iopub.status.busy": "2025-04-01T16:08:42.439636Z",
     "iopub.status.idle": "2025-04-01T16:08:42.449835Z",
     "shell.execute_reply": "2025-04-01T16:08:42.448960Z"
    },
    "papermill": {
     "duration": 0.035357,
     "end_time": "2025-04-01T16:08:42.451851",
     "exception": false,
     "start_time": "2025-04-01T16:08:42.416494",
     "status": "completed"
    },
    "tags": []
   },
   "outputs": [],
   "source": [
    "import albumentations as A\n",
    "import albumentations.pytorch as APT\n",
    "import cv2 \n",
    "\n",
    "# used for training dataset - augmentations and occlusions\n",
    "train_transform = A.Compose([\n",
    "    A.RandomCrop(width=64, height=64),\n",
    "    A.HorizontalFlip(p=0.75),\n",
    "    #A.VerticalFlip(p=0.0),\n",
    "    A.ShiftScaleRotate(p=0.5, shift_limit=0.0625, scale_limit=0.1, rotate_limit=10, interpolation=cv2.INTER_NEAREST, border_mode=cv2.BORDER_CONSTANT),\n",
    "    A.OpticalDistortion(p=0.25, distort_limit=0.05, shift_limit=0.01),\n",
    "    A.Perspective(p=0.25, scale=(0.05, 0.1)),\n",
    "    A.ColorJitter(p=0.75, brightness=0.2, contrast=0.2, saturation=0.1, hue=0.05),\n",
    "    A.CoarseDropout(p=0.5, min_holes=1, max_holes=5, \n",
    "                    min_height=IMG_SIZE//16, max_height=IMG_SIZE//8,\n",
    "                    min_width=IMG_SIZE//16,  max_width=IMG_SIZE//8), # normal coarse dropout\n",
    "    \n",
    "    A.CoarseDropout(p=0.75, max_holes=1, \n",
    "                    min_height=IMG_SIZE//4, max_height=IMG_SIZE//2,\n",
    "                    min_width=IMG_SIZE//4,  max_width=IMG_SIZE//2, \n",
    "                    fill_value=(255,0,0)),# simulating occlusions in test data\n",
    "    #A.RandomBrightnessContrast(p=0.75),\n",
    "    A.ToFloat(),\n",
    "    APT.transforms.ToTensorV2(),\n",
    "])\n",
    "\n",
    "# used for validation dataset - only occlusions\n",
    "val_transform = A.Compose([\n",
    "    A.CoarseDropout(p=0.75, max_holes=1, \n",
    "                    min_height=IMG_SIZE//4, max_height=IMG_SIZE//2,\n",
    "                    min_width=IMG_SIZE//4,  max_width=IMG_SIZE//2, \n",
    "                    fill_value=(255,0,0)),# simulating occlusions\n",
    "    A.ToFloat(),\n",
    "    APT.transforms.ToTensorV2(),\n",
    "])\n",
    "\n",
    "# no augmentations\n",
    "base_transform = A.Compose([\n",
    "    A.ToFloat(),\n",
    "    APT.transforms.ToTensorV2(),\n",
    "])"
   ]
  },
  {
   "cell_type": "markdown",
   "id": "c3e08289",
   "metadata": {
    "id": "AwShW1wXniD6",
    "papermill": {
     "duration": 0.021436,
     "end_time": "2025-04-01T16:08:42.494863",
     "exception": false,
     "start_time": "2025-04-01T16:08:42.473427",
     "status": "completed"
    },
    "tags": []
   },
   "source": [
    "# Prepare data"
   ]
  },
  {
   "cell_type": "code",
   "execution_count": 14,
   "id": "1ecc964f",
   "metadata": {
    "execution": {
     "iopub.execute_input": "2025-04-01T16:08:42.539922Z",
     "iopub.status.busy": "2025-04-01T16:08:42.539625Z",
     "iopub.status.idle": "2025-04-01T16:08:42.558073Z",
     "shell.execute_reply": "2025-04-01T16:08:42.557214Z"
    },
    "executionInfo": {
     "elapsed": 3742,
     "status": "ok",
     "timestamp": 1619311036476,
     "user": {
      "displayName": "Jeom Jin-Ho",
      "photoUrl": "",
      "userId": "00155613517919499503"
     },
     "user_tz": -120
    },
    "id": "discrete-right",
    "outputId": "c21ed589-3139-4919-b5d5-07bcf6f1df15",
    "papermill": {
     "duration": 0.043512,
     "end_time": "2025-04-01T16:08:42.560275",
     "exception": false,
     "start_time": "2025-04-01T16:08:42.516763",
     "status": "completed"
    },
    "tags": []
   },
   "outputs": [],
   "source": [
    "test_df = pd.DataFrame(data={\"image_id\": os.listdir(TEST_DATA_FOLDER), \"hotel_id\": \"\"}).sort_values(by=\"image_id\")"
   ]
  },
  {
   "cell_type": "code",
   "execution_count": 15,
   "id": "c4e8a17b",
   "metadata": {
    "execution": {
     "iopub.execute_input": "2025-04-01T16:08:42.604464Z",
     "iopub.status.busy": "2025-04-01T16:08:42.604167Z",
     "iopub.status.idle": "2025-04-01T16:08:42.620928Z",
     "shell.execute_reply": "2025-04-01T16:08:42.620205Z"
    },
    "papermill": {
     "duration": 0.041077,
     "end_time": "2025-04-01T16:08:42.622896",
     "exception": false,
     "start_time": "2025-04-01T16:08:42.581819",
     "status": "completed"
    },
    "tags": []
   },
   "outputs": [],
   "source": [
    "# code hotel_id mapping created in training notebook by encoding hotel_ids\n",
    "hotel_id_code_df = pd.read_csv('../input/resnet-training/hotel_id_code_mapping.csv')\n",
    "hotel_id_code_map = hotel_id_code_df.set_index('hotel_id_code').to_dict()[\"hotel_id\"]"
   ]
  },
  {
   "cell_type": "markdown",
   "id": "def2bc6b",
   "metadata": {
    "id": "5JPdD2bpnniP",
    "papermill": {
     "duration": 0.021031,
     "end_time": "2025-04-01T16:08:42.665221",
     "exception": false,
     "start_time": "2025-04-01T16:08:42.644190",
     "status": "completed"
    },
    "tags": []
   },
   "source": [
    "# Prepare model"
   ]
  },
  {
   "cell_type": "code",
   "execution_count": 16,
   "id": "753cce38",
   "metadata": {
    "execution": {
     "iopub.execute_input": "2025-04-01T16:08:42.709424Z",
     "iopub.status.busy": "2025-04-01T16:08:42.709123Z",
     "iopub.status.idle": "2025-04-01T16:08:42.714150Z",
     "shell.execute_reply": "2025-04-01T16:08:42.713264Z"
    },
    "papermill": {
     "duration": 0.029532,
     "end_time": "2025-04-01T16:08:42.715968",
     "exception": false,
     "start_time": "2025-04-01T16:08:42.686436",
     "status": "completed"
    },
    "tags": []
   },
   "outputs": [],
   "source": [
    "def get_model(model_type, backbone_name, checkpoint_path, args):\n",
    "    model = HotelIdModel(args.n_classes, backbone_name)\n",
    "        \n",
    "    checkpoint = torch.load(checkpoint_path)\n",
    "    model.load_state_dict(checkpoint[\"model\"])\n",
    "    model = model.to(args.device)\n",
    "    \n",
    "    return model"
   ]
  },
  {
   "cell_type": "code",
   "execution_count": 17,
   "id": "569a4a18",
   "metadata": {
    "execution": {
     "iopub.execute_input": "2025-04-01T16:08:42.759902Z",
     "iopub.status.busy": "2025-04-01T16:08:42.759618Z",
     "iopub.status.idle": "2025-04-01T16:08:42.770307Z",
     "shell.execute_reply": "2025-04-01T16:08:42.769544Z"
    },
    "executionInfo": {
     "elapsed": 450,
     "status": "ok",
     "timestamp": 1619311064188,
     "user": {
      "displayName": "Jeom Jin-Ho",
      "photoUrl": "",
      "userId": "00155613517919499503"
     },
     "user_tz": -120
    },
    "id": "appointed-machinery",
    "papermill": {
     "duration": 0.035011,
     "end_time": "2025-04-01T16:08:42.772269",
     "exception": false,
     "start_time": "2025-04-01T16:08:42.737258",
     "status": "completed"
    },
    "tags": []
   },
   "outputs": [],
   "source": [
    "class args:\n",
    "    batch_size = 64\n",
    "    num_workers = 2\n",
    "    n_classes = hotel_id_code_df[\"hotel_id\"].nunique()\n",
    "    device = ('cuda' if torch.cuda.is_available() else 'cpu')\n",
    "    \n",
    "    \n",
    "seed_everything(seed=SEED)\n",
    "\n",
    "test_dataset = HotelImageDataset(test_df, base_transform, data_folder=TEST_DATA_FOLDER)\n",
    "test_loader = DataLoader(test_dataset, num_workers=args.num_workers, batch_size=args.batch_size, shuffle=False)"
   ]
  },
  {
   "cell_type": "code",
   "execution_count": 18,
   "id": "2f905f1e",
   "metadata": {
    "execution": {
     "iopub.execute_input": "2025-04-01T16:08:42.817274Z",
     "iopub.status.busy": "2025-04-01T16:08:42.816344Z",
     "iopub.status.idle": "2025-04-01T16:08:42.821754Z",
     "shell.execute_reply": "2025-04-01T16:08:42.820996Z"
    },
    "papermill": {
     "duration": 0.029935,
     "end_time": "2025-04-01T16:08:42.823724",
     "exception": false,
     "start_time": "2025-04-01T16:08:42.793789",
     "status": "completed"
    },
    "tags": []
   },
   "outputs": [],
   "source": [
    "import torch\n",
    "\n",
    "def get_model(model_type, backbone_name, checkpoint_path, args):\n",
    "    model = HotelIdModel(args.n_classes, backbone_name)\n",
    "    \n",
    "    # Load the checkpoint with map_location\n",
    "    checkpoint = torch.load(checkpoint_path, map_location=torch.device('cpu'))  \n",
    "    \n",
    "    model.load_state_dict(checkpoint[\"model\"])\n",
    "    model = model.to(args.device)  # Ensure it's moved to the correct device (CPU/GPU)\n",
    "    \n",
    "    return model"
   ]
  },
  {
   "cell_type": "code",
   "execution_count": 19,
   "id": "cb3a70a0",
   "metadata": {
    "execution": {
     "iopub.execute_input": "2025-04-01T16:08:42.867831Z",
     "iopub.status.busy": "2025-04-01T16:08:42.867520Z",
     "iopub.status.idle": "2025-04-01T16:08:45.228259Z",
     "shell.execute_reply": "2025-04-01T16:08:45.227231Z"
    },
    "papermill": {
     "duration": 2.386113,
     "end_time": "2025-04-01T16:08:45.231008",
     "exception": false,
     "start_time": "2025-04-01T16:08:42.844895",
     "status": "completed"
    },
    "tags": []
   },
   "outputs": [
    {
     "name": "stdout",
     "output_type": "stream",
     "text": [
      "HotelIdModel(\n",
      "  (backbone): ResNet(\n",
      "    (conv1): Conv2d(3, 64, kernel_size=(7, 7), stride=(2, 2), padding=(3, 3), bias=False)\n",
      "    (bn1): BatchNorm2d(64, eps=1e-05, momentum=0.1, affine=True, track_running_stats=True)\n",
      "    (act1): ReLU(inplace=True)\n",
      "    (maxpool): MaxPool2d(kernel_size=3, stride=2, padding=1, dilation=1, ceil_mode=False)\n",
      "    (layer1): Sequential(\n",
      "      (0): BasicBlock(\n",
      "        (conv1): Conv2d(64, 64, kernel_size=(3, 3), stride=(1, 1), padding=(1, 1), bias=False)\n",
      "        (bn1): BatchNorm2d(64, eps=1e-05, momentum=0.1, affine=True, track_running_stats=True)\n",
      "        (drop_block): Identity()\n",
      "        (act1): ReLU(inplace=True)\n",
      "        (aa): Identity()\n",
      "        (conv2): Conv2d(64, 64, kernel_size=(3, 3), stride=(1, 1), padding=(1, 1), bias=False)\n",
      "        (bn2): BatchNorm2d(64, eps=1e-05, momentum=0.1, affine=True, track_running_stats=True)\n",
      "        (act2): ReLU(inplace=True)\n",
      "      )\n",
      "      (1): BasicBlock(\n",
      "        (conv1): Conv2d(64, 64, kernel_size=(3, 3), stride=(1, 1), padding=(1, 1), bias=False)\n",
      "        (bn1): BatchNorm2d(64, eps=1e-05, momentum=0.1, affine=True, track_running_stats=True)\n",
      "        (drop_block): Identity()\n",
      "        (act1): ReLU(inplace=True)\n",
      "        (aa): Identity()\n",
      "        (conv2): Conv2d(64, 64, kernel_size=(3, 3), stride=(1, 1), padding=(1, 1), bias=False)\n",
      "        (bn2): BatchNorm2d(64, eps=1e-05, momentum=0.1, affine=True, track_running_stats=True)\n",
      "        (act2): ReLU(inplace=True)\n",
      "      )\n",
      "      (2): BasicBlock(\n",
      "        (conv1): Conv2d(64, 64, kernel_size=(3, 3), stride=(1, 1), padding=(1, 1), bias=False)\n",
      "        (bn1): BatchNorm2d(64, eps=1e-05, momentum=0.1, affine=True, track_running_stats=True)\n",
      "        (drop_block): Identity()\n",
      "        (act1): ReLU(inplace=True)\n",
      "        (aa): Identity()\n",
      "        (conv2): Conv2d(64, 64, kernel_size=(3, 3), stride=(1, 1), padding=(1, 1), bias=False)\n",
      "        (bn2): BatchNorm2d(64, eps=1e-05, momentum=0.1, affine=True, track_running_stats=True)\n",
      "        (act2): ReLU(inplace=True)\n",
      "      )\n",
      "    )\n",
      "    (layer2): Sequential(\n",
      "      (0): BasicBlock(\n",
      "        (conv1): Conv2d(64, 128, kernel_size=(3, 3), stride=(2, 2), padding=(1, 1), bias=False)\n",
      "        (bn1): BatchNorm2d(128, eps=1e-05, momentum=0.1, affine=True, track_running_stats=True)\n",
      "        (drop_block): Identity()\n",
      "        (act1): ReLU(inplace=True)\n",
      "        (aa): Identity()\n",
      "        (conv2): Conv2d(128, 128, kernel_size=(3, 3), stride=(1, 1), padding=(1, 1), bias=False)\n",
      "        (bn2): BatchNorm2d(128, eps=1e-05, momentum=0.1, affine=True, track_running_stats=True)\n",
      "        (act2): ReLU(inplace=True)\n",
      "        (downsample): Sequential(\n",
      "          (0): Conv2d(64, 128, kernel_size=(1, 1), stride=(2, 2), bias=False)\n",
      "          (1): BatchNorm2d(128, eps=1e-05, momentum=0.1, affine=True, track_running_stats=True)\n",
      "        )\n",
      "      )\n",
      "      (1): BasicBlock(\n",
      "        (conv1): Conv2d(128, 128, kernel_size=(3, 3), stride=(1, 1), padding=(1, 1), bias=False)\n",
      "        (bn1): BatchNorm2d(128, eps=1e-05, momentum=0.1, affine=True, track_running_stats=True)\n",
      "        (drop_block): Identity()\n",
      "        (act1): ReLU(inplace=True)\n",
      "        (aa): Identity()\n",
      "        (conv2): Conv2d(128, 128, kernel_size=(3, 3), stride=(1, 1), padding=(1, 1), bias=False)\n",
      "        (bn2): BatchNorm2d(128, eps=1e-05, momentum=0.1, affine=True, track_running_stats=True)\n",
      "        (act2): ReLU(inplace=True)\n",
      "      )\n",
      "      (2): BasicBlock(\n",
      "        (conv1): Conv2d(128, 128, kernel_size=(3, 3), stride=(1, 1), padding=(1, 1), bias=False)\n",
      "        (bn1): BatchNorm2d(128, eps=1e-05, momentum=0.1, affine=True, track_running_stats=True)\n",
      "        (drop_block): Identity()\n",
      "        (act1): ReLU(inplace=True)\n",
      "        (aa): Identity()\n",
      "        (conv2): Conv2d(128, 128, kernel_size=(3, 3), stride=(1, 1), padding=(1, 1), bias=False)\n",
      "        (bn2): BatchNorm2d(128, eps=1e-05, momentum=0.1, affine=True, track_running_stats=True)\n",
      "        (act2): ReLU(inplace=True)\n",
      "      )\n",
      "      (3): BasicBlock(\n",
      "        (conv1): Conv2d(128, 128, kernel_size=(3, 3), stride=(1, 1), padding=(1, 1), bias=False)\n",
      "        (bn1): BatchNorm2d(128, eps=1e-05, momentum=0.1, affine=True, track_running_stats=True)\n",
      "        (drop_block): Identity()\n",
      "        (act1): ReLU(inplace=True)\n",
      "        (aa): Identity()\n",
      "        (conv2): Conv2d(128, 128, kernel_size=(3, 3), stride=(1, 1), padding=(1, 1), bias=False)\n",
      "        (bn2): BatchNorm2d(128, eps=1e-05, momentum=0.1, affine=True, track_running_stats=True)\n",
      "        (act2): ReLU(inplace=True)\n",
      "      )\n",
      "    )\n",
      "    (layer3): Sequential(\n",
      "      (0): BasicBlock(\n",
      "        (conv1): Conv2d(128, 256, kernel_size=(3, 3), stride=(2, 2), padding=(1, 1), bias=False)\n",
      "        (bn1): BatchNorm2d(256, eps=1e-05, momentum=0.1, affine=True, track_running_stats=True)\n",
      "        (drop_block): Identity()\n",
      "        (act1): ReLU(inplace=True)\n",
      "        (aa): Identity()\n",
      "        (conv2): Conv2d(256, 256, kernel_size=(3, 3), stride=(1, 1), padding=(1, 1), bias=False)\n",
      "        (bn2): BatchNorm2d(256, eps=1e-05, momentum=0.1, affine=True, track_running_stats=True)\n",
      "        (act2): ReLU(inplace=True)\n",
      "        (downsample): Sequential(\n",
      "          (0): Conv2d(128, 256, kernel_size=(1, 1), stride=(2, 2), bias=False)\n",
      "          (1): BatchNorm2d(256, eps=1e-05, momentum=0.1, affine=True, track_running_stats=True)\n",
      "        )\n",
      "      )\n",
      "      (1): BasicBlock(\n",
      "        (conv1): Conv2d(256, 256, kernel_size=(3, 3), stride=(1, 1), padding=(1, 1), bias=False)\n",
      "        (bn1): BatchNorm2d(256, eps=1e-05, momentum=0.1, affine=True, track_running_stats=True)\n",
      "        (drop_block): Identity()\n",
      "        (act1): ReLU(inplace=True)\n",
      "        (aa): Identity()\n",
      "        (conv2): Conv2d(256, 256, kernel_size=(3, 3), stride=(1, 1), padding=(1, 1), bias=False)\n",
      "        (bn2): BatchNorm2d(256, eps=1e-05, momentum=0.1, affine=True, track_running_stats=True)\n",
      "        (act2): ReLU(inplace=True)\n",
      "      )\n",
      "      (2): BasicBlock(\n",
      "        (conv1): Conv2d(256, 256, kernel_size=(3, 3), stride=(1, 1), padding=(1, 1), bias=False)\n",
      "        (bn1): BatchNorm2d(256, eps=1e-05, momentum=0.1, affine=True, track_running_stats=True)\n",
      "        (drop_block): Identity()\n",
      "        (act1): ReLU(inplace=True)\n",
      "        (aa): Identity()\n",
      "        (conv2): Conv2d(256, 256, kernel_size=(3, 3), stride=(1, 1), padding=(1, 1), bias=False)\n",
      "        (bn2): BatchNorm2d(256, eps=1e-05, momentum=0.1, affine=True, track_running_stats=True)\n",
      "        (act2): ReLU(inplace=True)\n",
      "      )\n",
      "      (3): BasicBlock(\n",
      "        (conv1): Conv2d(256, 256, kernel_size=(3, 3), stride=(1, 1), padding=(1, 1), bias=False)\n",
      "        (bn1): BatchNorm2d(256, eps=1e-05, momentum=0.1, affine=True, track_running_stats=True)\n",
      "        (drop_block): Identity()\n",
      "        (act1): ReLU(inplace=True)\n",
      "        (aa): Identity()\n",
      "        (conv2): Conv2d(256, 256, kernel_size=(3, 3), stride=(1, 1), padding=(1, 1), bias=False)\n",
      "        (bn2): BatchNorm2d(256, eps=1e-05, momentum=0.1, affine=True, track_running_stats=True)\n",
      "        (act2): ReLU(inplace=True)\n",
      "      )\n",
      "      (4): BasicBlock(\n",
      "        (conv1): Conv2d(256, 256, kernel_size=(3, 3), stride=(1, 1), padding=(1, 1), bias=False)\n",
      "        (bn1): BatchNorm2d(256, eps=1e-05, momentum=0.1, affine=True, track_running_stats=True)\n",
      "        (drop_block): Identity()\n",
      "        (act1): ReLU(inplace=True)\n",
      "        (aa): Identity()\n",
      "        (conv2): Conv2d(256, 256, kernel_size=(3, 3), stride=(1, 1), padding=(1, 1), bias=False)\n",
      "        (bn2): BatchNorm2d(256, eps=1e-05, momentum=0.1, affine=True, track_running_stats=True)\n",
      "        (act2): ReLU(inplace=True)\n",
      "      )\n",
      "      (5): BasicBlock(\n",
      "        (conv1): Conv2d(256, 256, kernel_size=(3, 3), stride=(1, 1), padding=(1, 1), bias=False)\n",
      "        (bn1): BatchNorm2d(256, eps=1e-05, momentum=0.1, affine=True, track_running_stats=True)\n",
      "        (drop_block): Identity()\n",
      "        (act1): ReLU(inplace=True)\n",
      "        (aa): Identity()\n",
      "        (conv2): Conv2d(256, 256, kernel_size=(3, 3), stride=(1, 1), padding=(1, 1), bias=False)\n",
      "        (bn2): BatchNorm2d(256, eps=1e-05, momentum=0.1, affine=True, track_running_stats=True)\n",
      "        (act2): ReLU(inplace=True)\n",
      "      )\n",
      "    )\n",
      "    (layer4): Sequential(\n",
      "      (0): BasicBlock(\n",
      "        (conv1): Conv2d(256, 512, kernel_size=(3, 3), stride=(2, 2), padding=(1, 1), bias=False)\n",
      "        (bn1): BatchNorm2d(512, eps=1e-05, momentum=0.1, affine=True, track_running_stats=True)\n",
      "        (drop_block): Identity()\n",
      "        (act1): ReLU(inplace=True)\n",
      "        (aa): Identity()\n",
      "        (conv2): Conv2d(512, 512, kernel_size=(3, 3), stride=(1, 1), padding=(1, 1), bias=False)\n",
      "        (bn2): BatchNorm2d(512, eps=1e-05, momentum=0.1, affine=True, track_running_stats=True)\n",
      "        (act2): ReLU(inplace=True)\n",
      "        (downsample): Sequential(\n",
      "          (0): Conv2d(256, 512, kernel_size=(1, 1), stride=(2, 2), bias=False)\n",
      "          (1): BatchNorm2d(512, eps=1e-05, momentum=0.1, affine=True, track_running_stats=True)\n",
      "        )\n",
      "      )\n",
      "      (1): BasicBlock(\n",
      "        (conv1): Conv2d(512, 512, kernel_size=(3, 3), stride=(1, 1), padding=(1, 1), bias=False)\n",
      "        (bn1): BatchNorm2d(512, eps=1e-05, momentum=0.1, affine=True, track_running_stats=True)\n",
      "        (drop_block): Identity()\n",
      "        (act1): ReLU(inplace=True)\n",
      "        (aa): Identity()\n",
      "        (conv2): Conv2d(512, 512, kernel_size=(3, 3), stride=(1, 1), padding=(1, 1), bias=False)\n",
      "        (bn2): BatchNorm2d(512, eps=1e-05, momentum=0.1, affine=True, track_running_stats=True)\n",
      "        (act2): ReLU(inplace=True)\n",
      "      )\n",
      "      (2): BasicBlock(\n",
      "        (conv1): Conv2d(512, 512, kernel_size=(3, 3), stride=(1, 1), padding=(1, 1), bias=False)\n",
      "        (bn1): BatchNorm2d(512, eps=1e-05, momentum=0.1, affine=True, track_running_stats=True)\n",
      "        (drop_block): Identity()\n",
      "        (act1): ReLU(inplace=True)\n",
      "        (aa): Identity()\n",
      "        (conv2): Conv2d(512, 512, kernel_size=(3, 3), stride=(1, 1), padding=(1, 1), bias=False)\n",
      "        (bn2): BatchNorm2d(512, eps=1e-05, momentum=0.1, affine=True, track_running_stats=True)\n",
      "        (act2): ReLU(inplace=True)\n",
      "      )\n",
      "    )\n",
      "    (global_pool): SelectAdaptivePool2d (pool_type=avg, flatten=Flatten(start_dim=1, end_dim=-1))\n",
      "    (fc): Linear(in_features=512, out_features=3116, bias=True)\n",
      "  )\n",
      ")\n"
     ]
    }
   ],
   "source": [
    "model = get_model(\"classification\", \"resnet34\", \n",
    "                  \"../input/resnet-training/checkpoint-classification-model-resnet34-256x256.pt\", \n",
    "                  args)\n",
    "\n",
    "print(model)\n"
   ]
  },
  {
   "cell_type": "markdown",
   "id": "5cddb589",
   "metadata": {
    "papermill": {
     "duration": 0.021887,
     "end_time": "2025-04-01T16:08:45.275620",
     "exception": false,
     "start_time": "2025-04-01T16:08:45.253733",
     "status": "completed"
    },
    "tags": []
   },
   "source": [
    "# Submission"
   ]
  },
  {
   "cell_type": "code",
   "execution_count": 20,
   "id": "3c0abf03",
   "metadata": {
    "execution": {
     "iopub.execute_input": "2025-04-01T16:08:45.321845Z",
     "iopub.status.busy": "2025-04-01T16:08:45.321275Z",
     "iopub.status.idle": "2025-04-01T16:08:45.956677Z",
     "shell.execute_reply": "2025-04-01T16:08:45.955719Z"
    },
    "papermill": {
     "duration": 0.661405,
     "end_time": "2025-04-01T16:08:45.958984",
     "exception": false,
     "start_time": "2025-04-01T16:08:45.297579",
     "status": "completed"
    },
    "tags": []
   },
   "outputs": [
    {
     "name": "stderr",
     "output_type": "stream",
     "text": [
      "100%|██████████| 1/1 [00:00<00:00,  1.65it/s]"
     ]
    },
    {
     "name": "stdout",
     "output_type": "stream",
     "text": [
      "CPU times: user 779 ms, sys: 87.3 ms, total: 866 ms\n",
      "Wall time: 619 ms\n"
     ]
    },
    {
     "name": "stderr",
     "output_type": "stream",
     "text": [
      "\n"
     ]
    },
    {
     "data": {
      "text/html": [
       "<div>\n",
       "<style scoped>\n",
       "    .dataframe tbody tr th:only-of-type {\n",
       "        vertical-align: middle;\n",
       "    }\n",
       "\n",
       "    .dataframe tbody tr th {\n",
       "        vertical-align: top;\n",
       "    }\n",
       "\n",
       "    .dataframe thead th {\n",
       "        text-align: right;\n",
       "    }\n",
       "</style>\n",
       "<table border=\"1\" class=\"dataframe\">\n",
       "  <thead>\n",
       "    <tr style=\"text-align: right;\">\n",
       "      <th></th>\n",
       "      <th>image_id</th>\n",
       "      <th>hotel_id</th>\n",
       "    </tr>\n",
       "  </thead>\n",
       "  <tbody>\n",
       "    <tr>\n",
       "      <th>0</th>\n",
       "      <td>abc.jpg</td>\n",
       "      <td>24700 18800 108817 14155 40941</td>\n",
       "    </tr>\n",
       "  </tbody>\n",
       "</table>\n",
       "</div>"
      ],
      "text/plain": [
       "  image_id                        hotel_id\n",
       "0  abc.jpg  24700 18800 108817 14155 40941"
      ]
     },
     "execution_count": 20,
     "metadata": {},
     "output_type": "execute_result"
    }
   ],
   "source": [
    "%%time\n",
    "\n",
    "preds = predict_tta(test_loader, model, n_matches=5, tta_transforms=3)\n",
    "# replace classes with hotel_id using mapping created in trainig notebook\n",
    "preds = [[hotel_id_code_map[b] for b in a] for a in preds]\n",
    "# transform array of hotel_ids into string\n",
    "test_df[\"hotel_id\"] = [str(list(l)).strip(\"[]\").replace(\",\", \"\") for l in preds]\n",
    "\n",
    "test_df.to_csv(\"submission.csv\", index=False)\n",
    "test_df.head()"
   ]
  }
 ],
 "metadata": {
  "kaggle": {
   "accelerator": "none",
   "dataSources": [
    {
     "databundleVersionId": 4957097,
     "sourceId": 35150,
     "sourceType": "competition"
    },
    {
     "datasetId": 1027206,
     "sourceId": 3951115,
     "sourceType": "datasetVersion"
    },
    {
     "sourceId": 96549317,
     "sourceType": "kernelVersion"
    }
   ],
   "dockerImageVersionId": 30191,
   "isGpuEnabled": false,
   "isInternetEnabled": false,
   "language": "python",
   "sourceType": "notebook"
  },
  "kernelspec": {
   "display_name": "Python 3",
   "language": "python",
   "name": "python3"
  },
  "language_info": {
   "codemirror_mode": {
    "name": "ipython",
    "version": 3
   },
   "file_extension": ".py",
   "mimetype": "text/x-python",
   "name": "python",
   "nbconvert_exporter": "python",
   "pygments_lexer": "ipython3",
   "version": "3.7.12"
  },
  "papermill": {
   "default_parameters": {},
   "duration": 27.479125,
   "end_time": "2025-04-01T16:08:49.419778",
   "environment_variables": {},
   "exception": null,
   "input_path": "__notebook__.ipynb",
   "output_path": "__notebook__.ipynb",
   "parameters": {},
   "start_time": "2025-04-01T16:08:21.940653",
   "version": "2.3.4"
  }
 },
 "nbformat": 4,
 "nbformat_minor": 5
}
