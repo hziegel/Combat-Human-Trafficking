{
  "cells": [
    {
      "cell_type": "markdown",
      "id": "f3276c01",
      "metadata": {
        "id": "f3276c01",
        "papermill": {
          "duration": 0.01766,
          "end_time": "2025-02-28T18:03:29.442099",
          "exception": false,
          "start_time": "2025-02-28T18:03:29.424439",
          "status": "completed"
        },
        "tags": []
      },
      "source": [
        "# Intro\n",
        "Inference notebook for [Hotel-ID starter - classification - traning](https://www.kaggle.com/code/michaln/hotel-id-starter-classification-traning)\n",
        "\n"
      ]
    },
    {
      "cell_type": "markdown",
      "id": "18d85d5d",
      "metadata": {
        "id": "18d85d5d",
        "papermill": {
          "duration": 0.016503,
          "end_time": "2025-02-28T18:03:29.474535",
          "exception": false,
          "start_time": "2025-02-28T18:03:29.458032",
          "status": "completed"
        },
        "tags": []
      },
      "source": [
        "# Setup"
      ]
    },
    {
      "cell_type": "code",
      "execution_count": 1,
      "id": "dbcdfc5a",
      "metadata": {
        "execution": {
          "iopub.execute_input": "2025-04-25T18:29:38.821016Z",
          "iopub.status.busy": "2025-04-25T18:29:38.820618Z",
          "iopub.status.idle": "2025-04-25T18:29:38.826662Z",
          "shell.execute_reply": "2025-04-25T18:29:38.825600Z",
          "shell.execute_reply.started": "2025-04-25T18:29:38.820971Z"
        },
        "id": "dbcdfc5a",
        "papermill": {
          "duration": 9.265524,
          "end_time": "2025-02-28T18:03:38.760161",
          "exception": false,
          "start_time": "2025-02-28T18:03:29.494637",
          "status": "completed"
        },
        "tags": []
      },
      "outputs": [],
      "source": [
        "import sys\n",
        "sys.path.append('../input/timm-pytorch-image-models/pytorch-image-models-master')\n",
        "import timm"
      ]
    },
    {
      "cell_type": "markdown",
      "id": "7fca7a66",
      "metadata": {
        "id": "7fca7a66",
        "papermill": {
          "duration": 0.015743,
          "end_time": "2025-02-28T18:03:38.791631",
          "exception": false,
          "start_time": "2025-02-28T18:03:38.775888",
          "status": "completed"
        },
        "tags": []
      },
      "source": [
        "# Imports"
      ]
    },
    {
      "cell_type": "code",
      "execution_count": 2,
      "id": "066887a5",
      "metadata": {
        "_cell_guid": "b1076dfc-b9ad-4769-8c92-a6c4dae69d19",
        "_uuid": "8f2839f25d086af736a60e9eeb907d3b93b6e0e5",
        "execution": {
          "iopub.execute_input": "2025-04-25T18:29:38.829087Z",
          "iopub.status.busy": "2025-04-25T18:29:38.828715Z",
          "iopub.status.idle": "2025-04-25T18:29:38.852817Z",
          "shell.execute_reply": "2025-04-25T18:29:38.851759Z",
          "shell.execute_reply.started": "2025-04-25T18:29:38.829053Z"
        },
        "id": "066887a5",
        "papermill": {
          "duration": 0.023666,
          "end_time": "2025-02-28T18:03:38.831285",
          "exception": false,
          "start_time": "2025-02-28T18:03:38.807619",
          "status": "completed"
        },
        "tags": []
      },
      "outputs": [],
      "source": [
        "import numpy as np\n",
        "import pandas as pd\n",
        "import random\n",
        "import os\n",
        "import math"
      ]
    },
    {
      "cell_type": "code",
      "execution_count": 3,
      "id": "4e466de7",
      "metadata": {
        "execution": {
          "iopub.execute_input": "2025-04-25T18:29:38.854396Z",
          "iopub.status.busy": "2025-04-25T18:29:38.854066Z",
          "iopub.status.idle": "2025-04-25T18:29:38.876397Z",
          "shell.execute_reply": "2025-04-25T18:29:38.875274Z",
          "shell.execute_reply.started": "2025-04-25T18:29:38.854375Z"
        },
        "id": "4e466de7",
        "papermill": {
          "duration": 0.020415,
          "end_time": "2025-02-28T18:03:38.867171",
          "exception": false,
          "start_time": "2025-02-28T18:03:38.846756",
          "status": "completed"
        },
        "tags": []
      },
      "outputs": [],
      "source": [
        "from PIL import Image as pil_image\n",
        "from tqdm import tqdm"
      ]
    },
    {
      "cell_type": "code",
      "execution_count": 4,
      "id": "59525f15",
      "metadata": {
        "execution": {
          "iopub.execute_input": "2025-04-25T18:29:38.879187Z",
          "iopub.status.busy": "2025-04-25T18:29:38.878821Z",
          "iopub.status.idle": "2025-04-25T18:29:38.902227Z",
          "shell.execute_reply": "2025-04-25T18:29:38.901343Z",
          "shell.execute_reply.started": "2025-04-25T18:29:38.879162Z"
        },
        "id": "59525f15",
        "papermill": {
          "duration": 0.02016,
          "end_time": "2025-02-28T18:03:38.902711",
          "exception": false,
          "start_time": "2025-02-28T18:03:38.882551",
          "status": "completed"
        },
        "tags": []
      },
      "outputs": [],
      "source": [
        "import torch\n",
        "import torch.nn as nn\n",
        "from torch.utils.data import DataLoader"
      ]
    },
    {
      "cell_type": "markdown",
      "id": "f0dc8a04",
      "metadata": {
        "id": "f0dc8a04",
        "papermill": {
          "duration": 0.016011,
          "end_time": "2025-02-28T18:03:38.934404",
          "exception": false,
          "start_time": "2025-02-28T18:03:38.918393",
          "status": "completed"
        },
        "tags": []
      },
      "source": [
        "# Global"
      ]
    },
    {
      "cell_type": "markdown",
      "source": [],
      "metadata": {
        "id": "LrsUdyBzmpZj"
      },
      "id": "LrsUdyBzmpZj"
    },
    {
      "cell_type": "code",
      "execution_count": 5,
      "id": "f1b3b030",
      "metadata": {
        "execution": {
          "iopub.execute_input": "2025-04-25T18:29:38.904019Z",
          "iopub.status.busy": "2025-04-25T18:29:38.903664Z",
          "iopub.status.idle": "2025-04-25T18:29:38.926299Z",
          "shell.execute_reply": "2025-04-25T18:29:38.925247Z",
          "shell.execute_reply.started": "2025-04-25T18:29:38.903989Z"
        },
        "id": "f1b3b030",
        "papermill": {
          "duration": 0.021827,
          "end_time": "2025-02-28T18:03:38.971649",
          "exception": false,
          "start_time": "2025-02-28T18:03:38.949822",
          "status": "completed"
        },
        "tags": []
      },
      "outputs": [],
      "source": [
        "SEED = 42\n",
        "IMG_SIZE = 256\n",
        "\n",
        "PROJECT_FOLDER = \"../input/hotel-id-to-combat-human-trafficking-2022-fgvc9/\"\n",
        "TEST_DATA_FOLDER = PROJECT_FOLDER + \"test_images/\""
      ]
    },
    {
      "cell_type": "code",
      "execution_count": 7,
      "id": "81857006",
      "metadata": {
        "execution": {
          "iopub.execute_input": "2025-04-25T18:29:38.927839Z",
          "iopub.status.busy": "2025-04-25T18:29:38.927401Z",
          "iopub.status.idle": "2025-04-25T18:29:38.952706Z",
          "shell.execute_reply": "2025-04-25T18:29:38.951580Z",
          "shell.execute_reply.started": "2025-04-25T18:29:38.927807Z"
        },
        "id": "81857006",
        "outputId": "6bc94c56-b3e5-4fd5-c4f8-d543ccecb618",
        "papermill": {
          "duration": 0.024052,
          "end_time": "2025-02-28T18:03:39.011278",
          "exception": false,
          "start_time": "2025-02-28T18:03:38.987226",
          "status": "completed"
        },
        "tags": [],
        "colab": {
          "base_uri": "https://localhost:8080/",
          "height": 144
        }
      },
      "outputs": [
        {
          "output_type": "error",
          "ename": "FileNotFoundError",
          "evalue": "[Errno 2] No such file or directory: '../input/hotel-id-to-combat-human-trafficking-2022-fgvc9/'",
          "traceback": [
            "\u001b[0;31m---------------------------------------------------------------------------\u001b[0m",
            "\u001b[0;31mFileNotFoundError\u001b[0m                         Traceback (most recent call last)",
            "\u001b[0;32m<ipython-input-7-3a5539fb46f3>\u001b[0m in \u001b[0;36m<cell line: 0>\u001b[0;34m()\u001b[0m\n\u001b[0;32m----> 1\u001b[0;31m \u001b[0mprint\u001b[0m\u001b[0;34m(\u001b[0m\u001b[0mos\u001b[0m\u001b[0;34m.\u001b[0m\u001b[0mlistdir\u001b[0m\u001b[0;34m(\u001b[0m\u001b[0mPROJECT_FOLDER\u001b[0m\u001b[0;34m)\u001b[0m\u001b[0;34m)\u001b[0m\u001b[0;34m\u001b[0m\u001b[0;34m\u001b[0m\u001b[0m\n\u001b[0m",
            "\u001b[0;31mFileNotFoundError\u001b[0m: [Errno 2] No such file or directory: '../input/hotel-id-to-combat-human-trafficking-2022-fgvc9/'"
          ]
        }
      ],
      "source": [
        "print(os.listdir(PROJECT_FOLDER))"
      ]
    },
    {
      "cell_type": "code",
      "execution_count": null,
      "id": "825553d7",
      "metadata": {
        "execution": {
          "iopub.execute_input": "2025-04-25T18:29:38.954214Z",
          "iopub.status.busy": "2025-04-25T18:29:38.953763Z",
          "iopub.status.idle": "2025-04-25T18:29:38.972391Z",
          "shell.execute_reply": "2025-04-25T18:29:38.971382Z",
          "shell.execute_reply.started": "2025-04-25T18:29:38.954179Z"
        },
        "id": "825553d7",
        "papermill": {
          "duration": 0.023645,
          "end_time": "2025-02-28T18:03:39.051762",
          "exception": false,
          "start_time": "2025-02-28T18:03:39.028117",
          "status": "completed"
        },
        "tags": []
      },
      "outputs": [],
      "source": [
        "def seed_everything(seed):\n",
        "    random.seed(seed)\n",
        "    os.environ['PYTHONHASHSEED'] = str(seed)\n",
        "    np.random.seed(seed)\n",
        "    torch.manual_seed(seed)\n",
        "    torch.cuda.manual_seed(seed)\n",
        "    torch.backends.cudnn.deterministic = True"
      ]
    },
    {
      "cell_type": "markdown",
      "id": "c6b59136",
      "metadata": {
        "id": "c6b59136",
        "papermill": {
          "duration": 0.015254,
          "end_time": "2025-02-28T18:03:39.082756",
          "exception": false,
          "start_time": "2025-02-28T18:03:39.067502",
          "status": "completed"
        },
        "tags": []
      },
      "source": [
        "# Dataset and transformations"
      ]
    },
    {
      "cell_type": "code",
      "execution_count": null,
      "id": "a9bd6a4f",
      "metadata": {
        "execution": {
          "iopub.execute_input": "2025-04-25T18:29:38.973931Z",
          "iopub.status.busy": "2025-04-25T18:29:38.973564Z",
          "iopub.status.idle": "2025-04-25T18:29:39.005748Z",
          "shell.execute_reply": "2025-04-25T18:29:39.004580Z",
          "shell.execute_reply.started": "2025-04-25T18:29:38.973901Z"
        },
        "id": "a9bd6a4f",
        "outputId": "4cfc8ace-e962-4b24-921b-691f83ee8322",
        "papermill": {
          "duration": 2.034041,
          "end_time": "2025-02-28T18:03:41.132992",
          "exception": false,
          "start_time": "2025-02-28T18:03:39.098951",
          "status": "completed"
        },
        "tags": []
      },
      "outputs": [
        {
          "name": "stderr",
          "output_type": "stream",
          "text": [
            "/usr/local/lib/python3.11/dist-packages/albumentations/core/validation.py:58: UserWarning: ShiftScaleRotate is a special case of Affine transform. Please use Affine transform instead.\n",
            "  original_init(self, **validated_kwargs)\n",
            "/tmp/ipykernel_31/3729967500.py:14: UserWarning: Argument(s) 'min_holes, max_holes, min_height, max_height, min_width, max_width' are not valid for transform CoarseDropout\n",
            "  A.CoarseDropout(p=0.5, min_holes=1, max_holes=6,\n",
            "/tmp/ipykernel_31/3729967500.py:18: UserWarning: Argument(s) 'max_holes, min_height, max_height, min_width, max_width, fill_value' are not valid for transform CoarseDropout\n",
            "  A.CoarseDropout(p=0.75, max_holes=1,\n",
            "/tmp/ipykernel_31/3729967500.py:30: UserWarning: Argument(s) 'max_holes, min_height, max_height, min_width, max_width, fill_value' are not valid for transform CoarseDropout\n",
            "  A.CoarseDropout(p=0.75, max_holes=1,\n"
          ]
        }
      ],
      "source": [
        "import albumentations as A\n",
        "import albumentations.pytorch as APT\n",
        "import cv2\n",
        "\n",
        "IMG_SIZE = 256\n",
        "\n",
        "# used for training dataset - augmentations and occlusions\n",
        "train_transform = A.Compose([\n",
        "    A.HorizontalFlip(p=0.75),\n",
        "    A.VerticalFlip(p=0.25),\n",
        "    A.ShiftScaleRotate(p=0.5, border_mode=cv2.BORDER_CONSTANT),\n",
        "    A.OpticalDistortion(p=0.25),\n",
        "    A.Perspective(p=0.25),\n",
        "    A.CoarseDropout(p=0.5, min_holes=1, max_holes=6,\n",
        "                    min_height=IMG_SIZE//16, max_height=IMG_SIZE//4,\n",
        "                    min_width=IMG_SIZE//16,  max_width=IMG_SIZE//4), # normal coarse dropout\n",
        "\n",
        "    A.CoarseDropout(p=0.75, max_holes=1,\n",
        "                    min_height=IMG_SIZE//4, max_height=IMG_SIZE//2,\n",
        "                    min_width=IMG_SIZE//4,  max_width=IMG_SIZE//2,\n",
        "                    fill_value=(255,0,0)),# simulating occlusions in test data\n",
        "\n",
        "    A.RandomBrightnessContrast(p=0.75),\n",
        "    A.ToFloat(),\n",
        "    APT.transforms.ToTensorV2(),\n",
        "])\n",
        "\n",
        "# used for validation dataset - only occlusions\n",
        "val_transform = A.Compose([\n",
        "    A.CoarseDropout(p=0.75, max_holes=1,\n",
        "                    min_height=IMG_SIZE//4, max_height=IMG_SIZE//2,\n",
        "                    min_width=IMG_SIZE//4,  max_width=IMG_SIZE//2,\n",
        "                    fill_value=(255,0,0)),# simulating occlusions\n",
        "    A.ToFloat(),\n",
        "    APT.transforms.ToTensorV2(),\n",
        "])"
      ]
    },
    {
      "cell_type": "code",
      "execution_count": null,
      "id": "bce6eb43",
      "metadata": {
        "execution": {
          "iopub.execute_input": "2025-04-25T18:29:39.007480Z",
          "iopub.status.busy": "2025-04-25T18:29:39.006836Z",
          "iopub.status.idle": "2025-04-25T18:29:39.022324Z",
          "shell.execute_reply": "2025-04-25T18:29:39.021324Z",
          "shell.execute_reply.started": "2025-04-25T18:29:39.007455Z"
        },
        "id": "bce6eb43",
        "papermill": {
          "duration": 0.024431,
          "end_time": "2025-02-28T18:03:41.173160",
          "exception": false,
          "start_time": "2025-02-28T18:03:41.148729",
          "status": "completed"
        },
        "tags": []
      },
      "outputs": [],
      "source": [
        "def pad_image(img):\n",
        "    w, h, c = np.shape(img)\n",
        "    if w > h:\n",
        "        pad = int((w - h) / 2)\n",
        "        img = cv2.copyMakeBorder(img, 0, 0, pad, pad, cv2.BORDER_CONSTANT, value=0)\n",
        "    else:\n",
        "        pad = int((h - w) / 2)\n",
        "        img = cv2.copyMakeBorder(img, pad, pad, 0, 0, cv2.BORDER_CONSTANT, value=0)\n",
        "\n",
        "    return img\n",
        "\n",
        "\n",
        "def open_and_preprocess_image(image_path):\n",
        "    img = cv2.imread(image_path)\n",
        "    img = cv2.cvtColor(img, cv2.COLOR_BGR2RGB)\n",
        "    img = pad_image(img)\n",
        "    return cv2.resize(img, (IMG_SIZE, IMG_SIZE))"
      ]
    },
    {
      "cell_type": "code",
      "execution_count": null,
      "id": "64ea4d4b",
      "metadata": {
        "execution": {
          "iopub.execute_input": "2025-04-25T18:29:39.026111Z",
          "iopub.status.busy": "2025-04-25T18:29:39.025777Z",
          "iopub.status.idle": "2025-04-25T18:29:39.044030Z",
          "shell.execute_reply": "2025-04-25T18:29:39.042961Z",
          "shell.execute_reply.started": "2025-04-25T18:29:39.026089Z"
        },
        "id": "64ea4d4b",
        "papermill": {
          "duration": 0.023675,
          "end_time": "2025-02-28T18:03:41.213001",
          "exception": false,
          "start_time": "2025-02-28T18:03:41.189326",
          "status": "completed"
        },
        "tags": []
      },
      "outputs": [],
      "source": [
        "class HotelImageDataset:\n",
        "    def __init__(self, data, transform=None, data_folder=\"train_images/\"):\n",
        "        self.data = data\n",
        "        self.data_folder = data_folder\n",
        "        self.transform = transform\n",
        "\n",
        "    def __len__(self):\n",
        "        return len(self.data)\n",
        "\n",
        "    def __getitem__(self, idx):\n",
        "        record = self.data.iloc[idx]\n",
        "        image_path = self.data_folder + record[\"image_id\"]\n",
        "\n",
        "        image = np.array(open_and_preprocess_image(image_path)).astype(np.uint8)\n",
        "\n",
        "        if self.transform:\n",
        "            transformed = self.transform(image=image)\n",
        "            image = transformed[\"image\"]\n",
        "\n",
        "        return {\n",
        "            \"image\" : image,\n",
        "        }"
      ]
    },
    {
      "cell_type": "markdown",
      "id": "1c72dc9a",
      "metadata": {
        "id": "1c72dc9a",
        "papermill": {
          "duration": 0.015865,
          "end_time": "2025-02-28T18:03:41.244436",
          "exception": false,
          "start_time": "2025-02-28T18:03:41.228571",
          "status": "completed"
        },
        "tags": []
      },
      "source": [
        "# Model"
      ]
    },
    {
      "cell_type": "code",
      "execution_count": null,
      "id": "37157a05",
      "metadata": {
        "execution": {
          "iopub.execute_input": "2025-04-25T18:29:39.045267Z",
          "iopub.status.busy": "2025-04-25T18:29:39.044952Z",
          "iopub.status.idle": "2025-04-25T18:29:39.071291Z",
          "shell.execute_reply": "2025-04-25T18:29:39.070260Z",
          "shell.execute_reply.started": "2025-04-25T18:29:39.045245Z"
        },
        "id": "37157a05",
        "papermill": {
          "duration": 0.023735,
          "end_time": "2025-02-28T18:03:41.284093",
          "exception": false,
          "start_time": "2025-02-28T18:03:41.260358",
          "status": "completed"
        },
        "tags": []
      },
      "outputs": [],
      "source": [
        "class HotelIdModel(nn.Module):\n",
        "    def __init__(self, n_classes=100, backbone_name=\"resnet34\"):\n",
        "        super(HotelIdModel, self).__init__()\n",
        "\n",
        "        self.backbone = timm.create_model(backbone_name, num_classes=n_classes, pretrained=False)\n",
        "\n",
        "    def forward(self, x):\n",
        "        return self.backbone(x)"
      ]
    },
    {
      "cell_type": "markdown",
      "id": "fe5ed077",
      "metadata": {
        "id": "fe5ed077",
        "papermill": {
          "duration": 0.016127,
          "end_time": "2025-02-28T18:03:41.316093",
          "exception": false,
          "start_time": "2025-02-28T18:03:41.299966",
          "status": "completed"
        },
        "tags": []
      },
      "source": [
        "# Model helper functions"
      ]
    },
    {
      "cell_type": "code",
      "execution_count": null,
      "id": "f54aa399",
      "metadata": {
        "execution": {
          "iopub.execute_input": "2025-04-25T18:29:39.072431Z",
          "iopub.status.busy": "2025-04-25T18:29:39.072188Z",
          "iopub.status.idle": "2025-04-25T18:29:39.093827Z",
          "shell.execute_reply": "2025-04-25T18:29:39.092883Z",
          "shell.execute_reply.started": "2025-04-25T18:29:39.072411Z"
        },
        "id": "f54aa399",
        "papermill": {
          "duration": 0.023397,
          "end_time": "2025-02-28T18:03:41.354973",
          "exception": false,
          "start_time": "2025-02-28T18:03:41.331576",
          "status": "completed"
        },
        "tags": []
      },
      "outputs": [],
      "source": [
        "import torch\n",
        "import numpy as np\n",
        "from tqdm import tqdm\n",
        "\n",
        "def predict_tta(loader, model, n_matches=5, tta_transforms=3):\n",
        "    model.eval()\n",
        "    preds = []\n",
        "\n",
        "    with torch.no_grad():\n",
        "        for sample in tqdm(loader):\n",
        "            input_images = sample['image'].to(args.device)\n",
        "\n",
        "            tta_outputs = []\n",
        "            for _ in range(tta_transforms):\n",
        "                aug_input = torch.flip(input_images, dims=[-1])  # Apply horizontal flip\n",
        "                outputs = model(aug_input)\n",
        "                tta_outputs.append(torch.sigmoid(outputs).cpu().numpy())\n",
        "\n",
        "            avg_outputs = np.mean(tta_outputs, axis=0)\n",
        "            preds.extend(avg_outputs)\n",
        "\n",
        "    preds = np.argsort(-np.array(preds), axis=1)[:, :n_matches]\n",
        "    return preds"
      ]
    },
    {
      "cell_type": "code",
      "execution_count": null,
      "id": "5baec4bd",
      "metadata": {
        "execution": {
          "iopub.execute_input": "2025-04-25T18:29:39.094982Z",
          "iopub.status.busy": "2025-04-25T18:29:39.094686Z",
          "iopub.status.idle": "2025-04-25T18:29:39.121076Z",
          "shell.execute_reply": "2025-04-25T18:29:39.119953Z",
          "shell.execute_reply.started": "2025-04-25T18:29:39.094960Z"
        },
        "id": "5baec4bd",
        "outputId": "5575d4cf-c1b7-474a-a288-e83d6cd84bab",
        "papermill": {
          "duration": 0.025921,
          "end_time": "2025-02-28T18:03:41.396764",
          "exception": false,
          "start_time": "2025-02-28T18:03:41.370843",
          "status": "completed"
        },
        "tags": []
      },
      "outputs": [
        {
          "name": "stderr",
          "output_type": "stream",
          "text": [
            "/tmp/ipykernel_31/3377238334.py:11: UserWarning: Argument(s) 'shift_limit' are not valid for transform OpticalDistortion\n",
            "  A.OpticalDistortion(p=0.25, distort_limit=0.05, shift_limit=0.01),\n",
            "/tmp/ipykernel_31/3377238334.py:14: UserWarning: Argument(s) 'min_holes, max_holes, min_height, max_height, min_width, max_width' are not valid for transform CoarseDropout\n",
            "  A.CoarseDropout(p=0.5, min_holes=1, max_holes=5,\n",
            "/tmp/ipykernel_31/3377238334.py:18: UserWarning: Argument(s) 'max_holes, min_height, max_height, min_width, max_width, fill_value' are not valid for transform CoarseDropout\n",
            "  A.CoarseDropout(p=0.75, max_holes=1,\n",
            "/tmp/ipykernel_31/3377238334.py:29: UserWarning: Argument(s) 'max_holes, min_height, max_height, min_width, max_width, fill_value' are not valid for transform CoarseDropout\n",
            "  A.CoarseDropout(p=0.75, max_holes=1,\n"
          ]
        }
      ],
      "source": [
        "import albumentations as A\n",
        "import albumentations.pytorch as APT\n",
        "import cv2\n",
        "\n",
        "# used for training dataset - augmentations and occlusions\n",
        "train_transform = A.Compose([\n",
        "    A.RandomCrop(width=64, height=64),\n",
        "    A.HorizontalFlip(p=0.75),\n",
        "    #A.VerticalFlip(p=0.0),\n",
        "    A.ShiftScaleRotate(p=0.5, shift_limit=0.0625, scale_limit=0.1, rotate_limit=10, interpolation=cv2.INTER_NEAREST, border_mode=cv2.BORDER_CONSTANT),\n",
        "    A.OpticalDistortion(p=0.25, distort_limit=0.05, shift_limit=0.01),\n",
        "    A.Perspective(p=0.25, scale=(0.05, 0.1)),\n",
        "    A.ColorJitter(p=0.75, brightness=0.2, contrast=0.2, saturation=0.1, hue=0.05),\n",
        "    A.CoarseDropout(p=0.5, min_holes=1, max_holes=5,\n",
        "                    min_height=IMG_SIZE//16, max_height=IMG_SIZE//8,\n",
        "                    min_width=IMG_SIZE//16,  max_width=IMG_SIZE//8), # normal coarse dropout\n",
        "\n",
        "    A.CoarseDropout(p=0.75, max_holes=1,\n",
        "                    min_height=IMG_SIZE//4, max_height=IMG_SIZE//2,\n",
        "                    min_width=IMG_SIZE//4,  max_width=IMG_SIZE//2,\n",
        "                    fill_value=(255,0,0)),# simulating occlusions in test data\n",
        "    #A.RandomBrightnessContrast(p=0.75),\n",
        "    A.ToFloat(),\n",
        "    APT.transforms.ToTensorV2(),\n",
        "])\n",
        "\n",
        "# used for validation dataset - only occlusions\n",
        "val_transform = A.Compose([\n",
        "    A.CoarseDropout(p=0.75, max_holes=1,\n",
        "                    min_height=IMG_SIZE//4, max_height=IMG_SIZE//2,\n",
        "                    min_width=IMG_SIZE//4,  max_width=IMG_SIZE//2,\n",
        "                    fill_value=(255,0,0)),# simulating occlusions\n",
        "    A.ToFloat(),\n",
        "    APT.transforms.ToTensorV2(),\n",
        "])\n",
        "\n",
        "# no augmentations\n",
        "base_transform = A.Compose([\n",
        "    A.ToFloat(),\n",
        "    APT.transforms.ToTensorV2(),\n",
        "])"
      ]
    },
    {
      "cell_type": "markdown",
      "id": "c0ea13b9",
      "metadata": {
        "id": "c0ea13b9",
        "papermill": {
          "duration": 0.016038,
          "end_time": "2025-02-28T18:03:41.428918",
          "exception": false,
          "start_time": "2025-02-28T18:03:41.412880",
          "status": "completed"
        },
        "tags": []
      },
      "source": [
        "# Prepare data"
      ]
    },
    {
      "cell_type": "code",
      "execution_count": null,
      "id": "af2fd741",
      "metadata": {
        "execution": {
          "iopub.execute_input": "2025-04-25T18:29:39.122585Z",
          "iopub.status.busy": "2025-04-25T18:29:39.122254Z",
          "iopub.status.idle": "2025-04-25T18:29:39.137941Z",
          "shell.execute_reply": "2025-04-25T18:29:39.136896Z",
          "shell.execute_reply.started": "2025-04-25T18:29:39.122552Z"
        },
        "id": "af2fd741",
        "papermill": {
          "duration": 0.038623,
          "end_time": "2025-02-28T18:03:41.483698",
          "exception": false,
          "start_time": "2025-02-28T18:03:41.445075",
          "status": "completed"
        },
        "tags": []
      },
      "outputs": [],
      "source": [
        "test_df = pd.DataFrame(data={\"image_id\": os.listdir(TEST_DATA_FOLDER), \"hotel_id\": \"\"}).sort_values(by=\"image_id\")"
      ]
    },
    {
      "cell_type": "code",
      "execution_count": null,
      "id": "4c86ceab",
      "metadata": {
        "execution": {
          "iopub.execute_input": "2025-04-25T18:29:39.139383Z",
          "iopub.status.busy": "2025-04-25T18:29:39.139055Z",
          "iopub.status.idle": "2025-04-25T18:29:39.155841Z",
          "shell.execute_reply": "2025-04-25T18:29:39.154769Z",
          "shell.execute_reply.started": "2025-04-25T18:29:39.139350Z"
        },
        "id": "4c86ceab",
        "papermill": {
          "duration": 0.033476,
          "end_time": "2025-02-28T18:03:41.533074",
          "exception": false,
          "start_time": "2025-02-28T18:03:41.499598",
          "status": "completed"
        },
        "tags": []
      },
      "outputs": [],
      "source": [
        "# code hotel_id mapping created in training notebook by encoding hotel_ids\n",
        "hotel_id_code_df = pd.read_csv('../input/resnet-training/hotel_id_code_mapping.csv')\n",
        "hotel_id_code_map = hotel_id_code_df.set_index('hotel_id_code').to_dict()[\"hotel_id\"]"
      ]
    },
    {
      "cell_type": "markdown",
      "id": "26c44aae",
      "metadata": {
        "id": "26c44aae",
        "papermill": {
          "duration": 0.01527,
          "end_time": "2025-02-28T18:03:41.564944",
          "exception": false,
          "start_time": "2025-02-28T18:03:41.549674",
          "status": "completed"
        },
        "tags": []
      },
      "source": [
        "# Prepare model"
      ]
    },
    {
      "cell_type": "code",
      "execution_count": null,
      "id": "4307768b",
      "metadata": {
        "execution": {
          "iopub.execute_input": "2025-04-25T18:29:39.157646Z",
          "iopub.status.busy": "2025-04-25T18:29:39.157071Z",
          "iopub.status.idle": "2025-04-25T18:29:39.164029Z",
          "shell.execute_reply": "2025-04-25T18:29:39.162782Z",
          "shell.execute_reply.started": "2025-04-25T18:29:39.157616Z"
        },
        "id": "4307768b",
        "papermill": {
          "duration": 0.021715,
          "end_time": "2025-02-28T18:03:41.602304",
          "exception": false,
          "start_time": "2025-02-28T18:03:41.580589",
          "status": "completed"
        },
        "tags": []
      },
      "outputs": [],
      "source": [
        "def get_model(model_type, backbone_name, checkpoint_path, args):\n",
        "    model = HotelIdModel(args.n_classes, backbone_name)\n",
        "\n",
        "    checkpoint = torch.load(checkpoint_path)\n",
        "    model.load_state_dict(checkpoint[\"model\"])\n",
        "    model = model.to(args.device)\n",
        "\n",
        "    return model"
      ]
    },
    {
      "cell_type": "code",
      "execution_count": null,
      "id": "073045b9",
      "metadata": {
        "execution": {
          "iopub.execute_input": "2025-04-25T18:29:39.165543Z",
          "iopub.status.busy": "2025-04-25T18:29:39.165166Z",
          "iopub.status.idle": "2025-04-25T18:29:39.192204Z",
          "shell.execute_reply": "2025-04-25T18:29:39.191107Z",
          "shell.execute_reply.started": "2025-04-25T18:29:39.165521Z"
        },
        "id": "073045b9",
        "papermill": {
          "duration": 0.026938,
          "end_time": "2025-02-28T18:03:41.644941",
          "exception": false,
          "start_time": "2025-02-28T18:03:41.618003",
          "status": "completed"
        },
        "tags": []
      },
      "outputs": [],
      "source": [
        "class args:\n",
        "    batch_size = 64\n",
        "    num_workers = 2\n",
        "    n_classes = hotel_id_code_df[\"hotel_id\"].nunique()\n",
        "    device = ('cuda' if torch.cuda.is_available() else 'cpu')\n",
        "\n",
        "\n",
        "seed_everything(seed=SEED)\n",
        "\n",
        "test_dataset = HotelImageDataset(test_df, base_transform, data_folder=TEST_DATA_FOLDER)\n",
        "test_loader = DataLoader(test_dataset, num_workers=args.num_workers, batch_size=args.batch_size, shuffle=False)"
      ]
    },
    {
      "cell_type": "code",
      "execution_count": null,
      "id": "97246e8e",
      "metadata": {
        "execution": {
          "iopub.execute_input": "2025-04-25T18:29:39.193685Z",
          "iopub.status.busy": "2025-04-25T18:29:39.193331Z",
          "iopub.status.idle": "2025-04-25T18:29:39.202964Z",
          "shell.execute_reply": "2025-04-25T18:29:39.201575Z",
          "shell.execute_reply.started": "2025-04-25T18:29:39.193659Z"
        },
        "id": "97246e8e",
        "papermill": {
          "duration": 0.021454,
          "end_time": "2025-02-28T18:03:41.681969",
          "exception": false,
          "start_time": "2025-02-28T18:03:41.660515",
          "status": "completed"
        },
        "tags": []
      },
      "outputs": [],
      "source": [
        "import torch\n",
        "\n",
        "def get_model(model_type, backbone_name, checkpoint_path, args):\n",
        "    model = HotelIdModel(args.n_classes, backbone_name)\n",
        "\n",
        "    # Load the checkpoint with map_location\n",
        "    checkpoint = torch.load(checkpoint_path, map_location=torch.device('cpu'))\n",
        "\n",
        "    model.load_state_dict(checkpoint[\"model\"])\n",
        "    model = model.to(args.device)  # Ensure it's moved to the correct device (CPU/GPU)\n",
        "\n",
        "    return model"
      ]
    },
    {
      "cell_type": "code",
      "execution_count": null,
      "id": "953578b7",
      "metadata": {
        "execution": {
          "iopub.execute_input": "2025-04-25T18:29:39.204176Z",
          "iopub.status.busy": "2025-04-25T18:29:39.203932Z",
          "iopub.status.idle": "2025-04-25T18:29:39.998591Z",
          "shell.execute_reply": "2025-04-25T18:29:39.997651Z",
          "shell.execute_reply.started": "2025-04-25T18:29:39.204157Z"
        },
        "id": "953578b7",
        "outputId": "6b1f4c20-0987-4753-e09e-ddf135dd72ca",
        "papermill": {
          "duration": 2.929055,
          "end_time": "2025-02-28T18:03:44.626305",
          "exception": false,
          "start_time": "2025-02-28T18:03:41.697250",
          "status": "completed"
        },
        "tags": []
      },
      "outputs": [
        {
          "name": "stderr",
          "output_type": "stream",
          "text": [
            "/tmp/ipykernel_31/1137292120.py:7: FutureWarning: You are using `torch.load` with `weights_only=False` (the current default value), which uses the default pickle module implicitly. It is possible to construct malicious pickle data which will execute arbitrary code during unpickling (See https://github.com/pytorch/pytorch/blob/main/SECURITY.md#untrusted-models for more details). In a future release, the default value for `weights_only` will be flipped to `True`. This limits the functions that could be executed during unpickling. Arbitrary objects will no longer be allowed to be loaded via this mode unless they are explicitly allowlisted by the user via `torch.serialization.add_safe_globals`. We recommend you start setting `weights_only=True` for any use case where you don't have full control of the loaded file. Please open an issue on GitHub for any issues related to this experimental feature.\n",
            "  checkpoint = torch.load(checkpoint_path, map_location=torch.device('cpu'))\n"
          ]
        },
        {
          "name": "stdout",
          "output_type": "stream",
          "text": [
            "HotelIdModel(\n",
            "  (backbone): ResNet(\n",
            "    (conv1): Conv2d(3, 64, kernel_size=(7, 7), stride=(2, 2), padding=(3, 3), bias=False)\n",
            "    (bn1): BatchNorm2d(64, eps=1e-05, momentum=0.1, affine=True, track_running_stats=True)\n",
            "    (act1): ReLU(inplace=True)\n",
            "    (maxpool): MaxPool2d(kernel_size=3, stride=2, padding=1, dilation=1, ceil_mode=False)\n",
            "    (layer1): Sequential(\n",
            "      (0): BasicBlock(\n",
            "        (conv1): Conv2d(64, 64, kernel_size=(3, 3), stride=(1, 1), padding=(1, 1), bias=False)\n",
            "        (bn1): BatchNorm2d(64, eps=1e-05, momentum=0.1, affine=True, track_running_stats=True)\n",
            "        (drop_block): Identity()\n",
            "        (act1): ReLU(inplace=True)\n",
            "        (aa): Identity()\n",
            "        (conv2): Conv2d(64, 64, kernel_size=(3, 3), stride=(1, 1), padding=(1, 1), bias=False)\n",
            "        (bn2): BatchNorm2d(64, eps=1e-05, momentum=0.1, affine=True, track_running_stats=True)\n",
            "        (act2): ReLU(inplace=True)\n",
            "      )\n",
            "      (1): BasicBlock(\n",
            "        (conv1): Conv2d(64, 64, kernel_size=(3, 3), stride=(1, 1), padding=(1, 1), bias=False)\n",
            "        (bn1): BatchNorm2d(64, eps=1e-05, momentum=0.1, affine=True, track_running_stats=True)\n",
            "        (drop_block): Identity()\n",
            "        (act1): ReLU(inplace=True)\n",
            "        (aa): Identity()\n",
            "        (conv2): Conv2d(64, 64, kernel_size=(3, 3), stride=(1, 1), padding=(1, 1), bias=False)\n",
            "        (bn2): BatchNorm2d(64, eps=1e-05, momentum=0.1, affine=True, track_running_stats=True)\n",
            "        (act2): ReLU(inplace=True)\n",
            "      )\n",
            "      (2): BasicBlock(\n",
            "        (conv1): Conv2d(64, 64, kernel_size=(3, 3), stride=(1, 1), padding=(1, 1), bias=False)\n",
            "        (bn1): BatchNorm2d(64, eps=1e-05, momentum=0.1, affine=True, track_running_stats=True)\n",
            "        (drop_block): Identity()\n",
            "        (act1): ReLU(inplace=True)\n",
            "        (aa): Identity()\n",
            "        (conv2): Conv2d(64, 64, kernel_size=(3, 3), stride=(1, 1), padding=(1, 1), bias=False)\n",
            "        (bn2): BatchNorm2d(64, eps=1e-05, momentum=0.1, affine=True, track_running_stats=True)\n",
            "        (act2): ReLU(inplace=True)\n",
            "      )\n",
            "    )\n",
            "    (layer2): Sequential(\n",
            "      (0): BasicBlock(\n",
            "        (conv1): Conv2d(64, 128, kernel_size=(3, 3), stride=(2, 2), padding=(1, 1), bias=False)\n",
            "        (bn1): BatchNorm2d(128, eps=1e-05, momentum=0.1, affine=True, track_running_stats=True)\n",
            "        (drop_block): Identity()\n",
            "        (act1): ReLU(inplace=True)\n",
            "        (aa): Identity()\n",
            "        (conv2): Conv2d(128, 128, kernel_size=(3, 3), stride=(1, 1), padding=(1, 1), bias=False)\n",
            "        (bn2): BatchNorm2d(128, eps=1e-05, momentum=0.1, affine=True, track_running_stats=True)\n",
            "        (act2): ReLU(inplace=True)\n",
            "        (downsample): Sequential(\n",
            "          (0): Conv2d(64, 128, kernel_size=(1, 1), stride=(2, 2), bias=False)\n",
            "          (1): BatchNorm2d(128, eps=1e-05, momentum=0.1, affine=True, track_running_stats=True)\n",
            "        )\n",
            "      )\n",
            "      (1): BasicBlock(\n",
            "        (conv1): Conv2d(128, 128, kernel_size=(3, 3), stride=(1, 1), padding=(1, 1), bias=False)\n",
            "        (bn1): BatchNorm2d(128, eps=1e-05, momentum=0.1, affine=True, track_running_stats=True)\n",
            "        (drop_block): Identity()\n",
            "        (act1): ReLU(inplace=True)\n",
            "        (aa): Identity()\n",
            "        (conv2): Conv2d(128, 128, kernel_size=(3, 3), stride=(1, 1), padding=(1, 1), bias=False)\n",
            "        (bn2): BatchNorm2d(128, eps=1e-05, momentum=0.1, affine=True, track_running_stats=True)\n",
            "        (act2): ReLU(inplace=True)\n",
            "      )\n",
            "      (2): BasicBlock(\n",
            "        (conv1): Conv2d(128, 128, kernel_size=(3, 3), stride=(1, 1), padding=(1, 1), bias=False)\n",
            "        (bn1): BatchNorm2d(128, eps=1e-05, momentum=0.1, affine=True, track_running_stats=True)\n",
            "        (drop_block): Identity()\n",
            "        (act1): ReLU(inplace=True)\n",
            "        (aa): Identity()\n",
            "        (conv2): Conv2d(128, 128, kernel_size=(3, 3), stride=(1, 1), padding=(1, 1), bias=False)\n",
            "        (bn2): BatchNorm2d(128, eps=1e-05, momentum=0.1, affine=True, track_running_stats=True)\n",
            "        (act2): ReLU(inplace=True)\n",
            "      )\n",
            "      (3): BasicBlock(\n",
            "        (conv1): Conv2d(128, 128, kernel_size=(3, 3), stride=(1, 1), padding=(1, 1), bias=False)\n",
            "        (bn1): BatchNorm2d(128, eps=1e-05, momentum=0.1, affine=True, track_running_stats=True)\n",
            "        (drop_block): Identity()\n",
            "        (act1): ReLU(inplace=True)\n",
            "        (aa): Identity()\n",
            "        (conv2): Conv2d(128, 128, kernel_size=(3, 3), stride=(1, 1), padding=(1, 1), bias=False)\n",
            "        (bn2): BatchNorm2d(128, eps=1e-05, momentum=0.1, affine=True, track_running_stats=True)\n",
            "        (act2): ReLU(inplace=True)\n",
            "      )\n",
            "    )\n",
            "    (layer3): Sequential(\n",
            "      (0): BasicBlock(\n",
            "        (conv1): Conv2d(128, 256, kernel_size=(3, 3), stride=(2, 2), padding=(1, 1), bias=False)\n",
            "        (bn1): BatchNorm2d(256, eps=1e-05, momentum=0.1, affine=True, track_running_stats=True)\n",
            "        (drop_block): Identity()\n",
            "        (act1): ReLU(inplace=True)\n",
            "        (aa): Identity()\n",
            "        (conv2): Conv2d(256, 256, kernel_size=(3, 3), stride=(1, 1), padding=(1, 1), bias=False)\n",
            "        (bn2): BatchNorm2d(256, eps=1e-05, momentum=0.1, affine=True, track_running_stats=True)\n",
            "        (act2): ReLU(inplace=True)\n",
            "        (downsample): Sequential(\n",
            "          (0): Conv2d(128, 256, kernel_size=(1, 1), stride=(2, 2), bias=False)\n",
            "          (1): BatchNorm2d(256, eps=1e-05, momentum=0.1, affine=True, track_running_stats=True)\n",
            "        )\n",
            "      )\n",
            "      (1): BasicBlock(\n",
            "        (conv1): Conv2d(256, 256, kernel_size=(3, 3), stride=(1, 1), padding=(1, 1), bias=False)\n",
            "        (bn1): BatchNorm2d(256, eps=1e-05, momentum=0.1, affine=True, track_running_stats=True)\n",
            "        (drop_block): Identity()\n",
            "        (act1): ReLU(inplace=True)\n",
            "        (aa): Identity()\n",
            "        (conv2): Conv2d(256, 256, kernel_size=(3, 3), stride=(1, 1), padding=(1, 1), bias=False)\n",
            "        (bn2): BatchNorm2d(256, eps=1e-05, momentum=0.1, affine=True, track_running_stats=True)\n",
            "        (act2): ReLU(inplace=True)\n",
            "      )\n",
            "      (2): BasicBlock(\n",
            "        (conv1): Conv2d(256, 256, kernel_size=(3, 3), stride=(1, 1), padding=(1, 1), bias=False)\n",
            "        (bn1): BatchNorm2d(256, eps=1e-05, momentum=0.1, affine=True, track_running_stats=True)\n",
            "        (drop_block): Identity()\n",
            "        (act1): ReLU(inplace=True)\n",
            "        (aa): Identity()\n",
            "        (conv2): Conv2d(256, 256, kernel_size=(3, 3), stride=(1, 1), padding=(1, 1), bias=False)\n",
            "        (bn2): BatchNorm2d(256, eps=1e-05, momentum=0.1, affine=True, track_running_stats=True)\n",
            "        (act2): ReLU(inplace=True)\n",
            "      )\n",
            "      (3): BasicBlock(\n",
            "        (conv1): Conv2d(256, 256, kernel_size=(3, 3), stride=(1, 1), padding=(1, 1), bias=False)\n",
            "        (bn1): BatchNorm2d(256, eps=1e-05, momentum=0.1, affine=True, track_running_stats=True)\n",
            "        (drop_block): Identity()\n",
            "        (act1): ReLU(inplace=True)\n",
            "        (aa): Identity()\n",
            "        (conv2): Conv2d(256, 256, kernel_size=(3, 3), stride=(1, 1), padding=(1, 1), bias=False)\n",
            "        (bn2): BatchNorm2d(256, eps=1e-05, momentum=0.1, affine=True, track_running_stats=True)\n",
            "        (act2): ReLU(inplace=True)\n",
            "      )\n",
            "      (4): BasicBlock(\n",
            "        (conv1): Conv2d(256, 256, kernel_size=(3, 3), stride=(1, 1), padding=(1, 1), bias=False)\n",
            "        (bn1): BatchNorm2d(256, eps=1e-05, momentum=0.1, affine=True, track_running_stats=True)\n",
            "        (drop_block): Identity()\n",
            "        (act1): ReLU(inplace=True)\n",
            "        (aa): Identity()\n",
            "        (conv2): Conv2d(256, 256, kernel_size=(3, 3), stride=(1, 1), padding=(1, 1), bias=False)\n",
            "        (bn2): BatchNorm2d(256, eps=1e-05, momentum=0.1, affine=True, track_running_stats=True)\n",
            "        (act2): ReLU(inplace=True)\n",
            "      )\n",
            "      (5): BasicBlock(\n",
            "        (conv1): Conv2d(256, 256, kernel_size=(3, 3), stride=(1, 1), padding=(1, 1), bias=False)\n",
            "        (bn1): BatchNorm2d(256, eps=1e-05, momentum=0.1, affine=True, track_running_stats=True)\n",
            "        (drop_block): Identity()\n",
            "        (act1): ReLU(inplace=True)\n",
            "        (aa): Identity()\n",
            "        (conv2): Conv2d(256, 256, kernel_size=(3, 3), stride=(1, 1), padding=(1, 1), bias=False)\n",
            "        (bn2): BatchNorm2d(256, eps=1e-05, momentum=0.1, affine=True, track_running_stats=True)\n",
            "        (act2): ReLU(inplace=True)\n",
            "      )\n",
            "    )\n",
            "    (layer4): Sequential(\n",
            "      (0): BasicBlock(\n",
            "        (conv1): Conv2d(256, 512, kernel_size=(3, 3), stride=(2, 2), padding=(1, 1), bias=False)\n",
            "        (bn1): BatchNorm2d(512, eps=1e-05, momentum=0.1, affine=True, track_running_stats=True)\n",
            "        (drop_block): Identity()\n",
            "        (act1): ReLU(inplace=True)\n",
            "        (aa): Identity()\n",
            "        (conv2): Conv2d(512, 512, kernel_size=(3, 3), stride=(1, 1), padding=(1, 1), bias=False)\n",
            "        (bn2): BatchNorm2d(512, eps=1e-05, momentum=0.1, affine=True, track_running_stats=True)\n",
            "        (act2): ReLU(inplace=True)\n",
            "        (downsample): Sequential(\n",
            "          (0): Conv2d(256, 512, kernel_size=(1, 1), stride=(2, 2), bias=False)\n",
            "          (1): BatchNorm2d(512, eps=1e-05, momentum=0.1, affine=True, track_running_stats=True)\n",
            "        )\n",
            "      )\n",
            "      (1): BasicBlock(\n",
            "        (conv1): Conv2d(512, 512, kernel_size=(3, 3), stride=(1, 1), padding=(1, 1), bias=False)\n",
            "        (bn1): BatchNorm2d(512, eps=1e-05, momentum=0.1, affine=True, track_running_stats=True)\n",
            "        (drop_block): Identity()\n",
            "        (act1): ReLU(inplace=True)\n",
            "        (aa): Identity()\n",
            "        (conv2): Conv2d(512, 512, kernel_size=(3, 3), stride=(1, 1), padding=(1, 1), bias=False)\n",
            "        (bn2): BatchNorm2d(512, eps=1e-05, momentum=0.1, affine=True, track_running_stats=True)\n",
            "        (act2): ReLU(inplace=True)\n",
            "      )\n",
            "      (2): BasicBlock(\n",
            "        (conv1): Conv2d(512, 512, kernel_size=(3, 3), stride=(1, 1), padding=(1, 1), bias=False)\n",
            "        (bn1): BatchNorm2d(512, eps=1e-05, momentum=0.1, affine=True, track_running_stats=True)\n",
            "        (drop_block): Identity()\n",
            "        (act1): ReLU(inplace=True)\n",
            "        (aa): Identity()\n",
            "        (conv2): Conv2d(512, 512, kernel_size=(3, 3), stride=(1, 1), padding=(1, 1), bias=False)\n",
            "        (bn2): BatchNorm2d(512, eps=1e-05, momentum=0.1, affine=True, track_running_stats=True)\n",
            "        (act2): ReLU(inplace=True)\n",
            "      )\n",
            "    )\n",
            "    (global_pool): SelectAdaptivePool2d(pool_type=avg, flatten=Flatten(start_dim=1, end_dim=-1))\n",
            "    (fc): Linear(in_features=512, out_features=3116, bias=True)\n",
            "  )\n",
            ")\n"
          ]
        }
      ],
      "source": [
        "model = get_model(\"classification\", \"resnet34\",\n",
        "                  \"../input/resnet-training/checkpoint-classification-model-resnet34-256x256.pt\",\n",
        "                  args)\n",
        "\n",
        "print(model)\n"
      ]
    },
    {
      "cell_type": "markdown",
      "id": "755af4dd",
      "metadata": {
        "id": "755af4dd",
        "papermill": {
          "duration": 0.015601,
          "end_time": "2025-02-28T18:03:44.658062",
          "exception": false,
          "start_time": "2025-02-28T18:03:44.642461",
          "status": "completed"
        },
        "tags": []
      },
      "source": [
        "# Submission"
      ]
    },
    {
      "cell_type": "code",
      "execution_count": null,
      "id": "56387074",
      "metadata": {
        "execution": {
          "iopub.execute_input": "2025-04-25T18:29:39.999746Z",
          "iopub.status.busy": "2025-04-25T18:29:39.999402Z",
          "iopub.status.idle": "2025-04-25T18:29:40.897103Z",
          "shell.execute_reply": "2025-04-25T18:29:40.895857Z",
          "shell.execute_reply.started": "2025-04-25T18:29:39.999719Z"
        },
        "id": "56387074",
        "outputId": "223d1208-d5b0-4f34-c01a-810a1defd6af",
        "papermill": {
          "duration": 0.487085,
          "end_time": "2025-02-28T18:03:45.161398",
          "exception": false,
          "start_time": "2025-02-28T18:03:44.674313",
          "status": "completed"
        },
        "tags": []
      },
      "outputs": [
        {
          "name": "stderr",
          "output_type": "stream",
          "text": [
            "100%|██████████| 1/1 [00:00<00:00,  1.15it/s]"
          ]
        },
        {
          "name": "stdout",
          "output_type": "stream",
          "text": [
            "CPU times: user 1.3 s, sys: 181 ms, total: 1.48 s\n",
            "Wall time: 884 ms\n"
          ]
        },
        {
          "name": "stderr",
          "output_type": "stream",
          "text": [
            "\n"
          ]
        },
        {
          "data": {
            "text/html": [
              "<div>\n",
              "<style scoped>\n",
              "    .dataframe tbody tr th:only-of-type {\n",
              "        vertical-align: middle;\n",
              "    }\n",
              "\n",
              "    .dataframe tbody tr th {\n",
              "        vertical-align: top;\n",
              "    }\n",
              "\n",
              "    .dataframe thead th {\n",
              "        text-align: right;\n",
              "    }\n",
              "</style>\n",
              "<table border=\"1\" class=\"dataframe\">\n",
              "  <thead>\n",
              "    <tr style=\"text-align: right;\">\n",
              "      <th></th>\n",
              "      <th>image_id</th>\n",
              "      <th>hotel_id</th>\n",
              "    </tr>\n",
              "  </thead>\n",
              "  <tbody>\n",
              "    <tr>\n",
              "      <th>0</th>\n",
              "      <td>abc.jpg</td>\n",
              "      <td>24700 108817 73834 18800 203929</td>\n",
              "    </tr>\n",
              "  </tbody>\n",
              "</table>\n",
              "</div>"
            ],
            "text/plain": [
              "  image_id                         hotel_id\n",
              "0  abc.jpg  24700 108817 73834 18800 203929"
            ]
          },
          "execution_count": 55,
          "metadata": {},
          "output_type": "execute_result"
        }
      ],
      "source": [
        "%%time\n",
        "\n",
        "preds = predict_tta(test_loader, model, n_matches=5, tta_transforms=3)\n",
        "# replace classes with hotel_id using mapping created in trainig notebook\n",
        "preds = [[hotel_id_code_map[b] for b in a] for a in preds]\n",
        "# transform array of hotel_ids into string\n",
        "test_df[\"hotel_id\"] = [str(list(l)).strip(\"[]\").replace(\",\", \"\") for l in preds]\n",
        "\n",
        "test_df.to_csv(\"submission.csv\", index=False)\n",
        "test_df.head()"
      ]
    },
    {
      "cell_type": "markdown",
      "id": "ae45d8f4-fe65-4485-949a-19e02631d96c",
      "metadata": {
        "id": "ae45d8f4-fe65-4485-949a-19e02631d96c"
      },
      "source": [
        "## Gradio"
      ]
    },
    {
      "cell_type": "code",
      "source": [
        "from google.colab import drive\n",
        "drive.mount('/content/drive')\n"
      ],
      "metadata": {
        "colab": {
          "base_uri": "https://localhost:8080/"
        },
        "id": "RMNmTxXIvfGn",
        "outputId": "609bb902-2185-498b-b521-d730870d35a7"
      },
      "id": "RMNmTxXIvfGn",
      "execution_count": 11,
      "outputs": [
        {
          "output_type": "stream",
          "name": "stdout",
          "text": [
            "Mounted at /content/drive\n"
          ]
        }
      ]
    },
    {
      "cell_type": "code",
      "source": [
        "!ls \"/content/drive/My Drive/Zinnia Gradio\""
      ],
      "metadata": {
        "colab": {
          "base_uri": "https://localhost:8080/"
        },
        "id": "2iHIKzz3vwZJ",
        "outputId": "fea3e9cf-e7b5-4bca-b8b9-616efbb5bf18"
      },
      "id": "2iHIKzz3vwZJ",
      "execution_count": 13,
      "outputs": [
        {
          "output_type": "stream",
          "name": "stdout",
          "text": [
            "'Copy of hotel_resnet34.pkl'   hotel_id_code_mapping.csv   submission.csv\n",
            " gradio.ipynb\t\t       hotel_resnet34.pkl\t  'Test Image.jpg'\n"
          ]
        }
      ]
    },
    {
      "cell_type": "code",
      "source": [
        "# 1) Point at your Drive folder\n",
        "DRIVE_FOLDER      = \"/content/drive/My Drive/Zinnia Gradio\"\n",
        "WEIGHTS_PATH      = f\"{DRIVE_FOLDER}/Copy of hotel_resnet34.pkl\"\n",
        "MAPPING_CSV_PATH  = f\"{DRIVE_FOLDER}/hotel_id_code_mapping.csv\"\n",
        "\n"
      ],
      "metadata": {
        "id": "Z8XxkunLxgyo"
      },
      "id": "Z8XxkunLxgyo",
      "execution_count": 14,
      "outputs": []
    },
    {
      "cell_type": "code",
      "source": [
        "# 2) Reload everything from Drive\n",
        "import timm, pandas as pd, numpy as np, cv2\n",
        "from albumentations import Compose, ToFloat\n",
        "from albumentations.pytorch import ToTensorV2\n",
        "from PIL import Image\n",
        "import torch\n"
      ],
      "metadata": {
        "id": "BPHNILCayZQo"
      },
      "id": "BPHNILCayZQo",
      "execution_count": 16,
      "outputs": []
    },
    {
      "cell_type": "code",
      "source": [
        "# 2a) load your hotel_id mapping\n",
        "mapping_df        = pd.read_csv(MAPPING_CSV_PATH)\n",
        "hotel_id_code_map = mapping_df.set_index(\"hotel_id_code\")[\"hotel_id\"].to_dict()\n"
      ],
      "metadata": {
        "id": "mN4VRHH-yjsE"
      },
      "id": "mN4VRHH-yjsE",
      "execution_count": 17,
      "outputs": []
    },
    {
      "cell_type": "code",
      "source": [
        "# 2b) redefine your model class\n",
        "class HotelIdModel(torch.nn.Module):\n",
        "    def __init__(self, n_classes, backbone_name=\"resnet34\"):\n",
        "        super().__init__()\n",
        "        self.backbone = timm.create_model(backbone_name,\n",
        "                                          num_classes=n_classes,\n",
        "                                          pretrained=False)\n",
        "    def forward(self, x):\n",
        "        return self.backbone(x)"
      ],
      "metadata": {
        "id": "C62PCsKlylX4"
      },
      "id": "C62PCsKlylX4",
      "execution_count": 19,
      "outputs": []
    },
    {
      "cell_type": "code",
      "source": [
        "# 2c) instantiate + load weights\n",
        "device   = torch.device(\"cuda\" if torch.cuda.is_available() else \"cpu\")\n",
        "n_classes = len(hotel_id_code_map)\n",
        "model    = HotelIdModel(n_classes, \"resnet34\")\n",
        "state    = torch.load(WEIGHTS_PATH, map_location=device)\n",
        "model.load_state_dict(state)\n",
        "model.to(device).eval()\n",
        "print(\"✅ Model reloaded and ready\")\n"
      ],
      "metadata": {
        "colab": {
          "base_uri": "https://localhost:8080/"
        },
        "id": "mVt9M6ZNysuJ",
        "outputId": "6ead688c-d25e-4e90-e645-69142e8a80be"
      },
      "id": "mVt9M6ZNysuJ",
      "execution_count": 20,
      "outputs": [
        {
          "output_type": "stream",
          "name": "stdout",
          "text": [
            "✅ Model reloaded and ready\n"
          ]
        }
      ]
    },
    {
      "cell_type": "code",
      "source": [
        "# 3) your preprocessing & TTA predict helper (unchanged)\n",
        "base_transform = Compose([ ToFloat(), ToTensorV2() ])\n",
        "\n",
        "def pad_and_resize(img, size=256):\n",
        "    h, w = img.shape[:2]\n",
        "    diff = abs(h - w)//2\n",
        "    if h > w:\n",
        "        img = cv2.copyMakeBorder(img, 0,0, diff,diff, cv2.BORDER_CONSTANT)\n",
        "    else:\n",
        "        img = cv2.copyMakeBorder(img, diff,diff,0,0, cv2.BORDER_CONSTANT)\n",
        "    return cv2.resize(img, (size,size))\n",
        "\n",
        "def predict_top5(pil_img):\n",
        "    img    = np.array(pil_img)                # PIL→RGB numpy\n",
        "    img    = pad_and_resize(img, size=256)\n",
        "    tensor = base_transform(image=img)[\"image\"].unsqueeze(0).to(device)\n",
        "    with torch.no_grad():\n",
        "        out1 = torch.sigmoid(model(tensor))\n",
        "        out2 = torch.sigmoid(model(torch.flip(tensor, dims=[-1])))\n",
        "        avg  = (out1 + out2)/2\n",
        "    idxs = torch.topk(avg, k=5, dim=1).indices.cpu().numpy().ravel()\n",
        "    return [hotel_id_code_map[int(i)] for i in idxs]"
      ],
      "metadata": {
        "id": "dEnXKhcNyzDh"
      },
      "id": "dEnXKhcNyzDh",
      "execution_count": 22,
      "outputs": []
    },
    {
      "cell_type": "code",
      "execution_count": 23,
      "id": "54ca350b-51fb-401f-b63a-52b74fcfa9e4",
      "metadata": {
        "execution": {
          "iopub.execute_input": "2025-04-25T18:29:41.639566Z",
          "iopub.status.busy": "2025-04-25T18:29:41.639207Z"
        },
        "id": "54ca350b-51fb-401f-b63a-52b74fcfa9e4",
        "outputId": "7c953080-1d2b-47e9-c706-fba19b68ab1b",
        "colab": {
          "base_uri": "https://localhost:8080/"
        }
      },
      "outputs": [
        {
          "output_type": "stream",
          "name": "stdout",
          "text": [
            "Requirement already satisfied: gradio in /usr/local/lib/python3.11/dist-packages (5.27.0)\n",
            "Requirement already satisfied: aiofiles<25.0,>=22.0 in /usr/local/lib/python3.11/dist-packages (from gradio) (24.1.0)\n",
            "Requirement already satisfied: anyio<5.0,>=3.0 in /usr/local/lib/python3.11/dist-packages (from gradio) (4.9.0)\n",
            "Requirement already satisfied: fastapi<1.0,>=0.115.2 in /usr/local/lib/python3.11/dist-packages (from gradio) (0.115.12)\n",
            "Requirement already satisfied: ffmpy in /usr/local/lib/python3.11/dist-packages (from gradio) (0.5.0)\n",
            "Requirement already satisfied: gradio-client==1.9.0 in /usr/local/lib/python3.11/dist-packages (from gradio) (1.9.0)\n",
            "Requirement already satisfied: groovy~=0.1 in /usr/local/lib/python3.11/dist-packages (from gradio) (0.1.2)\n",
            "Requirement already satisfied: httpx>=0.24.1 in /usr/local/lib/python3.11/dist-packages (from gradio) (0.28.1)\n",
            "Requirement already satisfied: huggingface-hub>=0.28.1 in /usr/local/lib/python3.11/dist-packages (from gradio) (0.30.2)\n",
            "Requirement already satisfied: jinja2<4.0 in /usr/local/lib/python3.11/dist-packages (from gradio) (3.1.6)\n",
            "Requirement already satisfied: markupsafe<4.0,>=2.0 in /usr/local/lib/python3.11/dist-packages (from gradio) (3.0.2)\n",
            "Requirement already satisfied: numpy<3.0,>=1.0 in /usr/local/lib/python3.11/dist-packages (from gradio) (2.0.2)\n",
            "Requirement already satisfied: orjson~=3.0 in /usr/local/lib/python3.11/dist-packages (from gradio) (3.10.16)\n",
            "Requirement already satisfied: packaging in /usr/local/lib/python3.11/dist-packages (from gradio) (24.2)\n",
            "Requirement already satisfied: pandas<3.0,>=1.0 in /usr/local/lib/python3.11/dist-packages (from gradio) (2.2.2)\n",
            "Requirement already satisfied: pillow<12.0,>=8.0 in /usr/local/lib/python3.11/dist-packages (from gradio) (11.1.0)\n",
            "Requirement already satisfied: pydantic<2.12,>=2.0 in /usr/local/lib/python3.11/dist-packages (from gradio) (2.11.3)\n",
            "Requirement already satisfied: pydub in /usr/local/lib/python3.11/dist-packages (from gradio) (0.25.1)\n",
            "Requirement already satisfied: python-multipart>=0.0.18 in /usr/local/lib/python3.11/dist-packages (from gradio) (0.0.20)\n",
            "Requirement already satisfied: pyyaml<7.0,>=5.0 in /usr/local/lib/python3.11/dist-packages (from gradio) (6.0.2)\n",
            "Requirement already satisfied: ruff>=0.9.3 in /usr/local/lib/python3.11/dist-packages (from gradio) (0.11.7)\n",
            "Requirement already satisfied: safehttpx<0.2.0,>=0.1.6 in /usr/local/lib/python3.11/dist-packages (from gradio) (0.1.6)\n",
            "Requirement already satisfied: semantic-version~=2.0 in /usr/local/lib/python3.11/dist-packages (from gradio) (2.10.0)\n",
            "Requirement already satisfied: starlette<1.0,>=0.40.0 in /usr/local/lib/python3.11/dist-packages (from gradio) (0.46.2)\n",
            "Requirement already satisfied: tomlkit<0.14.0,>=0.12.0 in /usr/local/lib/python3.11/dist-packages (from gradio) (0.13.2)\n",
            "Requirement already satisfied: typer<1.0,>=0.12 in /usr/local/lib/python3.11/dist-packages (from gradio) (0.15.2)\n",
            "Requirement already satisfied: typing-extensions~=4.0 in /usr/local/lib/python3.11/dist-packages (from gradio) (4.13.2)\n",
            "Requirement already satisfied: uvicorn>=0.14.0 in /usr/local/lib/python3.11/dist-packages (from gradio) (0.34.2)\n",
            "Requirement already satisfied: fsspec in /usr/local/lib/python3.11/dist-packages (from gradio-client==1.9.0->gradio) (2025.3.2)\n",
            "Requirement already satisfied: websockets<16.0,>=10.0 in /usr/local/lib/python3.11/dist-packages (from gradio-client==1.9.0->gradio) (15.0.1)\n",
            "Requirement already satisfied: idna>=2.8 in /usr/local/lib/python3.11/dist-packages (from anyio<5.0,>=3.0->gradio) (3.10)\n",
            "Requirement already satisfied: sniffio>=1.1 in /usr/local/lib/python3.11/dist-packages (from anyio<5.0,>=3.0->gradio) (1.3.1)\n",
            "Requirement already satisfied: certifi in /usr/local/lib/python3.11/dist-packages (from httpx>=0.24.1->gradio) (2025.1.31)\n",
            "Requirement already satisfied: httpcore==1.* in /usr/local/lib/python3.11/dist-packages (from httpx>=0.24.1->gradio) (1.0.8)\n",
            "Requirement already satisfied: h11<0.15,>=0.13 in /usr/local/lib/python3.11/dist-packages (from httpcore==1.*->httpx>=0.24.1->gradio) (0.14.0)\n",
            "Requirement already satisfied: filelock in /usr/local/lib/python3.11/dist-packages (from huggingface-hub>=0.28.1->gradio) (3.18.0)\n",
            "Requirement already satisfied: requests in /usr/local/lib/python3.11/dist-packages (from huggingface-hub>=0.28.1->gradio) (2.32.3)\n",
            "Requirement already satisfied: tqdm>=4.42.1 in /usr/local/lib/python3.11/dist-packages (from huggingface-hub>=0.28.1->gradio) (4.67.1)\n",
            "Requirement already satisfied: python-dateutil>=2.8.2 in /usr/local/lib/python3.11/dist-packages (from pandas<3.0,>=1.0->gradio) (2.8.2)\n",
            "Requirement already satisfied: pytz>=2020.1 in /usr/local/lib/python3.11/dist-packages (from pandas<3.0,>=1.0->gradio) (2025.2)\n",
            "Requirement already satisfied: tzdata>=2022.7 in /usr/local/lib/python3.11/dist-packages (from pandas<3.0,>=1.0->gradio) (2025.2)\n",
            "Requirement already satisfied: annotated-types>=0.6.0 in /usr/local/lib/python3.11/dist-packages (from pydantic<2.12,>=2.0->gradio) (0.7.0)\n",
            "Requirement already satisfied: pydantic-core==2.33.1 in /usr/local/lib/python3.11/dist-packages (from pydantic<2.12,>=2.0->gradio) (2.33.1)\n",
            "Requirement already satisfied: typing-inspection>=0.4.0 in /usr/local/lib/python3.11/dist-packages (from pydantic<2.12,>=2.0->gradio) (0.4.0)\n",
            "Requirement already satisfied: click>=8.0.0 in /usr/local/lib/python3.11/dist-packages (from typer<1.0,>=0.12->gradio) (8.1.8)\n",
            "Requirement already satisfied: shellingham>=1.3.0 in /usr/local/lib/python3.11/dist-packages (from typer<1.0,>=0.12->gradio) (1.5.4)\n",
            "Requirement already satisfied: rich>=10.11.0 in /usr/local/lib/python3.11/dist-packages (from typer<1.0,>=0.12->gradio) (13.9.4)\n",
            "Requirement already satisfied: six>=1.5 in /usr/local/lib/python3.11/dist-packages (from python-dateutil>=2.8.2->pandas<3.0,>=1.0->gradio) (1.17.0)\n",
            "Requirement already satisfied: markdown-it-py>=2.2.0 in /usr/local/lib/python3.11/dist-packages (from rich>=10.11.0->typer<1.0,>=0.12->gradio) (3.0.0)\n",
            "Requirement already satisfied: pygments<3.0.0,>=2.13.0 in /usr/local/lib/python3.11/dist-packages (from rich>=10.11.0->typer<1.0,>=0.12->gradio) (2.18.0)\n",
            "Requirement already satisfied: charset-normalizer<4,>=2 in /usr/local/lib/python3.11/dist-packages (from requests->huggingface-hub>=0.28.1->gradio) (3.4.1)\n",
            "Requirement already satisfied: urllib3<3,>=1.21.1 in /usr/local/lib/python3.11/dist-packages (from requests->huggingface-hub>=0.28.1->gradio) (2.3.0)\n",
            "Requirement already satisfied: mdurl~=0.1 in /usr/local/lib/python3.11/dist-packages (from markdown-it-py>=2.2.0->rich>=10.11.0->typer<1.0,>=0.12->gradio) (0.1.2)\n"
          ]
        }
      ],
      "source": [
        "!pip install gradio"
      ]
    },
    {
      "cell_type": "code",
      "source": [
        "import gradio as gr\n",
        "\n",
        "iface = gr.Interface(\n",
        "    fn=predict_top5,\n",
        "    inputs=gr.Image(type=\"pil\", label=\"Upload Image\"),\n",
        "    outputs=gr.JSON(label=\"Top 5 Hotel IDs\"),\n",
        "    title=\"Hotel-ID Classifier\",\n",
        "    description=\"Upload a hotel room photo and get the top-5 predicted hotel IDs.\"\n",
        ")\n",
        "iface.launch(share=True)\n"
      ],
      "metadata": {
        "colab": {
          "base_uri": "https://localhost:8080/",
          "height": 612
        },
        "id": "rXnLRyRPzYep",
        "outputId": "4d07ffe3-75c7-4109-8bad-3a781593c3f1"
      },
      "id": "rXnLRyRPzYep",
      "execution_count": 26,
      "outputs": [
        {
          "output_type": "stream",
          "name": "stdout",
          "text": [
            "Colab notebook detected. To show errors in colab notebook, set debug=True in launch()\n",
            "* Running on public URL: https://0a361a02a1691b8d2b.gradio.live\n",
            "\n",
            "This share link expires in 1 week. For free permanent hosting and GPU upgrades, run `gradio deploy` from the terminal in the working directory to deploy to Hugging Face Spaces (https://huggingface.co/spaces)\n"
          ]
        },
        {
          "output_type": "display_data",
          "data": {
            "text/plain": [
              "<IPython.core.display.HTML object>"
            ],
            "text/html": [
              "<div><iframe src=\"https://0a361a02a1691b8d2b.gradio.live\" width=\"100%\" height=\"500\" allow=\"autoplay; camera; microphone; clipboard-read; clipboard-write;\" frameborder=\"0\" allowfullscreen></iframe></div>"
            ]
          },
          "metadata": {}
        },
        {
          "output_type": "execute_result",
          "data": {
            "text/plain": []
          },
          "metadata": {},
          "execution_count": 26
        }
      ]
    },
    {
      "cell_type": "code",
      "execution_count": null,
      "id": "f3680402",
      "metadata": {
        "id": "f3680402"
      },
      "outputs": [],
      "source": []
    }
  ],
  "metadata": {
    "colab": {
      "provenance": []
    },
    "kaggle": {
      "accelerator": "none",
      "dataSources": [
        {
          "databundleVersionId": 4957097,
          "sourceId": 35150,
          "sourceType": "competition"
        },
        {
          "datasetId": 1027206,
          "sourceId": 3951115,
          "sourceType": "datasetVersion"
        },
        {
          "sourceId": 96549317,
          "sourceType": "kernelVersion"
        }
      ],
      "dockerImageVersionId": 31012,
      "isGpuEnabled": false,
      "isInternetEnabled": false,
      "language": "python",
      "sourceType": "notebook"
    },
    "kernelspec": {
      "display_name": "Python 3 (ipykernel)",
      "language": "python",
      "name": "python3"
    },
    "language_info": {
      "codemirror_mode": {
        "name": "ipython",
        "version": 3
      },
      "file_extension": ".py",
      "mimetype": "text/x-python",
      "name": "python",
      "nbconvert_exporter": "python",
      "pygments_lexer": "ipython3",
      "version": "3.9.13"
    },
    "papermill": {
      "default_parameters": {},
      "duration": 26.439236,
      "end_time": "2025-02-28T18:03:48.432524",
      "environment_variables": {},
      "exception": null,
      "input_path": "__notebook__.ipynb",
      "output_path": "__notebook__.ipynb",
      "parameters": {},
      "start_time": "2025-02-28T18:03:21.993288",
      "version": "2.3.4"
    }
  },
  "nbformat": 4,
  "nbformat_minor": 5
}