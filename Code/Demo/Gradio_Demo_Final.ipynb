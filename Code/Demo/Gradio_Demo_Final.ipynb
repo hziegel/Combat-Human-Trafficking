{
  "cells": [
    {
      "cell_type": "markdown",
      "id": "ae45d8f4-fe65-4485-949a-19e02631d96c",
      "metadata": {
        "id": "ae45d8f4-fe65-4485-949a-19e02631d96c"
      },
      "source": [
        "## Gradio"
      ]
    },
    {
      "cell_type": "code",
      "source": [
        "from google.colab import drive\n",
        "drive.mount('/content/drive')\n"
      ],
      "metadata": {
        "colab": {
          "base_uri": "https://localhost:8080/"
        },
        "id": "RMNmTxXIvfGn",
        "outputId": "0eff8766-3e73-44b3-da8a-dd7e0b332024"
      },
      "id": "RMNmTxXIvfGn",
      "execution_count": null,
      "outputs": [
        {
          "output_type": "stream",
          "name": "stdout",
          "text": [
            "Mounted at /content/drive\n"
          ]
        }
      ]
    },
    {
      "cell_type": "code",
      "source": [
        "!ls \"/content/drive/My Drive/Zinnia Gradio\""
      ],
      "metadata": {
        "colab": {
          "base_uri": "https://localhost:8080/"
        },
        "id": "2iHIKzz3vwZJ",
        "outputId": "7435c04f-afa3-46c8-e9c9-acd95614b119"
      },
      "id": "2iHIKzz3vwZJ",
      "execution_count": null,
      "outputs": [
        {
          "output_type": "stream",
          "name": "stdout",
          "text": [
            "'Copy of hotel_resnet34.pkl'   hotel_id_code_mapping.csv   submission.csv\n",
            " gradio.ipynb\t\t       hotel_resnet34.pkl\t  'Test Image.jpg'\n"
          ]
        }
      ]
    },
    {
      "cell_type": "code",
      "source": [
        "# 1) Point at your Drive folder\n",
        "DRIVE_FOLDER      = \"/content/drive/My Drive/Zinnia Gradio\"\n",
        "WEIGHTS_PATH      = f\"{DRIVE_FOLDER}/Copy of hotel_resnet34.pkl\"\n",
        "MAPPING_CSV_PATH  = f\"{DRIVE_FOLDER}/hotel_id_code_mapping.csv\"\n",
        "\n"
      ],
      "metadata": {
        "id": "Z8XxkunLxgyo"
      },
      "id": "Z8XxkunLxgyo",
      "execution_count": null,
      "outputs": []
    },
    {
      "cell_type": "code",
      "source": [
        "# 2) Reload everything from Drive\n",
        "import timm, pandas as pd, numpy as np, cv2\n",
        "from albumentations import Compose, ToFloat\n",
        "from albumentations.pytorch import ToTensorV2\n",
        "from PIL import Image\n",
        "import torch\n"
      ],
      "metadata": {
        "id": "BPHNILCayZQo"
      },
      "id": "BPHNILCayZQo",
      "execution_count": null,
      "outputs": []
    },
    {
      "cell_type": "code",
      "source": [
        "# 2a) load your hotel_id mapping\n",
        "mapping_df        = pd.read_csv(MAPPING_CSV_PATH)\n",
        "hotel_id_code_map = mapping_df.set_index(\"hotel_id_code\")[\"hotel_id\"].to_dict()\n"
      ],
      "metadata": {
        "id": "mN4VRHH-yjsE"
      },
      "id": "mN4VRHH-yjsE",
      "execution_count": null,
      "outputs": []
    },
    {
      "cell_type": "code",
      "source": [
        "# 2b) redefine your model class\n",
        "class HotelIdModel(torch.nn.Module):\n",
        "    def __init__(self, n_classes, backbone_name=\"resnet34\"):\n",
        "        super().__init__()\n",
        "        self.backbone = timm.create_model(backbone_name,\n",
        "                                          num_classes=n_classes,\n",
        "                                          pretrained=False)\n",
        "    def forward(self, x):\n",
        "        return self.backbone(x)"
      ],
      "metadata": {
        "id": "C62PCsKlylX4"
      },
      "id": "C62PCsKlylX4",
      "execution_count": null,
      "outputs": []
    },
    {
      "cell_type": "code",
      "source": [
        "# 2c) instantiate + load weights\n",
        "device   = torch.device(\"cuda\" if torch.cuda.is_available() else \"cpu\")\n",
        "n_classes = len(hotel_id_code_map)\n",
        "model    = HotelIdModel(n_classes, \"resnet34\")\n",
        "state    = torch.load(WEIGHTS_PATH, map_location=device)\n",
        "model.load_state_dict(state)\n",
        "model.to(device).eval()\n",
        "print(\"✅ Model reloaded and ready\")\n"
      ],
      "metadata": {
        "colab": {
          "base_uri": "https://localhost:8080/"
        },
        "id": "mVt9M6ZNysuJ",
        "outputId": "637bd9b1-298a-41b1-aee9-ed0e5a9e7ac6"
      },
      "id": "mVt9M6ZNysuJ",
      "execution_count": null,
      "outputs": [
        {
          "output_type": "stream",
          "name": "stdout",
          "text": [
            "✅ Model reloaded and ready\n"
          ]
        }
      ]
    },
    {
      "cell_type": "code",
      "source": [
        "# 3) your preprocessing & TTA predict helper (unchanged)\n",
        "base_transform = Compose([ ToFloat(), ToTensorV2() ])\n",
        "\n",
        "def pad_and_resize(img, size=256):\n",
        "    h, w = img.shape[:2]\n",
        "    diff = abs(h - w)//2\n",
        "    if h > w:\n",
        "        img = cv2.copyMakeBorder(img, 0,0, diff,diff, cv2.BORDER_CONSTANT)\n",
        "    else:\n",
        "        img = cv2.copyMakeBorder(img, diff,diff,0,0, cv2.BORDER_CONSTANT)\n",
        "    return cv2.resize(img, (size,size))\n",
        "\n",
        "def predict_top5(pil_img):\n",
        "    img    = np.array(pil_img)                # PIL→RGB numpy\n",
        "    img    = pad_and_resize(img, size=256)\n",
        "    tensor = base_transform(image=img)[\"image\"].unsqueeze(0).to(device)\n",
        "    with torch.no_grad():\n",
        "        out1 = torch.sigmoid(model(tensor))\n",
        "        out2 = torch.sigmoid(model(torch.flip(tensor, dims=[-1])))\n",
        "        avg  = (out1 + out2)/2\n",
        "    idxs = torch.topk(avg, k=5, dim=1).indices.cpu().numpy().ravel()\n",
        "    return [hotel_id_code_map[int(i)] for i in idxs]"
      ],
      "metadata": {
        "id": "dEnXKhcNyzDh"
      },
      "id": "dEnXKhcNyzDh",
      "execution_count": null,
      "outputs": []
    },
    {
      "cell_type": "code",
      "execution_count": null,
      "id": "54ca350b-51fb-401f-b63a-52b74fcfa9e4",
      "metadata": {
        "execution": {
          "iopub.execute_input": "2025-04-25T18:29:41.639566Z",
          "iopub.status.busy": "2025-04-25T18:29:41.639207Z"
        },
        "id": "54ca350b-51fb-401f-b63a-52b74fcfa9e4",
        "outputId": "e5b845f2-8f93-4b03-901f-dace8f12e0b9",
        "colab": {
          "base_uri": "https://localhost:8080/"
        }
      },
      "outputs": [
        {
          "output_type": "stream",
          "name": "stdout",
          "text": [
            "Collecting gradio\n",
            "  Downloading gradio-5.27.0-py3-none-any.whl.metadata (16 kB)\n",
            "Collecting aiofiles<25.0,>=22.0 (from gradio)\n",
            "  Downloading aiofiles-24.1.0-py3-none-any.whl.metadata (10 kB)\n",
            "Requirement already satisfied: anyio<5.0,>=3.0 in /usr/local/lib/python3.11/dist-packages (from gradio) (4.9.0)\n",
            "Collecting fastapi<1.0,>=0.115.2 (from gradio)\n",
            "  Downloading fastapi-0.115.12-py3-none-any.whl.metadata (27 kB)\n",
            "Collecting ffmpy (from gradio)\n",
            "  Downloading ffmpy-0.5.0-py3-none-any.whl.metadata (3.0 kB)\n",
            "Collecting gradio-client==1.9.0 (from gradio)\n",
            "  Downloading gradio_client-1.9.0-py3-none-any.whl.metadata (7.1 kB)\n",
            "Collecting groovy~=0.1 (from gradio)\n",
            "  Downloading groovy-0.1.2-py3-none-any.whl.metadata (6.1 kB)\n",
            "Requirement already satisfied: httpx>=0.24.1 in /usr/local/lib/python3.11/dist-packages (from gradio) (0.28.1)\n",
            "Requirement already satisfied: huggingface-hub>=0.28.1 in /usr/local/lib/python3.11/dist-packages (from gradio) (0.30.2)\n",
            "Requirement already satisfied: jinja2<4.0 in /usr/local/lib/python3.11/dist-packages (from gradio) (3.1.6)\n",
            "Requirement already satisfied: markupsafe<4.0,>=2.0 in /usr/local/lib/python3.11/dist-packages (from gradio) (3.0.2)\n",
            "Requirement already satisfied: numpy<3.0,>=1.0 in /usr/local/lib/python3.11/dist-packages (from gradio) (2.0.2)\n",
            "Requirement already satisfied: orjson~=3.0 in /usr/local/lib/python3.11/dist-packages (from gradio) (3.10.16)\n",
            "Requirement already satisfied: packaging in /usr/local/lib/python3.11/dist-packages (from gradio) (24.2)\n",
            "Requirement already satisfied: pandas<3.0,>=1.0 in /usr/local/lib/python3.11/dist-packages (from gradio) (2.2.2)\n",
            "Requirement already satisfied: pillow<12.0,>=8.0 in /usr/local/lib/python3.11/dist-packages (from gradio) (11.1.0)\n",
            "Requirement already satisfied: pydantic<2.12,>=2.0 in /usr/local/lib/python3.11/dist-packages (from gradio) (2.11.3)\n",
            "Collecting pydub (from gradio)\n",
            "  Downloading pydub-0.25.1-py2.py3-none-any.whl.metadata (1.4 kB)\n",
            "Collecting python-multipart>=0.0.18 (from gradio)\n",
            "  Downloading python_multipart-0.0.20-py3-none-any.whl.metadata (1.8 kB)\n",
            "Requirement already satisfied: pyyaml<7.0,>=5.0 in /usr/local/lib/python3.11/dist-packages (from gradio) (6.0.2)\n",
            "Collecting ruff>=0.9.3 (from gradio)\n",
            "  Downloading ruff-0.11.7-py3-none-manylinux_2_17_x86_64.manylinux2014_x86_64.whl.metadata (25 kB)\n",
            "Collecting safehttpx<0.2.0,>=0.1.6 (from gradio)\n",
            "  Downloading safehttpx-0.1.6-py3-none-any.whl.metadata (4.2 kB)\n",
            "Collecting semantic-version~=2.0 (from gradio)\n",
            "  Downloading semantic_version-2.10.0-py2.py3-none-any.whl.metadata (9.7 kB)\n",
            "Collecting starlette<1.0,>=0.40.0 (from gradio)\n",
            "  Downloading starlette-0.46.2-py3-none-any.whl.metadata (6.2 kB)\n",
            "Collecting tomlkit<0.14.0,>=0.12.0 (from gradio)\n",
            "  Downloading tomlkit-0.13.2-py3-none-any.whl.metadata (2.7 kB)\n",
            "Requirement already satisfied: typer<1.0,>=0.12 in /usr/local/lib/python3.11/dist-packages (from gradio) (0.15.2)\n",
            "Requirement already satisfied: typing-extensions~=4.0 in /usr/local/lib/python3.11/dist-packages (from gradio) (4.13.2)\n",
            "Collecting uvicorn>=0.14.0 (from gradio)\n",
            "  Downloading uvicorn-0.34.2-py3-none-any.whl.metadata (6.5 kB)\n",
            "Requirement already satisfied: fsspec in /usr/local/lib/python3.11/dist-packages (from gradio-client==1.9.0->gradio) (2025.3.2)\n",
            "Requirement already satisfied: websockets<16.0,>=10.0 in /usr/local/lib/python3.11/dist-packages (from gradio-client==1.9.0->gradio) (15.0.1)\n",
            "Requirement already satisfied: idna>=2.8 in /usr/local/lib/python3.11/dist-packages (from anyio<5.0,>=3.0->gradio) (3.10)\n",
            "Requirement already satisfied: sniffio>=1.1 in /usr/local/lib/python3.11/dist-packages (from anyio<5.0,>=3.0->gradio) (1.3.1)\n",
            "Requirement already satisfied: certifi in /usr/local/lib/python3.11/dist-packages (from httpx>=0.24.1->gradio) (2025.1.31)\n",
            "Requirement already satisfied: httpcore==1.* in /usr/local/lib/python3.11/dist-packages (from httpx>=0.24.1->gradio) (1.0.8)\n",
            "Requirement already satisfied: h11<0.15,>=0.13 in /usr/local/lib/python3.11/dist-packages (from httpcore==1.*->httpx>=0.24.1->gradio) (0.14.0)\n",
            "Requirement already satisfied: filelock in /usr/local/lib/python3.11/dist-packages (from huggingface-hub>=0.28.1->gradio) (3.18.0)\n",
            "Requirement already satisfied: requests in /usr/local/lib/python3.11/dist-packages (from huggingface-hub>=0.28.1->gradio) (2.32.3)\n",
            "Requirement already satisfied: tqdm>=4.42.1 in /usr/local/lib/python3.11/dist-packages (from huggingface-hub>=0.28.1->gradio) (4.67.1)\n",
            "Requirement already satisfied: python-dateutil>=2.8.2 in /usr/local/lib/python3.11/dist-packages (from pandas<3.0,>=1.0->gradio) (2.8.2)\n",
            "Requirement already satisfied: pytz>=2020.1 in /usr/local/lib/python3.11/dist-packages (from pandas<3.0,>=1.0->gradio) (2025.2)\n",
            "Requirement already satisfied: tzdata>=2022.7 in /usr/local/lib/python3.11/dist-packages (from pandas<3.0,>=1.0->gradio) (2025.2)\n",
            "Requirement already satisfied: annotated-types>=0.6.0 in /usr/local/lib/python3.11/dist-packages (from pydantic<2.12,>=2.0->gradio) (0.7.0)\n",
            "Requirement already satisfied: pydantic-core==2.33.1 in /usr/local/lib/python3.11/dist-packages (from pydantic<2.12,>=2.0->gradio) (2.33.1)\n",
            "Requirement already satisfied: typing-inspection>=0.4.0 in /usr/local/lib/python3.11/dist-packages (from pydantic<2.12,>=2.0->gradio) (0.4.0)\n",
            "Requirement already satisfied: click>=8.0.0 in /usr/local/lib/python3.11/dist-packages (from typer<1.0,>=0.12->gradio) (8.1.8)\n",
            "Requirement already satisfied: shellingham>=1.3.0 in /usr/local/lib/python3.11/dist-packages (from typer<1.0,>=0.12->gradio) (1.5.4)\n",
            "Requirement already satisfied: rich>=10.11.0 in /usr/local/lib/python3.11/dist-packages (from typer<1.0,>=0.12->gradio) (13.9.4)\n",
            "Requirement already satisfied: six>=1.5 in /usr/local/lib/python3.11/dist-packages (from python-dateutil>=2.8.2->pandas<3.0,>=1.0->gradio) (1.17.0)\n",
            "Requirement already satisfied: markdown-it-py>=2.2.0 in /usr/local/lib/python3.11/dist-packages (from rich>=10.11.0->typer<1.0,>=0.12->gradio) (3.0.0)\n",
            "Requirement already satisfied: pygments<3.0.0,>=2.13.0 in /usr/local/lib/python3.11/dist-packages (from rich>=10.11.0->typer<1.0,>=0.12->gradio) (2.18.0)\n",
            "Requirement already satisfied: charset-normalizer<4,>=2 in /usr/local/lib/python3.11/dist-packages (from requests->huggingface-hub>=0.28.1->gradio) (3.4.1)\n",
            "Requirement already satisfied: urllib3<3,>=1.21.1 in /usr/local/lib/python3.11/dist-packages (from requests->huggingface-hub>=0.28.1->gradio) (2.3.0)\n",
            "Requirement already satisfied: mdurl~=0.1 in /usr/local/lib/python3.11/dist-packages (from markdown-it-py>=2.2.0->rich>=10.11.0->typer<1.0,>=0.12->gradio) (0.1.2)\n",
            "Downloading gradio-5.27.0-py3-none-any.whl (54.0 MB)\n",
            "\u001b[2K   \u001b[90m━━━━━━━━━━━━━━━━━━━━━━━━━━━━━━━━━━━━━━━━\u001b[0m \u001b[32m54.0/54.0 MB\u001b[0m \u001b[31m9.9 MB/s\u001b[0m eta \u001b[36m0:00:00\u001b[0m\n",
            "\u001b[?25hDownloading gradio_client-1.9.0-py3-none-any.whl (322 kB)\n",
            "\u001b[2K   \u001b[90m━━━━━━━━━━━━━━━━━━━━━━━━━━━━━━━━━━━━━━━━\u001b[0m \u001b[32m322.6/322.6 kB\u001b[0m \u001b[31m19.0 MB/s\u001b[0m eta \u001b[36m0:00:00\u001b[0m\n",
            "\u001b[?25hDownloading aiofiles-24.1.0-py3-none-any.whl (15 kB)\n",
            "Downloading fastapi-0.115.12-py3-none-any.whl (95 kB)\n",
            "\u001b[2K   \u001b[90m━━━━━━━━━━━━━━━━━━━━━━━━━━━━━━━━━━━━━━━━\u001b[0m \u001b[32m95.2/95.2 kB\u001b[0m \u001b[31m7.7 MB/s\u001b[0m eta \u001b[36m0:00:00\u001b[0m\n",
            "\u001b[?25hDownloading groovy-0.1.2-py3-none-any.whl (14 kB)\n",
            "Downloading python_multipart-0.0.20-py3-none-any.whl (24 kB)\n",
            "Downloading ruff-0.11.7-py3-none-manylinux_2_17_x86_64.manylinux2014_x86_64.whl (11.5 MB)\n",
            "\u001b[2K   \u001b[90m━━━━━━━━━━━━━━━━━━━━━━━━━━━━━━━━━━━━━━━━\u001b[0m \u001b[32m11.5/11.5 MB\u001b[0m \u001b[31m77.0 MB/s\u001b[0m eta \u001b[36m0:00:00\u001b[0m\n",
            "\u001b[?25hDownloading safehttpx-0.1.6-py3-none-any.whl (8.7 kB)\n",
            "Downloading semantic_version-2.10.0-py2.py3-none-any.whl (15 kB)\n",
            "Downloading starlette-0.46.2-py3-none-any.whl (72 kB)\n",
            "\u001b[2K   \u001b[90m━━━━━━━━━━━━━━━━━━━━━━━━━━━━━━━━━━━━━━━━\u001b[0m \u001b[32m72.0/72.0 kB\u001b[0m \u001b[31m2.5 MB/s\u001b[0m eta \u001b[36m0:00:00\u001b[0m\n",
            "\u001b[?25hDownloading tomlkit-0.13.2-py3-none-any.whl (37 kB)\n",
            "Downloading uvicorn-0.34.2-py3-none-any.whl (62 kB)\n",
            "\u001b[2K   \u001b[90m━━━━━━━━━━━━━━━━━━━━━━━━━━━━━━━━━━━━━━━━\u001b[0m \u001b[32m62.5/62.5 kB\u001b[0m \u001b[31m2.3 MB/s\u001b[0m eta \u001b[36m0:00:00\u001b[0m\n",
            "\u001b[?25hDownloading ffmpy-0.5.0-py3-none-any.whl (6.0 kB)\n",
            "Downloading pydub-0.25.1-py2.py3-none-any.whl (32 kB)\n",
            "Installing collected packages: pydub, uvicorn, tomlkit, semantic-version, ruff, python-multipart, groovy, ffmpy, aiofiles, starlette, safehttpx, gradio-client, fastapi, gradio\n",
            "Successfully installed aiofiles-24.1.0 fastapi-0.115.12 ffmpy-0.5.0 gradio-5.27.0 gradio-client-1.9.0 groovy-0.1.2 pydub-0.25.1 python-multipart-0.0.20 ruff-0.11.7 safehttpx-0.1.6 semantic-version-2.10.0 starlette-0.46.2 tomlkit-0.13.2 uvicorn-0.34.2\n"
          ]
        }
      ],
      "source": [
        "!pip install gradio"
      ]
    },
    {
      "cell_type": "code",
      "source": [
        "import gradio as gr\n",
        "\n",
        "css = \"\"\"\n",
        ".gradio-container { background: white; color: black; }\n",
        "\n",
        "/* Title styling */\n",
        "h1 {\n",
        "  color: white;\n",
        "  background: #0097a7;\n",
        "  font-weight: normal;\n",
        "  font-family: Arial, sans-serif;\n",
        "  font-size:40px;\n",
        "  padding: 0.5rem;\n",
        "  text-align: center;\n",
        "}\n",
        "\n",
        "/* Tabs styling */\n",
        "[role=\"tablist\"] [role=\"tab\"] {\n",
        "  font-weight: bold !important;\n",
        "  color: #555 !important;\n",
        "}\n",
        "[role=\"tablist\"] [role=\"tab\"][aria-selected=\"true\"] {\n",
        "  color: #000 !important;\n",
        "}\n",
        "\n",
        "/* Upload prompt styling */\n",
        "#upload-desc, #upload-desc * {\n",
        "  color: #003366 !important;\n",
        "  font-weight: bold !important;\n",
        "  font-size: 1.1rem;\n",
        "  text-align: center;\n",
        "  margin-bottom: 0.5rem;\n",
        "}\n",
        "\n",
        "/* Info tab text styling */\n",
        "#welcome-info, #welcome-info * {\n",
        "  color: #003366 !important;\n",
        "}\n",
        "#resnet-info, #resnet-info * {\n",
        "  color: #003366 !important;\n",
        "}\n",
        "#eff-info, #eff-info * {\n",
        "  color: #003366 !important;\n",
        "}\n",
        "\n",
        "/* Center the row contents */\n",
        "#predict-row {\n",
        "  display: flex !important;\n",
        "  align-items: center !important;\n",
        "  justify-content: center !important;\n",
        "  gap: 2rem;\n",
        "  margin-top: 1rem;\n",
        "}\n",
        "\n",
        "/* Output box styling */\n",
        "#output-box {\n",
        "  background: #e0f7fa;\n",
        "  border-radius: 8px;\n",
        "  box-shadow: 0 4px 12px rgba(0,0,0,0.1);\n",
        "  padding: 1.5rem;\n",
        "  min-width: 250px;\n",
        "  max-width: 300px;\n",
        "}\n",
        "\n",
        "/* Individual ID item styling */\n",
        ".id-item {\n",
        "  font-size: 1.2rem;\n",
        "  color: #00796b;\n",
        "  font-weight: bold;\n",
        "  text-align: center;\n",
        "  margin: 0.5rem 0;\n",
        "}\n",
        "\"\"\"\n",
        "\n",
        "welcome_description = \"\"\"\n",
        "## Welcome to the Hotel Identification Demo!\n",
        "\n",
        "This project supports efforts to combat human trafficking by matching hotel-room images to their source hotels.\n",
        "We demonstrate two deep-learning approaches:\n",
        "\n",
        "- **ResNet-34 classification**: Directly predicts hotel IDs in under 30 min.\n",
        "- **EfficientNet-b0 retrieval**: Embeds images and uses cosine similarity for higher MAP@5, at the cost of longer runtime.\n",
        "\n",
        "Select a tab to learn more or upload your own image in the Predict tab to see ResNet-34 in action.\n",
        "\"\"\"\n",
        "\n",
        "resnet_description = \"\"\"\n",
        "## ResNet-34 Classification Model\n",
        "\n",
        "| Configuration      | Run Time    | MAP@5  |\n",
        "|--------------------|-------------|--------|\n",
        "| **Baseline**       | 15 minutes  | 0.156  |\n",
        "| **+ Test-Time Aug**| 30 minutes  | 0.185  |\n",
        "\n",
        "**Feature Engineering:**\n",
        "We apply Albumentations transforms on-the-fly—HorizontalFlip, ShiftScaleRotate, OpticalDistortion, Perspective, CoarseDropout, and RandomBrightnessContrast—to simulate occlusions, lighting changes, and viewpoint variations.\n",
        "\n",
        "**Test-Time Augmentation (TTA):**\n",
        "We generate three horizontally-flipped variants of each test image and average their sigmoid outputs (with a slight weight on the original). This boosts MAP@5 from 0.156 → 0.185.\n",
        "\n",
        "> **Takeaway:**\n",
        "> ResNet-34 with TTA delivers a fast (≤ 30 min) inference pipeline and strong top-5 recall over 3,116 classes—ideal for large-scale hotel identification.\n",
        "\"\"\"\n",
        "\n",
        "\n",
        "effnet_description = \"\"\"\n",
        "## EfficientNet-b0 Embedding Model\n",
        "\n",
        "| Configuration        | Run Time   | MAP@5  |\n",
        "|----------------------|------------|--------|\n",
        "| **EfficientNet-b0**  | 8+ hours   | 0.204  |\n",
        "\n",
        "**Embedding + Retrieval:**\n",
        "1. Produce a 512-dim vector for each 256×256 image.\n",
        "2. L2-normalize and compute cosine similarity against a precomputed bank of embeddings.\n",
        "3. Return the top-K nearest hotel IDs.\n",
        "\n",
        "> **Important:**\n",
        "> We do *not* claim one model is definitively superior—each provides unique insights.\n",
        "> In urgent real-world settings (e.g. human trafficking investigations), fast turnaround is critical.\n",
        "> That’s why we demo ResNet-34 here—EfficientNet-b0 is reserved for deeper offline analysis.\n",
        "\"\"\"\n",
        "\n",
        "with gr.Blocks(theme=gr.themes.Soft(), css=css) as demo:\n",
        "    gr.Markdown(\"# 🏨 Hotel Identification\", elem_id=\"title\")\n",
        "\n",
        "    with gr.Tabs():\n",
        "        # 1) Welcome tab\n",
        "        with gr.TabItem(\"Welcome\"):\n",
        "            gr.Markdown(welcome_description, elem_id=\"welcome-info\")\n",
        "\n",
        "        # 2) ResNet Info tab\n",
        "        with gr.TabItem(\"ResNet-34 Info\"):\n",
        "            gr.Markdown(resnet_description, elem_id=\"resnet-info\")\n",
        "\n",
        "        # 3) Predict tab\n",
        "        with gr.TabItem(\"ResNet-34 Prediction Demo\"):\n",
        "            gr.Markdown(\"Upload Image\", elem_id=\"upload-desc\")\n",
        "            with gr.Row(elem_id=\"predict-row\"):\n",
        "                with gr.Column(scale=1, min_width=300):\n",
        "                    img_in = gr.Image(type=\"pil\", label=\"\")\n",
        "                    btn    = gr.Button(\"🔍 Predict\", variant=\"primary\")\n",
        "                with gr.Column(scale=1, min_width=300):\n",
        "                    placeholder = \"<div class='id-item' style='color:#aaa;font-style:italic;'>Your top-5 IDs will appear here</div>\"\n",
        "                    out = gr.HTML(placeholder, elem_id=\"output-box\")\n",
        "            def predict_pretty(pil_img):\n",
        "                ids = predict_top5(pil_img)\n",
        "                return \"\".join(f\"<div class='id-item'>• {h}</div>\" for h in ids)\n",
        "            btn.click(fn=predict_pretty, inputs=[img_in], outputs=[out])\n",
        "\n",
        "        # 4) EfficientNet Info tab\n",
        "        with gr.TabItem(\"EfficientNet-b0 Info\"):\n",
        "            gr.Markdown(effnet_description, elem_id=\"eff-info\")\n",
        "\n",
        "    demo.launch(share=True)\n"
      ],
      "metadata": {
        "colab": {
          "base_uri": "https://localhost:8080/",
          "height": 612
        },
        "id": "SGMEwH9_O1NX",
        "outputId": "9b37c83e-fda2-4ab9-86ab-9128f902d54c"
      },
      "id": "SGMEwH9_O1NX",
      "execution_count": 49,
      "outputs": [
        {
          "output_type": "stream",
          "name": "stdout",
          "text": [
            "Colab notebook detected. To show errors in colab notebook, set debug=True in launch()\n",
            "* Running on public URL: https://405effaa4e538afcf5.gradio.live\n",
            "\n",
            "This share link expires in 1 week. For free permanent hosting and GPU upgrades, run `gradio deploy` from the terminal in the working directory to deploy to Hugging Face Spaces (https://huggingface.co/spaces)\n"
          ]
        },
        {
          "output_type": "display_data",
          "data": {
            "text/plain": [
              "<IPython.core.display.HTML object>"
            ],
            "text/html": [
              "<div><iframe src=\"https://405effaa4e538afcf5.gradio.live\" width=\"100%\" height=\"500\" allow=\"autoplay; camera; microphone; clipboard-read; clipboard-write;\" frameborder=\"0\" allowfullscreen></iframe></div>"
            ]
          },
          "metadata": {}
        }
      ]
    }
  ],
  "metadata": {
    "colab": {
      "provenance": []
    },
    "kaggle": {
      "accelerator": "none",
      "dataSources": [
        {
          "databundleVersionId": 4957097,
          "sourceId": 35150,
          "sourceType": "competition"
        },
        {
          "datasetId": 1027206,
          "sourceId": 3951115,
          "sourceType": "datasetVersion"
        },
        {
          "sourceId": 96549317,
          "sourceType": "kernelVersion"
        }
      ],
      "dockerImageVersionId": 31012,
      "isGpuEnabled": false,
      "isInternetEnabled": false,
      "language": "python",
      "sourceType": "notebook"
    },
    "kernelspec": {
      "display_name": "Python 3 (ipykernel)",
      "language": "python",
      "name": "python3"
    },
    "language_info": {
      "codemirror_mode": {
        "name": "ipython",
        "version": 3
      },
      "file_extension": ".py",
      "mimetype": "text/x-python",
      "name": "python",
      "nbconvert_exporter": "python",
      "pygments_lexer": "ipython3",
      "version": "3.9.13"
    },
    "papermill": {
      "default_parameters": {},
      "duration": 26.439236,
      "end_time": "2025-02-28T18:03:48.432524",
      "environment_variables": {},
      "exception": null,
      "input_path": "__notebook__.ipynb",
      "output_path": "__notebook__.ipynb",
      "parameters": {},
      "start_time": "2025-02-28T18:03:21.993288",
      "version": "2.3.4"
    }
  },
  "nbformat": 4,
  "nbformat_minor": 5
}