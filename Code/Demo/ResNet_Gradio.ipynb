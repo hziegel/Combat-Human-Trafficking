{
  "cells": [
    {
      "cell_type": "markdown",
      "id": "ae45d8f4-fe65-4485-949a-19e02631d96c",
      "metadata": {
        "id": "ae45d8f4-fe65-4485-949a-19e02631d96c"
      },
      "source": [
        "## Gradio"
      ]
    },
    {
      "cell_type": "code",
      "execution_count": 97,
      "id": "RMNmTxXIvfGn",
      "metadata": {
        "colab": {
          "base_uri": "https://localhost:8080/"
        },
        "id": "RMNmTxXIvfGn",
        "outputId": "d4cecd7a-5f12-42cb-8a71-9229bc027263"
      },
      "outputs": [
        {
          "output_type": "stream",
          "name": "stdout",
          "text": [
            "Drive already mounted at /content/drive; to attempt to forcibly remount, call drive.mount(\"/content/drive\", force_remount=True).\n"
          ]
        }
      ],
      "source": [
        "from google.colab import drive\n",
        "drive.mount('/content/drive')\n"
      ]
    },
    {
      "cell_type": "code",
      "execution_count": 98,
      "id": "2iHIKzz3vwZJ",
      "metadata": {
        "colab": {
          "base_uri": "https://localhost:8080/"
        },
        "id": "2iHIKzz3vwZJ",
        "outputId": "0db2afdf-5a4f-41a6-f61b-11f09cc18c76"
      },
      "outputs": [
        {
          "output_type": "stream",
          "name": "stdout",
          "text": [
            " hotel_efficientnet.pkl      hotel_resnet34.pkl\n",
            " hotel_id_code_mapping.csv  'ResNet Gradio.ipynb'\n"
          ]
        }
      ],
      "source": [
        "!ls \"/content/drive/My Drive/Demo\""
      ]
    },
    {
      "cell_type": "code",
      "execution_count": 99,
      "id": "Z8XxkunLxgyo",
      "metadata": {
        "id": "Z8XxkunLxgyo"
      },
      "outputs": [],
      "source": [
        "# 1) Point at your Drive folder\n",
        "DRIVE_FOLDER      = \"/content/drive/My Drive/Demo\"\n",
        "WEIGHTS_PATH      = f\"{DRIVE_FOLDER}/hotel_resnet34.pkl\"\n",
        "MAPPING_CSV_PATH  = f\"{DRIVE_FOLDER}/hotel_id_code_mapping.csv\""
      ]
    },
    {
      "cell_type": "code",
      "execution_count": 100,
      "id": "BPHNILCayZQo",
      "metadata": {
        "id": "BPHNILCayZQo"
      },
      "outputs": [],
      "source": [
        "# 2) Reload everything from Drive\n",
        "import timm, pandas as pd, numpy as np, cv2\n",
        "from albumentations import Compose, ToFloat\n",
        "from albumentations.pytorch import ToTensorV2\n",
        "from PIL import Image\n",
        "import torch\n"
      ]
    },
    {
      "cell_type": "code",
      "execution_count": 101,
      "id": "mN4VRHH-yjsE",
      "metadata": {
        "id": "mN4VRHH-yjsE"
      },
      "outputs": [],
      "source": [
        "# 2a) load your hotel_id mapping\n",
        "mapping_df        = pd.read_csv(MAPPING_CSV_PATH)\n",
        "hotel_id_code_map = mapping_df.set_index(\"hotel_id_code\")[\"hotel_id\"].to_dict()\n"
      ]
    },
    {
      "cell_type": "code",
      "execution_count": 102,
      "id": "C62PCsKlylX4",
      "metadata": {
        "id": "C62PCsKlylX4"
      },
      "outputs": [],
      "source": [
        "# 2b) redefine your model class\n",
        "class HotelIdModel(torch.nn.Module):\n",
        "    def __init__(self, n_classes, backbone_name=\"resnet34\"):\n",
        "        super().__init__()\n",
        "        self.backbone = timm.create_model(backbone_name,\n",
        "                                          num_classes=n_classes,\n",
        "                                          pretrained=False)\n",
        "    def forward(self, x):\n",
        "        return self.backbone(x)"
      ]
    },
    {
      "cell_type": "code",
      "execution_count": 103,
      "id": "mVt9M6ZNysuJ",
      "metadata": {
        "colab": {
          "base_uri": "https://localhost:8080/"
        },
        "id": "mVt9M6ZNysuJ",
        "outputId": "891b9406-2755-43d6-c869-0ab33f1858ef"
      },
      "outputs": [
        {
          "output_type": "stream",
          "name": "stdout",
          "text": [
            "✅ ResNet model reloaded and ready\n"
          ]
        }
      ],
      "source": [
        "# 2c) instantiate + load weights ResNet\n",
        "device   = torch.device(\"cuda\" if torch.cuda.is_available() else \"cpu\")\n",
        "n_classes = len(hotel_id_code_map)\n",
        "model    = HotelIdModel(n_classes, \"resnet34\")\n",
        "state    = torch.load(WEIGHTS_PATH, map_location=device)\n",
        "model.load_state_dict(state)\n",
        "model.to(device).eval()\n",
        "print(\"✅ ResNet model reloaded and ready\")"
      ]
    },
    {
      "cell_type": "code",
      "execution_count": 104,
      "id": "dEnXKhcNyzDh",
      "metadata": {
        "id": "dEnXKhcNyzDh"
      },
      "outputs": [],
      "source": [
        "# 3) your preprocessing & TTA predict helper (unchanged)\n",
        "base_transform = Compose([ ToFloat(), ToTensorV2() ])\n",
        "\n",
        "def pad_and_resize(img, size=256):\n",
        "    h, w = img.shape[:2]\n",
        "    diff = abs(h - w)//2\n",
        "    if h > w:\n",
        "        img = cv2.copyMakeBorder(img, 0,0, diff,diff, cv2.BORDER_CONSTANT)\n",
        "    else:\n",
        "        img = cv2.copyMakeBorder(img, diff,diff,0,0, cv2.BORDER_CONSTANT)\n",
        "    return cv2.resize(img, (size,size))\n",
        "\n",
        "def predict_top5(pil_img):\n",
        "    img    = np.array(pil_img)                # PIL→RGB numpy\n",
        "    img    = pad_and_resize(img, size=256)\n",
        "    tensor = base_transform(image=img)[\"image\"].unsqueeze(0).to(device)\n",
        "    with torch.no_grad():\n",
        "        out1 = torch.sigmoid(model(tensor))\n",
        "        out2 = torch.sigmoid(model(torch.flip(tensor, dims=[-1])))\n",
        "        avg  = (out1 + out2)/2\n",
        "    idxs = torch.topk(avg, k=5, dim=1).indices.cpu().numpy().ravel()\n",
        "    return [hotel_id_code_map[int(i)] for i in idxs]"
      ]
    },
    {
      "cell_type": "code",
      "execution_count": 105,
      "id": "54ca350b-51fb-401f-b63a-52b74fcfa9e4",
      "metadata": {
        "colab": {
          "base_uri": "https://localhost:8080/"
        },
        "execution": {
          "iopub.execute_input": "2025-04-25T18:29:41.639566Z",
          "iopub.status.busy": "2025-04-25T18:29:41.639207Z"
        },
        "id": "54ca350b-51fb-401f-b63a-52b74fcfa9e4",
        "outputId": "e1558ef8-b4fb-4deb-f5b1-32acbedb798f"
      },
      "outputs": [
        {
          "output_type": "stream",
          "name": "stdout",
          "text": [
            "Requirement already satisfied: gradio in /usr/local/lib/python3.11/dist-packages (5.27.0)\n",
            "Requirement already satisfied: aiofiles<25.0,>=22.0 in /usr/local/lib/python3.11/dist-packages (from gradio) (24.1.0)\n",
            "Requirement already satisfied: anyio<5.0,>=3.0 in /usr/local/lib/python3.11/dist-packages (from gradio) (4.9.0)\n",
            "Requirement already satisfied: fastapi<1.0,>=0.115.2 in /usr/local/lib/python3.11/dist-packages (from gradio) (0.115.12)\n",
            "Requirement already satisfied: ffmpy in /usr/local/lib/python3.11/dist-packages (from gradio) (0.5.0)\n",
            "Requirement already satisfied: gradio-client==1.9.0 in /usr/local/lib/python3.11/dist-packages (from gradio) (1.9.0)\n",
            "Requirement already satisfied: groovy~=0.1 in /usr/local/lib/python3.11/dist-packages (from gradio) (0.1.2)\n",
            "Requirement already satisfied: httpx>=0.24.1 in /usr/local/lib/python3.11/dist-packages (from gradio) (0.28.1)\n",
            "Requirement already satisfied: huggingface-hub>=0.28.1 in /usr/local/lib/python3.11/dist-packages (from gradio) (0.30.2)\n",
            "Requirement already satisfied: jinja2<4.0 in /usr/local/lib/python3.11/dist-packages (from gradio) (3.1.6)\n",
            "Requirement already satisfied: markupsafe<4.0,>=2.0 in /usr/local/lib/python3.11/dist-packages (from gradio) (3.0.2)\n",
            "Requirement already satisfied: numpy<3.0,>=1.0 in /usr/local/lib/python3.11/dist-packages (from gradio) (2.0.2)\n",
            "Requirement already satisfied: orjson~=3.0 in /usr/local/lib/python3.11/dist-packages (from gradio) (3.10.16)\n",
            "Requirement already satisfied: packaging in /usr/local/lib/python3.11/dist-packages (from gradio) (24.2)\n",
            "Requirement already satisfied: pandas<3.0,>=1.0 in /usr/local/lib/python3.11/dist-packages (from gradio) (2.2.2)\n",
            "Requirement already satisfied: pillow<12.0,>=8.0 in /usr/local/lib/python3.11/dist-packages (from gradio) (11.1.0)\n",
            "Requirement already satisfied: pydantic<2.12,>=2.0 in /usr/local/lib/python3.11/dist-packages (from gradio) (2.11.3)\n",
            "Requirement already satisfied: pydub in /usr/local/lib/python3.11/dist-packages (from gradio) (0.25.1)\n",
            "Requirement already satisfied: python-multipart>=0.0.18 in /usr/local/lib/python3.11/dist-packages (from gradio) (0.0.20)\n",
            "Requirement already satisfied: pyyaml<7.0,>=5.0 in /usr/local/lib/python3.11/dist-packages (from gradio) (6.0.2)\n",
            "Requirement already satisfied: ruff>=0.9.3 in /usr/local/lib/python3.11/dist-packages (from gradio) (0.11.7)\n",
            "Requirement already satisfied: safehttpx<0.2.0,>=0.1.6 in /usr/local/lib/python3.11/dist-packages (from gradio) (0.1.6)\n",
            "Requirement already satisfied: semantic-version~=2.0 in /usr/local/lib/python3.11/dist-packages (from gradio) (2.10.0)\n",
            "Requirement already satisfied: starlette<1.0,>=0.40.0 in /usr/local/lib/python3.11/dist-packages (from gradio) (0.46.2)\n",
            "Requirement already satisfied: tomlkit<0.14.0,>=0.12.0 in /usr/local/lib/python3.11/dist-packages (from gradio) (0.13.2)\n",
            "Requirement already satisfied: typer<1.0,>=0.12 in /usr/local/lib/python3.11/dist-packages (from gradio) (0.15.2)\n",
            "Requirement already satisfied: typing-extensions~=4.0 in /usr/local/lib/python3.11/dist-packages (from gradio) (4.13.2)\n",
            "Requirement already satisfied: uvicorn>=0.14.0 in /usr/local/lib/python3.11/dist-packages (from gradio) (0.34.2)\n",
            "Requirement already satisfied: fsspec in /usr/local/lib/python3.11/dist-packages (from gradio-client==1.9.0->gradio) (2025.3.2)\n",
            "Requirement already satisfied: websockets<16.0,>=10.0 in /usr/local/lib/python3.11/dist-packages (from gradio-client==1.9.0->gradio) (15.0.1)\n",
            "Requirement already satisfied: idna>=2.8 in /usr/local/lib/python3.11/dist-packages (from anyio<5.0,>=3.0->gradio) (3.10)\n",
            "Requirement already satisfied: sniffio>=1.1 in /usr/local/lib/python3.11/dist-packages (from anyio<5.0,>=3.0->gradio) (1.3.1)\n",
            "Requirement already satisfied: certifi in /usr/local/lib/python3.11/dist-packages (from httpx>=0.24.1->gradio) (2025.1.31)\n",
            "Requirement already satisfied: httpcore==1.* in /usr/local/lib/python3.11/dist-packages (from httpx>=0.24.1->gradio) (1.0.8)\n",
            "Requirement already satisfied: h11<0.15,>=0.13 in /usr/local/lib/python3.11/dist-packages (from httpcore==1.*->httpx>=0.24.1->gradio) (0.14.0)\n",
            "Requirement already satisfied: filelock in /usr/local/lib/python3.11/dist-packages (from huggingface-hub>=0.28.1->gradio) (3.18.0)\n",
            "Requirement already satisfied: requests in /usr/local/lib/python3.11/dist-packages (from huggingface-hub>=0.28.1->gradio) (2.32.3)\n",
            "Requirement already satisfied: tqdm>=4.42.1 in /usr/local/lib/python3.11/dist-packages (from huggingface-hub>=0.28.1->gradio) (4.67.1)\n",
            "Requirement already satisfied: python-dateutil>=2.8.2 in /usr/local/lib/python3.11/dist-packages (from pandas<3.0,>=1.0->gradio) (2.8.2)\n",
            "Requirement already satisfied: pytz>=2020.1 in /usr/local/lib/python3.11/dist-packages (from pandas<3.0,>=1.0->gradio) (2025.2)\n",
            "Requirement already satisfied: tzdata>=2022.7 in /usr/local/lib/python3.11/dist-packages (from pandas<3.0,>=1.0->gradio) (2025.2)\n",
            "Requirement already satisfied: annotated-types>=0.6.0 in /usr/local/lib/python3.11/dist-packages (from pydantic<2.12,>=2.0->gradio) (0.7.0)\n",
            "Requirement already satisfied: pydantic-core==2.33.1 in /usr/local/lib/python3.11/dist-packages (from pydantic<2.12,>=2.0->gradio) (2.33.1)\n",
            "Requirement already satisfied: typing-inspection>=0.4.0 in /usr/local/lib/python3.11/dist-packages (from pydantic<2.12,>=2.0->gradio) (0.4.0)\n",
            "Requirement already satisfied: click>=8.0.0 in /usr/local/lib/python3.11/dist-packages (from typer<1.0,>=0.12->gradio) (8.1.8)\n",
            "Requirement already satisfied: shellingham>=1.3.0 in /usr/local/lib/python3.11/dist-packages (from typer<1.0,>=0.12->gradio) (1.5.4)\n",
            "Requirement already satisfied: rich>=10.11.0 in /usr/local/lib/python3.11/dist-packages (from typer<1.0,>=0.12->gradio) (13.9.4)\n",
            "Requirement already satisfied: six>=1.5 in /usr/local/lib/python3.11/dist-packages (from python-dateutil>=2.8.2->pandas<3.0,>=1.0->gradio) (1.17.0)\n",
            "Requirement already satisfied: markdown-it-py>=2.2.0 in /usr/local/lib/python3.11/dist-packages (from rich>=10.11.0->typer<1.0,>=0.12->gradio) (3.0.0)\n",
            "Requirement already satisfied: pygments<3.0.0,>=2.13.0 in /usr/local/lib/python3.11/dist-packages (from rich>=10.11.0->typer<1.0,>=0.12->gradio) (2.18.0)\n",
            "Requirement already satisfied: charset-normalizer<4,>=2 in /usr/local/lib/python3.11/dist-packages (from requests->huggingface-hub>=0.28.1->gradio) (3.4.1)\n",
            "Requirement already satisfied: urllib3<3,>=1.21.1 in /usr/local/lib/python3.11/dist-packages (from requests->huggingface-hub>=0.28.1->gradio) (2.3.0)\n",
            "Requirement already satisfied: mdurl~=0.1 in /usr/local/lib/python3.11/dist-packages (from markdown-it-py>=2.2.0->rich>=10.11.0->typer<1.0,>=0.12->gradio) (0.1.2)\n"
          ]
        }
      ],
      "source": [
        "!pip install gradio"
      ]
    },
    {
      "cell_type": "code",
      "execution_count": 108,
      "id": "rXnLRyRPzYep",
      "metadata": {
        "colab": {
          "base_uri": "https://localhost:8080/",
          "height": 612
        },
        "id": "rXnLRyRPzYep",
        "outputId": "f3c52f54-4e5f-478b-9b8f-7b7910a02efb"
      },
      "outputs": [
        {
          "output_type": "stream",
          "name": "stdout",
          "text": [
            "Colab notebook detected. To show errors in colab notebook, set debug=True in launch()\n",
            "* Running on public URL: https://b89c8a64d80eafa180.gradio.live\n",
            "\n",
            "This share link expires in 1 week. For free permanent hosting and GPU upgrades, run `gradio deploy` from the terminal in the working directory to deploy to Hugging Face Spaces (https://huggingface.co/spaces)\n"
          ]
        },
        {
          "output_type": "display_data",
          "data": {
            "text/plain": [
              "<IPython.core.display.HTML object>"
            ],
            "text/html": [
              "<div><iframe src=\"https://b89c8a64d80eafa180.gradio.live\" width=\"100%\" height=\"500\" allow=\"autoplay; camera; microphone; clipboard-read; clipboard-write;\" frameborder=\"0\" allowfullscreen></iframe></div>"
            ]
          },
          "metadata": {}
        },
        {
          "output_type": "execute_result",
          "data": {
            "text/plain": []
          },
          "metadata": {},
          "execution_count": 108
        }
      ],
      "source": [
        "import gradio as gr\n",
        "\n",
        "#css = \".gradio-container {background: white; color:black;}\"\n",
        "\n",
        "css = \"\"\"\n",
        ".gradio-container {background: white; color:black;}\n",
        "h1 {color: white; background: #0097a7; font-weight: normal; font-family: Arial, Helvetica, sans-serif; font-size:40px;}\n",
        "p {color: #0097a7; font-family: Arial, Helvetica, sans-serif; font-size:22px; font-weight: bold;}\n",
        "\"\"\"\n",
        "\n",
        "iface = gr.Interface(\n",
        "    theme = gr.themes.Ocean(),\n",
        "    css=css,\n",
        "    fn=predict_top5,\n",
        "    inputs=[\n",
        "    #     gr.Dropdown(\n",
        "    #     [\"ResNet 34\", \"EfficientNet\"],\n",
        "    #     label=\"Model\",\n",
        "    #     multiselect=False,\n",
        "    # ),\n",
        "            gr.Image(type=\"pil\", label=\"Upload Image\")],\n",
        "    outputs=gr.JSON(label=\"Top 5 Hotel IDs\"),\n",
        "    title=\"Hotel Identification\",\n",
        "    description=\"Upload a hotel room photo and get the top-5 predicted hotel IDs.\"\n",
        ")\n",
        "iface.launch(share=True)\n"
      ]
    }
  ],
  "metadata": {
    "colab": {
      "provenance": []
    },
    "kaggle": {
      "accelerator": "none",
      "dataSources": [
        {
          "databundleVersionId": 4957097,
          "sourceId": 35150,
          "sourceType": "competition"
        },
        {
          "datasetId": 1027206,
          "sourceId": 3951115,
          "sourceType": "datasetVersion"
        },
        {
          "sourceId": 96549317,
          "sourceType": "kernelVersion"
        }
      ],
      "dockerImageVersionId": 31012,
      "isGpuEnabled": false,
      "isInternetEnabled": false,
      "language": "python",
      "sourceType": "notebook"
    },
    "kernelspec": {
      "display_name": "Python 3 (ipykernel)",
      "language": "python",
      "name": "python3"
    },
    "language_info": {
      "codemirror_mode": {
        "name": "ipython",
        "version": 3
      },
      "file_extension": ".py",
      "mimetype": "text/x-python",
      "name": "python",
      "nbconvert_exporter": "python",
      "pygments_lexer": "ipython3",
      "version": "3.11.5"
    },
    "papermill": {
      "default_parameters": {},
      "duration": 26.439236,
      "end_time": "2025-02-28T18:03:48.432524",
      "environment_variables": {},
      "exception": null,
      "input_path": "__notebook__.ipynb",
      "output_path": "__notebook__.ipynb",
      "parameters": {},
      "start_time": "2025-02-28T18:03:21.993288",
      "version": "2.3.4"
    }
  },
  "nbformat": 4,
  "nbformat_minor": 5
}